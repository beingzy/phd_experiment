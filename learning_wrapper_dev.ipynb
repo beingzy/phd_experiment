{
 "cells": [
  {
   "cell_type": "markdown",
   "metadata": {},
   "source": [
    "#### Learning Structure\n",
    "* k: # of groups, or # of containers\n",
    "* one buffer\n",
    "* a member in buffer will be examined against all of newly learned distrance, all quantified distance metrics will be ranked by p-value in descending order. The top distance metrics is the one chosen for the user.\n",
    "* member of a container will be examined for the distance metrics learned for the population. If the member is not cosider enjoy a good fit of the distance metrics, the member will be checked with other alternative distance metris. Until at least one of qualified distance metrics found, the member is sent to the buffer.\n",
    "* overall fit is measured by the following metrics\n",
    "$$\n",
    "f = \\sum_{j = 1}^{k} (\\sum_{i \\in U_{j}} \\text{P-value}(u_i,D_j)_{i} / |U_{j}|) + C \\cdot |\\text{buffer}|\n",
    "$$\n",
    "* $u_i$: $i$th user\n",
    "* $D_j$: the distance metrics learned for $j$th user group\n",
    "* $U_j$: $j$th user group\n",
    "* $|\\cdot|$: size of users in the container\n",
    "* $C$: the parameter determines the strength of penalty for more members in the buffer"
   ]
  },
  {
   "cell_type": "code",
   "execution_count": 9,
   "metadata": {
    "collapsed": true
   },
   "outputs": [],
   "source": [
    "import numpy as np\n",
    "import scipy as sp\n",
    "import pandas as pd"
   ]
  },
  {
   "cell_type": "code",
   "execution_count": 26,
   "metadata": {
    "collapsed": false
   },
   "outputs": [],
   "source": [
    "\"\"\" wrap up the learning iteration\n",
    "\n",
    "functions:\n",
    "----------\n",
    "a. assigning member to fitted group\n",
    "b. test members against all distance metrics rather than its previous group's\n",
    "   [(group_index, pval)]\n",
    "c. sort all \n",
    "\n",
    "\n",
    "Parameters:\n",
    "-----------\n",
    "profile_df: {pandas.DataFrame}\n",
    "networkx: {networkx.Graph}\n",
    "k: {integer}, the target number of groups to learn\n",
    "min_delta_f: {float}, the minimal decrease in f score to continue learning\n",
    "\n",
    "Returns:\n",
    "--------\n",
    "\"\"\"\n",
    "def init_embed_list(n):\n",
    "    \"\"\"\n",
    "    \"\"\"\n",
    "    ls = []\n",
    "    for i in range(n):\n",
    "        ls.append([])\n",
    "    return ls\n",
    "\n",
    "\n",
    "k = 2\n",
    "min_delta_f = 0.001\n",
    "\n",
    "dist_metrics = init_embed_list(k)\n",
    "fit_group = init_embed_list(k)\n",
    "unfit_group = init_embed_list(k)\n",
    "buffer_group = []\n",
    "\n",
    "# *. distance has been learned\n",
    "# *. group composite is inherited from the previous iteration\n",
    "\n",
    "dist_metrics = [[0.1, 0.3, 0.6, 0], [0.5, 0.1, 0.4, 0], [0.1, 0.1,  0.1, 0.7]]\n",
    "fit_group = [[1, 2, 4, 5], [3, 6, 7]]\n",
    " "
   ]
  },
  {
   "cell_type": "code",
   "execution_count": 22,
   "metadata": {
    "collapsed": false
   },
   "outputs": [
    {
     "name": "stdout",
     "output_type": "stream",
     "text": [
      "0.812647087371\n",
      "0.420528851955\n",
      "0.16035846456\n",
      "0.362154524405\n",
      "0.750724034385\n"
     ]
    }
   ],
   "source": [
    "# examine user aginst the group distance metrics\n",
    "# retain members bearing fit\n",
    "# reassign users to unfit_group\n",
    "for i, g in enumerate(fit_group):\n",
    "    for j, u in enumerate(g):\n",
    "        # print \"(%d, %d)\" % (i, u)\n",
    "        pval = np.random.uniform(0, 1, 1)[0]\n",
    "        print pval\n",
    "        if pval > 0.5:\n",
    "            fit_group[i].remove(u)\n",
    "            unfit_group[i].append(u)"
   ]
  },
  {
   "cell_type": "code",
   "execution_count": 27,
   "metadata": {
    "collapsed": false
   },
   "outputs": [
    {
     "name": "stdout",
     "output_type": "stream",
     "text": [
      "[[0.5, 0.1, 0.4, 0], [0.1, 0.1, 0.1, 0.7]]\n",
      "[[0.5, 0.1, 0.4, 0], [0.1, 0.1, 0.1, 0.7]]\n",
      "[[0.5, 0.1, 0.4, 0], [0.1, 0.1, 0.1, 0.7]]\n",
      "[[0.5, 0.1, 0.4, 0], [0.1, 0.1, 0.1, 0.7]]\n",
      "[[0.1, 0.3, 0.6, 0], [0.1, 0.1, 0.1, 0.7]]\n",
      "[[0.1, 0.3, 0.6, 0], [0.1, 0.1, 0.1, 0.7]]\n",
      "[[0.1, 0.3, 0.6, 0], [0.1, 0.1, 0.1, 0.7]]\n"
     ]
    }
   ],
   "source": [
    "# fit_group\n",
    "# unfit_group\n",
    "for i, g in enumerate(fit_group):\n",
    "    comp_dist = dist_metrics[:i] + dist_metrics[(i + 1):]\n",
    "    for j, u in enumerate(g):\n",
    "        print comp_dist"
   ]
  },
  {
   "cell_type": "code",
   "execution_count": null,
   "metadata": {
    "collapsed": true
   },
   "outputs": [],
   "source": []
  }
 ],
 "metadata": {
  "kernelspec": {
   "display_name": "Python 2",
   "language": "python",
   "name": "python2"
  },
  "language_info": {
   "codemirror_mode": {
    "name": "ipython",
    "version": 2
   },
   "file_extension": ".py",
   "mimetype": "text/x-python",
   "name": "python",
   "nbconvert_exporter": "python",
   "pygments_lexer": "ipython2",
   "version": "2.7.9"
  }
 },
 "nbformat": 4,
 "nbformat_minor": 0
}
