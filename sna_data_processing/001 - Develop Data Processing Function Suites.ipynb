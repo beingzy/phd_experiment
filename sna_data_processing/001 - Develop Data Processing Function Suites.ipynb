{
 "cells": [
  {
   "cell_type": "code",
   "execution_count": 1,
   "metadata": {
    "collapsed": false
   },
   "outputs": [
    {
     "data": {
      "text/plain": [
       "'%.4f'"
      ]
     },
     "execution_count": 1,
     "metadata": {},
     "output_type": "execute_result"
    }
   ],
   "source": [
    "import os\n",
    "import sys\n",
    "import csv\n",
    "import numpy as np\n",
    "import scipy as sp\n",
    "import pandas as pd\n",
    "import sklearn as sk\n",
    "\n",
    "import matplotlib.pyplot as plt\n",
    "import seaborn as sns\n",
    "\n",
    "%matplotlib inline\n",
    "%precision 4"
   ]
  },
  {
   "cell_type": "code",
   "execution_count": 2,
   "metadata": {
    "collapsed": true
   },
   "outputs": [],
   "source": [
    "_ROOT_DIR = os.getcwd()\n",
    "_DATA_DIR = os.path.join(_ROOT_DIR, 'data')\n",
    "_GPLUS_PATH = os.path.join(_DATA_DIR, 'gplus')\n",
    "_FB_PATH = os.path.join(_DATA_DIR, 'facebook')"
   ]
  },
  {
   "cell_type": "code",
   "execution_count": 12,
   "metadata": {
    "collapsed": false
   },
   "outputs": [
    {
     "name": "stdout",
     "output_type": "stream",
     "text": [
      "facebook\n",
      "readme-Ego.txt\n"
     ]
    }
   ],
   "source": [
    "!ls C:\\Users\\A605739\\Dropbox\\phd\\phd_experiment\\sna_data_processing\\data\\facebook"
   ]
  },
  {
   "cell_type": "markdown",
   "metadata": {},
   "source": [
    "A package of SNAP social network data is consisted of a several sets of data files, each of which reprsents a circle:\n",
    "* circles\n",
    "* edges\n",
    "* egofeat\n",
    "* feat\n",
    "* featnames\n",
    "* followers (only for Google+)\n",
    "\n",
    "The objective of the output is to consolidate the information scattered across different files into a single data table."
   ]
  },
  {
   "cell_type": "code",
   "execution_count": 15,
   "metadata": {
    "collapsed": false
   },
   "outputs": [
    {
     "name": "stdout",
     "output_type": "stream",
     "text": [
      "the total of circles in GPlus: 132\n",
      "the total of circles in Facebook: 10\n"
     ]
    }
   ],
   "source": [
    "gp_file_group_ids = pd.Series(os.listdir(_GPLUS_PATH)).apply(lambda x: x.split('.')[0]).unique().tolist()\n",
    "print( \"the total of circles in GPlus: {}\".format(len(gp_file_group_ids)) )\n",
    "\n",
    "fb_file_group_ids = pd.Series(os.listdir(_FB_PATH)).apply(lambda x: x.split('.')[0]).unique().tolist()\n",
    "print( \"the total of circles in Facebook: {}\".format(len(fb_file_group_ids)) )"
   ]
  },
  {
   "cell_type": "code",
   "execution_count": null,
   "metadata": {
    "collapsed": true
   },
   "outputs": [],
   "source": [
    "def feat_extractor(line, group_id):\n",
    "    items = line.replace(\"anonymized feature\", \"\").split(\" \")\n",
    "    position = int(items[0])\n",
    "    feature = items[1][:-1].replace(\";\", \"_\")\n",
    "    value = int(items[2]) \n",
    "    return {\"group\":int(group_id), \"position\":int(position), \\\n",
    "            \"feature\":feature, \"value\":int(value)}\n",
    "\n",
    "def profile_extracttor(line, circle_id, feat_dict):\n",
    "    \"\"\"Convert text line (from .feat data) to dictionary\"\"\"\n",
    "    if isinstance(circle_id, str):\n",
    "        circle_id = int(circle_id)\n",
    "    items = line.split(\" \")\n",
    "    user_idx, feature = items[0], list(map(int, items[1:]))\n",
    "    nonzero_feat_idx = [i for i, val in enumerate(feature) if val == 1]\n",
    "    feat_dict = feat_dict.ix[feat_dict[\"group\"]==circle_id,\\\n",
    "                             [\"feature\", \"position\", \"value\"]]\n",
    "    feat_profile =  {row[0]: row[1] \\\n",
    "           for i, row in feat_dict.iterrows() \\\n",
    "           if row[1] in nonzero_feat_idx}\n",
    "    user_id = \"-\".join((str(circle_id), str(user_idx)))\n",
    "    return {\"user_id\": user_id, \"num_filled_feature\": len(feat_profile), \"profile\":feat_profile}"
   ]
  },
  {
   "cell_type": "code",
   "execution_count": 20,
   "metadata": {
    "collapsed": false
   },
   "outputs": [
    {
     "name": "stdout",
     "output_type": "stream",
     "text": [
      "The number of feature of 0 file group: 224\n",
      "The number of feature of 107 file group: 576\n",
      "The number of feature of 1684 file group: 319\n",
      "The number of feature of 1912 file group: 480\n",
      "The number of feature of 3437 file group: 262\n",
      "The number of feature of 348 file group: 161\n",
      "The number of feature of 3980 file group: 42\n",
      "The number of feature of 414 file group: 105\n",
      "The number of feature of 686 file group: 63\n",
      "The number of feature of 698 file group: 48\n"
     ]
    }
   ],
   "source": [
    "for ii, file_group in enumerate(fb_file_group_ids):\n",
    "    # display the number features in *.feat\n",
    "    file_path = os.path.join(_FB_PATH, file_group+'.featnames')\n",
    "    table = pd.read_csv(file_path, header=None)\n",
    "    print(\"The number of feature of {} file group: {}\".format(file_group, table.shape[0]))"
   ]
  },
  {
   "cell_type": "code",
   "execution_count": 30,
   "metadata": {
    "collapsed": true
   },
   "outputs": [],
   "source": [
    "file_group = fb_file_group_ids[0]\n",
    "\n",
    "feat_fpath = os.path.join(_FB_PATH, file_group+'.feat')\n",
    "featnames_fpath = os.path.join(_FB_PATH, file_group+'.featnames')"
   ]
  },
  {
   "cell_type": "code",
   "execution_count": 26,
   "metadata": {
    "collapsed": false
   },
   "outputs": [
    {
     "data": {
      "text/html": [
       "<div>\n",
       "<table border=\"1\" class=\"dataframe\">\n",
       "  <thead>\n",
       "    <tr style=\"text-align: right;\">\n",
       "      <th></th>\n",
       "      <th>0</th>\n",
       "      <th>1</th>\n",
       "      <th>2</th>\n",
       "      <th>3</th>\n",
       "      <th>4</th>\n",
       "      <th>5</th>\n",
       "      <th>6</th>\n",
       "      <th>7</th>\n",
       "      <th>8</th>\n",
       "      <th>9</th>\n",
       "      <th>...</th>\n",
       "      <th>215</th>\n",
       "      <th>216</th>\n",
       "      <th>217</th>\n",
       "      <th>218</th>\n",
       "      <th>219</th>\n",
       "      <th>220</th>\n",
       "      <th>221</th>\n",
       "      <th>222</th>\n",
       "      <th>223</th>\n",
       "      <th>224</th>\n",
       "    </tr>\n",
       "  </thead>\n",
       "  <tbody>\n",
       "    <tr>\n",
       "      <th>0</th>\n",
       "      <td>1</td>\n",
       "      <td>0</td>\n",
       "      <td>0</td>\n",
       "      <td>0</td>\n",
       "      <td>0</td>\n",
       "      <td>0</td>\n",
       "      <td>0</td>\n",
       "      <td>0</td>\n",
       "      <td>0</td>\n",
       "      <td>0</td>\n",
       "      <td>...</td>\n",
       "      <td>0</td>\n",
       "      <td>0</td>\n",
       "      <td>0</td>\n",
       "      <td>0</td>\n",
       "      <td>0</td>\n",
       "      <td>0</td>\n",
       "      <td>0</td>\n",
       "      <td>0</td>\n",
       "      <td>0</td>\n",
       "      <td>0</td>\n",
       "    </tr>\n",
       "    <tr>\n",
       "      <th>1</th>\n",
       "      <td>2</td>\n",
       "      <td>0</td>\n",
       "      <td>0</td>\n",
       "      <td>0</td>\n",
       "      <td>0</td>\n",
       "      <td>0</td>\n",
       "      <td>0</td>\n",
       "      <td>0</td>\n",
       "      <td>0</td>\n",
       "      <td>0</td>\n",
       "      <td>...</td>\n",
       "      <td>0</td>\n",
       "      <td>0</td>\n",
       "      <td>0</td>\n",
       "      <td>0</td>\n",
       "      <td>0</td>\n",
       "      <td>0</td>\n",
       "      <td>0</td>\n",
       "      <td>0</td>\n",
       "      <td>0</td>\n",
       "      <td>0</td>\n",
       "    </tr>\n",
       "    <tr>\n",
       "      <th>2</th>\n",
       "      <td>3</td>\n",
       "      <td>0</td>\n",
       "      <td>0</td>\n",
       "      <td>0</td>\n",
       "      <td>0</td>\n",
       "      <td>0</td>\n",
       "      <td>0</td>\n",
       "      <td>0</td>\n",
       "      <td>1</td>\n",
       "      <td>0</td>\n",
       "      <td>...</td>\n",
       "      <td>0</td>\n",
       "      <td>0</td>\n",
       "      <td>0</td>\n",
       "      <td>1</td>\n",
       "      <td>0</td>\n",
       "      <td>0</td>\n",
       "      <td>0</td>\n",
       "      <td>0</td>\n",
       "      <td>0</td>\n",
       "      <td>0</td>\n",
       "    </tr>\n",
       "    <tr>\n",
       "      <th>3</th>\n",
       "      <td>4</td>\n",
       "      <td>0</td>\n",
       "      <td>0</td>\n",
       "      <td>0</td>\n",
       "      <td>0</td>\n",
       "      <td>0</td>\n",
       "      <td>0</td>\n",
       "      <td>0</td>\n",
       "      <td>0</td>\n",
       "      <td>0</td>\n",
       "      <td>...</td>\n",
       "      <td>0</td>\n",
       "      <td>0</td>\n",
       "      <td>0</td>\n",
       "      <td>0</td>\n",
       "      <td>0</td>\n",
       "      <td>0</td>\n",
       "      <td>0</td>\n",
       "      <td>0</td>\n",
       "      <td>0</td>\n",
       "      <td>0</td>\n",
       "    </tr>\n",
       "    <tr>\n",
       "      <th>4</th>\n",
       "      <td>5</td>\n",
       "      <td>0</td>\n",
       "      <td>0</td>\n",
       "      <td>0</td>\n",
       "      <td>0</td>\n",
       "      <td>0</td>\n",
       "      <td>0</td>\n",
       "      <td>0</td>\n",
       "      <td>0</td>\n",
       "      <td>0</td>\n",
       "      <td>...</td>\n",
       "      <td>0</td>\n",
       "      <td>0</td>\n",
       "      <td>0</td>\n",
       "      <td>0</td>\n",
       "      <td>0</td>\n",
       "      <td>0</td>\n",
       "      <td>0</td>\n",
       "      <td>0</td>\n",
       "      <td>0</td>\n",
       "      <td>0</td>\n",
       "    </tr>\n",
       "  </tbody>\n",
       "</table>\n",
       "<p>5 rows × 225 columns</p>\n",
       "</div>"
      ],
      "text/plain": [
       "   0    1    2    3    4    5    6    7    8    9   ...   215  216  217  218  \\\n",
       "0    1    0    0    0    0    0    0    0    0    0 ...     0    0    0    0   \n",
       "1    2    0    0    0    0    0    0    0    0    0 ...     0    0    0    0   \n",
       "2    3    0    0    0    0    0    0    0    1    0 ...     0    0    0    1   \n",
       "3    4    0    0    0    0    0    0    0    0    0 ...     0    0    0    0   \n",
       "4    5    0    0    0    0    0    0    0    0    0 ...     0    0    0    0   \n",
       "\n",
       "   219  220  221  222  223  224  \n",
       "0    0    0    0    0    0    0  \n",
       "1    0    0    0    0    0    0  \n",
       "2    0    0    0    0    0    0  \n",
       "3    0    0    0    0    0    0  \n",
       "4    0    0    0    0    0    0  \n",
       "\n",
       "[5 rows x 225 columns]"
      ]
     },
     "execution_count": 26,
     "metadata": {},
     "output_type": "execute_result"
    }
   ],
   "source": [
    "# get featnames\n",
    "feat_df = pd.read_csv(feat_fpath, header=None, sep=\" \")\n",
    "feat_df.head()"
   ]
  },
  {
   "cell_type": "code",
   "execution_count": 89,
   "metadata": {
    "collapsed": false
   },
   "outputs": [],
   "source": [
    "def featnames_df_proc(file_path):\n",
    "    \"\"\" process .featnames file to clean the data and keep\n",
    "        the processed data in dataframe(index, feat_name, value)\n",
    "    \"\"\"\n",
    "    import re\n",
    "\n",
    "    items = []\n",
    "    with open(file_path, mode='r', encoding='utf-8') as f:\n",
    "        for line in f.readlines():\n",
    "            line = line.replace(\"anonymized feature\", \"\").strip()\n",
    "            comps = re.split(\" \", line)\n",
    "            idx, featname, val = comps[0], comps[1], comps[2]\n",
    "            idx = int(idx)\n",
    "            featname = featname[:-1].replace(\";\", \"_\")\n",
    "            val = int(val.split(\" \")[-1])\n",
    "            item = {'index': idx, 'feat_name': featname, 'value': val}\n",
    "            items.append(item)\n",
    "        \n",
    "    featname_df = pd.DataFrame(items)\n",
    "    return featname_df\n",
    "\n",
    "def feat_list_proc(file_path, featname_df, prefix=\"\"):\n",
    "    \"\"\" convert dummy variable form dataframe \n",
    "        into list of user's profile, stored as dictionary of featname:value\n",
    "        \n",
    "        Arguments:\n",
    "        ==========\n",
    "        * file_path: <string>\n",
    "        * featname_df: <pandas.DataFrame>\n",
    "        * prefix: <string>\n",
    "    \"\"\"\n",
    "    def pair_key_value(x):\n",
    "        \"\"\"create key:value pair string\"\"\"\n",
    "        x = [str(ii) for ii in x]\n",
    "        return \":\".join(x)\n",
    "\n",
    "    featname_columns = ['feat_name', 'value']\n",
    "\n",
    "    users = []\n",
    "    with open(feat_fpath, mode='r', encoding='utf-8') as f:\n",
    "        for line in f.readlines():\n",
    "            line = line.strip()\n",
    "            comps = line.split(' ')\n",
    "            uid, feat_codes = comps[0], comps[1:]\n",
    "        \n",
    "            nzero_idx = [ii for ii, val in enumerate(feat_codes) if val != '0']\n",
    "            kv_pairs = featname_df.loc[nzero_idx, featname_columns].apply(pair_key_value, axis=1).tolist()\n",
    "            profile = {kv for kv in kv_pairs}\n",
    "        \n",
    "            if prefix != \"\": \n",
    "                uid = prefix + '_' + uid\n",
    "                \n",
    "            user = {'uid':uid, 'profile':profile}\n",
    "            users.append(user)\n",
    "        \n",
    "    return users"
   ]
  },
  {
   "cell_type": "code",
   "execution_count": 121,
   "metadata": {
    "collapsed": false
   },
   "outputs": [],
   "source": [
    "file_group = fb_file_group_ids[0]\n",
    "\n",
    "feat_fpath = os.path.join(_FB_PATH, file_group+'.feat')\n",
    "featnames_fpath = os.path.join(_FB_PATH, file_group+'.featnames')\n",
    "\n",
    "featname_df = featnames_df_proc(featnames_fpath)\n",
    "user_profile_list = feat_list_proc(feat_fpath, featname_df, prefix=file_group)"
   ]
  }
 ],
 "metadata": {
  "kernelspec": {
   "display_name": "Python 3",
   "language": "python",
   "name": "python3"
  },
  "language_info": {
   "codemirror_mode": {
    "name": "ipython",
    "version": 3
   },
   "file_extension": ".py",
   "mimetype": "text/x-python",
   "name": "python",
   "nbconvert_exporter": "python",
   "pygments_lexer": "ipython3",
   "version": "3.5.0"
  }
 },
 "nbformat": 4,
 "nbformat_minor": 0
}
