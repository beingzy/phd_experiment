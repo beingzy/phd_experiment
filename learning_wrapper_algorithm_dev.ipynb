{
 "cells": [
  {
   "cell_type": "markdown",
   "metadata": {},
   "source": [
    "Develop learning_wrapper algorithm\n",
    "\n",
    "Utilize the combinations of UserBatch (class) and learning_dist_metrics"
   ]
  },
  {
   "cell_type": "markdown",
   "metadata": {},
   "source": [
    "[pseudocode active weighting vector learning algorithm]\n",
    "*step 1*: compute the aggregate distance information with argument of weighting vector [w]:\n",
    "        a. sum of weighted distances of friends\n",
    "        b. sum of weighted distances of non-friends\n",
    "                               \n",
    "*step 2*: argmin( [w] ) = sum(distances of same class) / sum(distances of different classes)\n",
    " \n",
    "*step 3*: test hypothesis that location difference between friend-distance distribution\n",
    "        vs. non-friend distance per user\n",
    "                               \n",
    "*step 4*: group users based on the previous test (paramer: distribution type, compared non-friend sample size):\n",
    "        a. a user is assigned to group 1, if its two-type distance distributions location\n",
    "           are significantly different;\n",
    "        b. a user is assigned to group 2, if its two-type distance distributions location\n",
    "           are not significantly different.\n",
    "               \n",
    "*step 5*: apply the 1-4 steps on users of group 1, split users of this group into: group 1 (with siganificant\n",
    "        difference) and group 3 (with insignificant difference);\n",
    "        Similiarly, apply 1-4 steps on users of group 2, split users of this group into: group 2 (with significant\n",
    "        difference) and group 3 (with insignificant diference).\n",
    " \n",
    "*step 6*: repeat 5th step until the stoping threshold is met:\n",
    "        a. fixed iteration, or;\n",
    "        b. insubstantial change in either weighting vector, or;\n",
    "        c. insubstantial change in members in group 1-3."
   ]
  },
  {
   "cell_type": "code",
   "execution_count": 1,
   "metadata": {
    "collapsed": false
   },
   "outputs": [],
   "source": [
    "import os\n",
    "import sys\n",
    "import glob\n",
    "\n",
    "import numpy as np\n",
    "import scipy as sp\n",
    "import pandas as pd\n",
    "\n",
    "from learning_dist_metrics.ldm import LDM\n",
    "from learning_dist_metrics.datasets import load_data\n",
    "from UserBatch import SimScore, WeightedEuclidean, UserBatch\n",
    "\n",
    "import matplotlib.pyplot as plt\n",
    "%matplotlib inline"
   ]
  },
  {
   "cell_type": "markdown",
   "metadata": {},
   "source": [
    "load the simulate data sets, the frienships were generated based on \"hand-shaking\" protocol."
   ]
  },
  {
   "cell_type": "code",
   "execution_count": 2,
   "metadata": {
    "collapsed": false
   },
   "outputs": [],
   "source": [
    "DATA_PATH = \"./data/sim_data_yi/\" \n",
    "\n",
    "users_df   = pd.read_csv(DATA_PATH + \"users_profile.csv\", header = 0, sep = \",\")\n",
    "friends_df = pd.read_csv(DATA_PATH + \"friendships.csv\", header = 0, sep = \",\")\n",
    "dist_df    = pd.read_csv(DATA_PATH + \"dist_mat.csv\", header = 0, sep = \",\")"
   ]
  },
  {
   "cell_type": "code",
   "execution_count": 3,
   "metadata": {
    "collapsed": false
   },
   "outputs": [
    {
     "data": {
      "text/html": [
       "<div style=\"max-height:1000px;max-width:1500px;overflow:auto;\">\n",
       "<table border=\"1\" class=\"dataframe\">\n",
       "  <thead>\n",
       "    <tr style=\"text-align: right;\">\n",
       "      <th></th>\n",
       "      <th>pair</th>\n",
       "      <th>uid_a</th>\n",
       "      <th>uid_b</th>\n",
       "    </tr>\n",
       "  </thead>\n",
       "  <tbody>\n",
       "    <tr>\n",
       "      <th>1</th>\n",
       "      <td>(0, 2)</td>\n",
       "      <td>0</td>\n",
       "      <td>2</td>\n",
       "    </tr>\n",
       "    <tr>\n",
       "      <th>3</th>\n",
       "      <td>(0, 4)</td>\n",
       "      <td>0</td>\n",
       "      <td>4</td>\n",
       "    </tr>\n",
       "    <tr>\n",
       "      <th>4</th>\n",
       "      <td>(0, 5)</td>\n",
       "      <td>0</td>\n",
       "      <td>5</td>\n",
       "    </tr>\n",
       "  </tbody>\n",
       "</table>\n",
       "</div>"
      ],
      "text/plain": [
       "     pair  uid_a  uid_b\n",
       "1  (0, 2)      0      2\n",
       "3  (0, 4)      0      4\n",
       "4  (0, 5)      0      5"
      ]
     },
     "execution_count": 3,
     "metadata": {},
     "output_type": "execute_result"
    }
   ],
   "source": [
    "## friends_df is processed\n",
    "## a. create a new column to denote the user pair\n",
    "## b. exclude user-pair of non-friends\n",
    "## c. drop the 'isFriend' columns\n",
    "friends_df = friends_df[friends_df.isFriend == 1]\n",
    "friends_df[\"pair\"] = friends_df[[\"uid_a\", \"uid_b\"]].apply(lambda x: (int(x[0]), int(x[1])), axis=1)\n",
    "friends_df.drop(\"isFriend\", axis=1, inplace=True)\n",
    "friends_df = friends_df[[\"pair\", \"uid_a\", \"uid_b\"]]\n",
    "friends_df.head(3)"
   ]
  },
  {
   "cell_type": "code",
   "execution_count": 4,
   "metadata": {
    "collapsed": false
   },
   "outputs": [
    {
     "name": "stdout",
     "output_type": "stream",
     "text": [
      "--- 28.0377209187 seconds ---\n"
     ]
    },
    {
     "data": {
      "text/plain": [
       "<learning_dist_metrics.ldm.LDM at 0x7fbe38fe0a50>"
      ]
     },
     "execution_count": 4,
     "metadata": {},
     "output_type": "execute_result"
    }
   ],
   "source": [
    "cols = [\"x0\", \"x1\", \"x2\", \"x3\", \"x4\", \"x5\"]\n",
    "\n",
    "## subset users data to retain profile only\n",
    "profile_df = users_df[[\"ID\"] + cols]\n",
    "\n",
    "ldm = LDM()\n",
    "ldm.fit(users_df[cols], friends_df.pair.as_matrix())"
   ]
  },
  {
   "cell_type": "code",
   "execution_count": 7,
   "metadata": {
    "collapsed": false
   },
   "outputs": [
    {
     "name": "stdout",
     "output_type": "stream",
     "text": [
      "[0.39, 0.61, 0.0, 0.0, 0.0, 0.0]\n"
     ]
    }
   ],
   "source": [
    "all_user_ids = list(set(users_df.ID))\n",
    "the_weights = ldm.get_transform_matrix()\n",
    "print the_weights"
   ]
  },
  {
   "cell_type": "markdown",
   "metadata": {},
   "source": [
    "#### learning wrapper functions\n",
    "* user_grouped_dist()\n",
    "* user_dist_kstest()\n",
    "* users_filter_by_weights()\n",
    "* ldm_train_with_list"
   ]
  },
  {
   "cell_type": "code",
   "execution_count": null,
   "metadata": {
    "collapsed": true
   },
   "outputs": [],
   "source": [
    "def user_grouped_dist(user_id, weights, profile_df, friends_df):\n",
    "    \"\"\" Calculate distances between a user and whose friends\n",
    "        and distance between a user and whose non-friends.\n",
    "        The groupped distance vector will be output.\n",
    "\n",
    "        Parameters:\n",
    "        ----------\n",
    "        * user_id: {integer}, the target user's ID\n",
    "        * weights: {vector-like, float}, the vector of feature weights which\n",
    "            is extracted by LDM().fit(x, y).get_transform_matrix()\n",
    "        * profile_df: {matrix-like, pandas.DataFrame}, user profile dataframe\n",
    "            with columns: [\"ID\", \"x0\" - \"xn\"]\n",
    "        * friends_df: {matrix-like, pandas.DataFrame}, pandas.DataFrame store\n",
    "            pair of user ID(s) to represent connections with columns:\n",
    "            [\"uid_a\", \"uid_b\"]\n",
    "\n",
    "        Returns:\n",
    "        -------\n",
    "        res: {list, list of integers}, a list of two lists, which store the distances\n",
    "            of either friends and non-friends separately.\n",
    "\n",
    "        Examples:\n",
    "        ---------\n",
    "        weights = ldm().fit(df, friends_list).get_transform_matrix()\n",
    "        profile_df = users_df[ [\"ID\"] + cols ]\n",
    "        user_dist = user_grouped_dist(user_id = 0, weights = weights\n",
    "            , profile_df, friends_df)\n",
    "        print user_dist[\"friends\"]\n",
    "        print user_dist[\"nonfriends\"]\n",
    "    \"\"\"\n",
    "    cols = [col for col in profile_df.columns if col is not \"ID\"]\n",
    "    # get the user profile information of the target users\n",
    "    user_profile = profile_df.ix[profile_df.ID == user_id, cols].as_matrix()\n",
    "    # get the user_id of friends of the target user\n",
    "    friends_ls_a = friends_df[friends_df.uid_a == user_id].uid_b.as_matrix()\n",
    "    friends_ls_b = friends_df[friends_df.uid_b == user_id].uid_a.as_matrix()\n",
    "    friends_ls = list(set(friends_ls_a)) + list(set(friends_ls_b))\n",
    "    # calculate the weighted distance of friends\n",
    "    sim_dist_vec = []\n",
    "    for f_id in friends_ls:\n",
    "        friend_profile = profile_df.ix[profile_df.ID == f_id, cols].as_matrix()\n",
    "        the_dist = weighted_euclidean(user_profile, friend_profile, weights)\n",
    "        sim_dist_vec.append(the_dist)\n",
    "    # calculate the weighted distances of non-friends\n",
    "    non_friends_ls = [ u for u in profile_df.ID if u not in friends_ls + [user_id] ]\n",
    "    diff_dist_vec = []\n",
    "    for nf_id in non_friends_ls:\n",
    "        nonfriend_profile = profile_df.ix[profile_df.ID == nf_id, cols].as_matrix()\n",
    "        the_dist = weighted_euclidean(user_profile, nonfriend_profile, weights)\n",
    "        diff_dist_vec.append(the_dist)\n",
    "\n",
    "    res = [sim_dist_vec, diff_dist_vec]\n",
    "    return res\n",
    "\n",
    "\n",
    "def user_dist_kstest(sim_dist_vec, diff_dist_vec):\n",
    "    \"\"\" Test the goodness of a given weights to defferentiate friend distance\n",
    "        distributions and non-friend distance distributions of a given user.\n",
    "        The distance distribution is considered to follow Rayleigh distribution.\n",
    "\n",
    "        Parameters:\n",
    "        ----------\n",
    "        * sim_dist_vec: {vector-like (list), float}: distances between friends\n",
    "            and the user\n",
    "        * diff_dist_vec: {vector-like (list), float}: distances between non-friends\n",
    "            and the user\n",
    "\n",
    "        Returns:\n",
    "        -------\n",
    "        * res: {float}: p-value of ks-test with assumption that distances follow\n",
    "            Rayleigh distribution.\n",
    "\n",
    "        Examples:\n",
    "        ---------\n",
    "        pval = user_dist_kstest(sim_dist_vec, diff_dist_vec)\n",
    "    \"\"\"\n",
    "    _n = 100\n",
    "    friend_param = rayleigh.fit(sim_dist_vec)\n",
    "    nonfriend_param = rayleigh.fit(diff_dist_vec)\n",
    "\n",
    "    samp_friend = rayleigh.rvs(friend_param[0], friend_param[1], _n)\n",
    "    samp_nonfriend = rayleigh.rvs(nonfriend_param[0], nonfriend_param[1], _n)\n",
    "\n",
    "    ## ouput p-value of ks-test\n",
    "    res = ks_2samp(samp_friend, samp_nonfriend)[1]\n",
    "    return res\n",
    "\n",
    "\n",
    "def users_filter_by_weights(weights, profile_df, friends_df,\n",
    "                            pval_threshold=0.20, min_friend_cnt=10):\n",
    "    \"\"\" Split a list of users into two groups, \"good fit group\"(reject) and\n",
    "        \"invalid group\", with respect to the ks-test on the null hypothesis\n",
    "        that friends' weighted distance is not significantly different from the\n",
    "        couterpart of non-friends. Assume the weighted distances of each group\n",
    "        follow Rayleigh distribution.\n",
    "\n",
    "        Parameters:\n",
    "        ----------\n",
    "        * weights: {vector-like, float}, the vector of feature weights which\n",
    "            is extracted by LDM().fit(x, y).get_transform_matrix()\n",
    "        * profile_df: {matrix-like, pandas.DataFrame}, user profile dataframe\n",
    "            with columns: [\"ID\", \"x0\" - \"xn\"]\n",
    "        * friends_df: {matrix-like, pandas.DataFrame}, pandas.DataFrame store\n",
    "            pair of user ID(s) to represent connections with columns:\n",
    "            [\"uid_a\", \"uid_b\"]\n",
    "        * pval_threshold: {float}, the threshold for p-value to reject hypothesis\n",
    "        * min_friend_cnt: {integer}, drop users whose total of friends is less\n",
    "            than this minimum count\n",
    "\n",
    "        Returns:\n",
    "        -------\n",
    "        res: {list} grouped list of user ids\n",
    "           res[0] stores all users whose null hypothesis does not holds\n",
    "           res[1] stores all users whose null hypothesis hold\n",
    "           null hypothesis, given weights, distance distribution of all friends\n",
    "           is significantly different from distance distribution of all non-fri\n",
    "           -ends\n",
    "\n",
    "        Examples:\n",
    "        --------\n",
    "        weights = ldm().fit(df, friends_list).get_transform_matrix()\n",
    "        profile_df = users_df[[\"ID\", cols]]\n",
    "        grouped_users = users_filter_by_weights(weights,\n",
    "                            profile_df, friends_df,\n",
    "                            pval_threshold = 0.10, min_friend_cnt = 10)\n",
    "\n",
    "        Notes:\n",
    "        -----\n",
    "        min_friend_cnt is not implemented\n",
    "    \"\"\"\n",
    "\n",
    "    all_users_ids = list(set(profile_df.ID))\n",
    "    # container for users meeting different critiria\n",
    "    good_fits = []\n",
    "    bad_fits = []\n",
    "    for uid in all_users_ids:\n",
    "        res_dists = user_grouped_dist(uid, weights, profile_df, friends_df)\n",
    "        pval = user_dist_kstest(res_dists[0], res_dists[1])\n",
    "        if pval <= pval_threshold:\n",
    "            good_fits.append(uid)\n",
    "        else:\n",
    "            bad_fits.append(uid)\n",
    "\n",
    "    res = [good_fits, bad_fits]\n",
    "    return res\n",
    "\n",
    "def ldm_train_with_list(users_list, ldm,\n",
    "                        profile_df, friends_df,\n",
    "                        retain_type=0):\n",
    "    \"\"\" learning distance matrics with ldm() instance, provided\n",
    "        with selected list of users.\n",
    "\n",
    "        Parameters:\n",
    "        -----------\n",
    "        * users_list: {vector-like, integer}, the list of user id\n",
    "        * ldm: {object}, LMD() object\n",
    "        * profile_df: {matrix-like, pandas.DataFrame}, user profile dataframe\n",
    "            with columns: [\"ID\", \"x0\" - \"xn\"]\n",
    "        * friends_df: {matrix-like, pandas.DataFrame}, pandas.DataFrame store\n",
    "            pair of user ID(s) to represent connections with columns:\n",
    "            [\"uid_a\", \"uid_b\"]\n",
    "        * retain_type: {integer}, 0, adopting 'or' logic by keeping relation\n",
    "            -ship in friends_df if either of entities is in user_list\n",
    "            1, adopting 'and' logic\n",
    "\n",
    "        Returns:\n",
    "        -------\n",
    "        res: {vector-like, float}, output of ldm.get_transform_matrix()\n",
    "\n",
    "        Examples:\n",
    "        ---------\n",
    "        new_ldm = LDM()\n",
    "        new_dist_metrics = ldm_train_with_list(user_list, new_ldm,\n",
    "                                               profile_df,\n",
    "                                               friends_df)\n",
    "    \"\"\"\n",
    "\n",
    "    if retain_type == 0:\n",
    "        friends_df = friends_df.ix[friends_df.uid_a.isin(users_list) |\n",
    "                                   friends_df.uid_b.isin(users_list)]\n",
    "    else:\n",
    "        friends_df = friends_df.ix[friends_df.uid_a.isin(users_list) &\n",
    "                                   friends_df.uid_b.isin(users_list)]\n",
    "\n",
    "    cols = profile_df.columns.drop(\"ID\")\n",
    "    ldm.fit(profile_df[cols], friends_df.pair.as_matrix())\n",
    "    return ldm.get_transform_matrix()\n"
   ]
  }
 ],
 "metadata": {
  "kernelspec": {
   "display_name": "Python 2",
   "language": "python",
   "name": "python2"
  },
  "language_info": {
   "codemirror_mode": {
    "name": "ipython",
    "version": 2
   },
   "file_extension": ".py",
   "mimetype": "text/x-python",
   "name": "python",
   "nbconvert_exporter": "python",
   "pygments_lexer": "ipython2",
   "version": "2.7.9"
  }
 },
 "nbformat": 4,
 "nbformat_minor": 0
}
