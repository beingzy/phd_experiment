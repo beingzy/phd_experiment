{
 "cells": [
  {
   "cell_type": "markdown",
   "metadata": {},
   "source": [
    "Develop learning_wrapper algorithm\n",
    "\n",
    "Utilize the combinations of UserBatch (class) and learning_dist_metrics"
   ]
  },
  {
   "cell_type": "markdown",
   "metadata": {},
   "source": [
    "[pseudocode active weighting vector learning algorithm]\n",
    "*step 1*: compute the aggregate distance information with argument of weighting vector [w]:\n",
    "        a. sum of weighted distances of friends\n",
    "        b. sum of weighted distances of non-friends\n",
    "                               \n",
    "*step 2*: argmin( [w] ) = sum(distances of same class) / sum(distances of different classes)\n",
    " \n",
    "*step 3*: test hypothesis that location difference between friend-distance distribution\n",
    "        vs. non-friend distance per user\n",
    "                               \n",
    "*step 4*: group users based on the previous test (paramer: distribution type, compared non-friend sample size):\n",
    "        a. a user is assigned to group 1, if its two-type distance distributions location\n",
    "           are significantly different;\n",
    "        b. a user is assigned to group 2, if its two-type distance distributions location\n",
    "           are not significantly different.\n",
    "               \n",
    "*step 5*: apply the 1-4 steps on users of group 1, split users of this group into: group 1 (with siganificant\n",
    "        difference) and group 3 (with insignificant difference);\n",
    "        Similiarly, apply 1-4 steps on users of group 2, split users of this group into: group 2 (with significant\n",
    "        difference) and group 3 (with insignificant diference).\n",
    " \n",
    "*step 6*: repeat 5th step until the stoping threshold is met:\n",
    "        a. fixed iteration, or;\n",
    "        b. insubstantial change in either weighting vector, or;\n",
    "        c. insubstantial change in members in group 1-3."
   ]
  },
  {
   "cell_type": "code",
   "execution_count": 18,
   "metadata": {
    "collapsed": false
   },
   "outputs": [],
   "source": [
    "import os\n",
    "import sys\n",
    "import glob\n",
    "\n",
    "import numpy as np\n",
    "import scipy as sp\n",
    "import pandas as pd\n",
    "\n",
    "from learning_dist_metrics.ldm import LDM\n",
    "from learning_dist_metrics.datasets import load_data\n",
    "from UserBatch import SimScore, WeightedEuclidean, UserBatch\n",
    "\n",
    "import matplotlib.pyplot as plt\n",
    "%matplotlib inline"
   ]
  },
  {
   "cell_type": "markdown",
   "metadata": {},
   "source": [
    "load the simulate data sets, the frienships were generated based on \"hand-shaking\" protocol."
   ]
  },
  {
   "cell_type": "code",
   "execution_count": 15,
   "metadata": {
    "collapsed": false
   },
   "outputs": [],
   "source": [
    "DATA_PATH = \"./data/sim_data_yi/\" \n",
    "\n",
    "users_df   = pd.read_csv(DATA_PATH + \"users_profile.csv\", header = 0, sep = \",\")\n",
    "friends_df = pd.read_csv(DATA_PATH + \"friendships.csv\", header = 0, sep = \",\")\n",
    "dist_df    = pd.read_csv(DATA_PATH + \"dist_mat.csv\", header = 0, sep = \",\")"
   ]
  },
  {
   "cell_type": "code",
   "execution_count": 16,
   "metadata": {
    "collapsed": false
   },
   "outputs": [
    {
     "data": {
      "text/html": [
       "<div style=\"max-height:1000px;max-width:1500px;overflow:auto;\">\n",
       "<table border=\"1\" class=\"dataframe\">\n",
       "  <thead>\n",
       "    <tr style=\"text-align: right;\">\n",
       "      <th></th>\n",
       "      <th>pair</th>\n",
       "      <th>uid_a</th>\n",
       "      <th>uid_b</th>\n",
       "    </tr>\n",
       "  </thead>\n",
       "  <tbody>\n",
       "    <tr>\n",
       "      <th>1</th>\n",
       "      <td> (0, 2)</td>\n",
       "      <td> 0</td>\n",
       "      <td> 2</td>\n",
       "    </tr>\n",
       "    <tr>\n",
       "      <th>3</th>\n",
       "      <td> (0, 4)</td>\n",
       "      <td> 0</td>\n",
       "      <td> 4</td>\n",
       "    </tr>\n",
       "    <tr>\n",
       "      <th>4</th>\n",
       "      <td> (0, 5)</td>\n",
       "      <td> 0</td>\n",
       "      <td> 5</td>\n",
       "    </tr>\n",
       "  </tbody>\n",
       "</table>\n",
       "</div>"
      ],
      "text/plain": [
       "     pair  uid_a  uid_b\n",
       "1  (0, 2)      0      2\n",
       "3  (0, 4)      0      4\n",
       "4  (0, 5)      0      5"
      ]
     },
     "execution_count": 16,
     "metadata": {},
     "output_type": "execute_result"
    }
   ],
   "source": [
    "## friends_df is processed\n",
    "## a. create a new column to denote the user pair\n",
    "## b. exclude user-pair of non-friends\n",
    "## c. drop the 'isFriend' columns\n",
    "friends_df = friends_df[friends_df.isFriend == 1]\n",
    "friends_df[\"pair\"] = friends_df[[\"uid_a\", \"uid_b\"]].apply(lambda x: (int(x[0]), int(x[1])), axis=1)\n",
    "friends_df.drop(\"isFriend\", axis=1, inplace=True)\n",
    "friends_df = friends_df[[\"pair\", \"uid_a\", \"uid_b\"]]\n",
    "friends_df.head(3)"
   ]
  },
  {
   "cell_type": "code",
   "execution_count": null,
   "metadata": {
    "collapsed": false
   },
   "outputs": [],
   "source": [
    "sim_ubatch = UserBatch()\n",
    "sim_ubatch.load_"
   ]
  },
  {
   "cell_type": "code",
   "execution_count": null,
   "metadata": {
    "collapsed": true
   },
   "outputs": [],
   "source": []
  }
 ],
 "metadata": {
  "kernelspec": {
   "display_name": "Python 2",
   "language": "python",
   "name": "python2"
  },
  "language_info": {
   "codemirror_mode": {
    "name": "ipython",
    "version": 2
   },
   "file_extension": ".py",
   "mimetype": "text/x-python",
   "name": "python",
   "nbconvert_exporter": "python",
   "pygments_lexer": "ipython2",
   "version": "2.7.9"
  }
 },
 "nbformat": 4,
 "nbformat_minor": 0
}
