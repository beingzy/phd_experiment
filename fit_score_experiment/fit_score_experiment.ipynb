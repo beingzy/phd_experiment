{
 "cells": [
  {
   "cell_type": "markdown",
   "metadata": {},
   "source": [
    "#### Develop the formula for Fit-score\n",
    "It must have following properties:\n",
    "* larger value of the score indicates better groupings of users (users of similarities are grouped togehter)\n",
    "* it promotes formation of a fewer set of user groups/communities\n",
    "\n",
    "#### A promoted version of Fit-Score\n",
    "$$\n",
    "fs_1 = \\sum_{j = 1}^{k} \\frac{|U_{j}|^2}{N} (\\sum_{i \\in U_{j}} \\text{P-value}(u_i,D_j)_{i}) - C \\cdot |\\text{buffer}|\n",
    "$$\n",
    "\n",
    "\n",
    "* $u_i$: $i$th user\n",
    "* $D_j$: the distance metrics learned for $j$th user group\n",
    "* $U_j$: $j$th user group\n",
    "* $|\\cdot|$: size of users in the container\n",
    "* $C$: the parameter determines the strength of penalty for more members in the buffer\n",
    "* $N$: the total number of users in fit group, $\\sum_{j = 1}^{k} |U_{j}|$"
   ]
  },
  {
   "cell_type": "code",
   "execution_count": 15,
   "metadata": {
    "collapsed": false
   },
   "outputs": [],
   "source": [
    "from git_fit_score import *"
   ]
  },
  {
   "cell_type": "code",
   "execution_count": 18,
   "metadata": {
    "collapsed": true
   },
   "outputs": [],
   "source": [
    "pval_group01 = [[0.99, 0.8, 0.9, 0.7, 0.91, 0.67], [0.1, 0.9, 0.8, 0.6], [0.5, 0.6]]\n",
    "buffer_group01 = [0, 0, 0]"
   ]
  },
  {
   "cell_type": "code",
   "execution_count": 17,
   "metadata": {
    "collapsed": false
   },
   "outputs": [
    {
     "data": {
      "text/plain": [
       "17.743333333333332"
      ]
     },
     "execution_count": 17,
     "metadata": {},
     "output_type": "execute_result"
    }
   ],
   "source": [
    "get_fit_score(pval_group01, buffer_group01, c=0.1)"
   ]
  },
  {
   "cell_type": "markdown",
   "metadata": {
    "collapsed": true
   },
   "source": [
    "### Experiment Objective:\n",
    "    * Factos Subjective to Test:\n",
    "        a. the number of groups\n",
    "        b. the size of populations\n",
    "        c. goodness of fit of members to group\n",
    "    * simulation data\n",
    "        a. p-value score of each members to given group\n",
    "        b. composition of groups"
   ]
  },
  {
   "cell_type": "markdown",
   "metadata": {},
   "source": [
    "#### Experiment 01:   2-group population"
   ]
  },
  {
   "cell_type": "code",
   "execution_count": 371,
   "metadata": {
    "collapsed": false
   },
   "outputs": [],
   "source": [
    "# user defined function to generate simulation values\n",
    "\n",
    "def drawGroup(true_group, error_prob, all_group_labels):\n",
    "    \"\"\" Draw random group label from a complete set of all_group_label \"\"\"\n",
    "    import numpy as np\n",
    "    \n",
    "    is_error = np.random.sample() < error_prob\n",
    "    \n",
    "    if isinstance(all_group_labels, tuple):\n",
    "        all_group_labels = all_group_labels[:]\n",
    "    \n",
    "    if is_error:\n",
    "        other_group_labels = [label for label in all_group_labels if label != true_group]\n",
    "        actual_label = np.random.choice(other_group_labels, 1)[0]\n",
    "    else:\n",
    "        actual_label = true_group\n",
    "    \n",
    "    return actual_label \n",
    "\n",
    "\n",
    "def genPval(true_group, actual_group, true_min_pval=0.8):\n",
    "    \"\"\" Generate p-value based on the true_group and actual_group \"\"\"\n",
    "    import numpy as np\n",
    "    \n",
    "    is_diff = not true_group == actual_group\n",
    "    if is_diff:\n",
    "        pval = np.random.uniform(0, true_min_pval)\n",
    "    else:\n",
    "        pval = np.random.uniform(true_min_pval, 1)\n",
    "    return pval\n",
    "\n",
    "\n",
    "def genSimData(pop_size, group_prob, mis_classification_prob):\n",
    "    \"\"\"Generate simulation output form the learning algorithm\"\"\"\n",
    "    \n",
    "    if not sum(group_prob)==1:\n",
    "        try:\n",
    "            raise ValueError('HiThere')\n",
    "        except ValueError:\n",
    "            print(\"ERROR: group probabilities do not sum to 1!\")\n",
    "\n",
    "    true_num_group = len(group_prob)\n",
    "    uniq_group_labels = range(true_num_group)\n",
    "\n",
    "    # generate user basic information\n",
    "    user_ids = range(pop_size)\n",
    "    # , size=None, replace=True, p=None\n",
    "    true_groups = np.random.choice(uniq_group_labels, size=pop_size, replace=True, p=group_prob)\n",
    "\n",
    "    sim_result = pd.DataFrame({\"user_id\": user_ids, \"true_group\": true_groups})\n",
    "\n",
    "    # generate conditioanl results\n",
    "    sim_result[\"actual_group\"] = [drawGroup(tg, mis_classification_prob, uniq_group_labels) \\\n",
    "                                  for tg in sim_result.true_group]\n",
    "    sim_result[\"pval\"] = sim_result[[\"true_group\", \"actual_group\"]].apply(lambda x: genPval(x[0], x[1], 0.8), \\\n",
    "                                                                          axis=1)\n",
    "    return sim_result\n",
    "\n",
    "\n",
    "def simDataTransform(sim_data, buffer_size=0):\n",
    "    \"\"\" re-structure simulated data.frame into tuple (pvalue-list, buffer-list)\n",
    "    \"\"\"\n",
    "    pval_group = []\n",
    "    for group_id in sim_data.actual_group.unique():\n",
    "        pvalues = list(sim_data.ix[sim_data.actual_group == group_id, \"pval\"])\n",
    "        pval_group.append(pvalues)\n",
    "\n",
    "    # generate buffer, remove selected user from sim_data\n",
    "    # and put them in buffers (user_id)\n",
    "    buffers = []\n",
    "    # method is not implemented \n",
    "    \n",
    "    return (pval_group, buffers)\n",
    "\n",
    "\n",
    "def statSummary(x):\n",
    "    \"\"\"Return a descriptive summary to describe the distribution \"\"\"\n",
    "    x_mean = np.mean(x)\n",
    "    x_median = np.median(x)\n",
    "    x_std = np.std(x)\n",
    "    x_min, x_max = min(x), max(x)\n",
    "    return (x_mean, x_median, x_std, x_min, x_max)\n",
    "\n",
    "\n",
    "def expExectuor(param_grid, k_fold=100):\n",
    "    \"\"\" Conduct simulation experiment based on given\n",
    "        experiment configuraiton.\n",
    "    \"\"\"\n",
    "\n",
    "    import time\n",
    "    #import datetime\n",
    "    #import os\n",
    "    \n",
    "    # if not os.path.exists(\"log\"):\n",
    "    #    os.makedirs(\"log\")\n",
    "        \n",
    "    # create logfile\n",
    "    # dt_str = datetime.datetime.now().strftime('%Y%m%d_%H%M')\n",
    "    # log_name = \"fitscore_exp_log_{0}.txt\".format(dt_str)\n",
    "    # f = open(log_name, 'w')\n",
    "    \n",
    "    # input argument\n",
    "    param_meshgrid_df = pd.DataFrame(list(param_grid))\n",
    "\n",
    "    # calcualte job information\n",
    "    total_iteration = param_meshgrid_df.shape[0]\n",
    "\n",
    "    # output dataframe container\n",
    "    exp_results = param_meshgrid_df.copy()\n",
    "    # statistics container\n",
    "    fs_mean, fs_median, fs_std, fs_min, fs_max = [], [], [], [], []\n",
    "    exp_time_costs = []\n",
    "\n",
    "    for i, param_row in param_meshgrid_df.iterrows():\n",
    "        # load experiment parameter\n",
    "        the_pop_size = param_row[\"pop_size\"]\n",
    "        the_group_prob = param_row[\"group_prob\"]\n",
    "        the_misclass_prob = param_row[\"misclass_prob\"]\n",
    "\n",
    "        print(\"{0}th (out of {1}) experiment is under conducting...\".format(i, total_iteration))\n",
    "\n",
    "        fit_scores = []\n",
    "        start_time = time.time()\n",
    "        for i_rep in range(k_fold):\n",
    "\n",
    "            sim_result = genSimData(the_pop_size, the_group_prob, the_misclass_prob )\n",
    "            transformed = simDataTransform(sim_result)\n",
    "            the_fit_score = get_fit_score(transformed[0], transformed[1], c=1)\n",
    "            fit_scores.append(the_fit_score)\n",
    "\n",
    "        duration_time = (time.time() - start_time)\n",
    "        print(\"Time cost: {0:.1f} seconds\".format(duration_time))\n",
    "\n",
    "        fs_mean.append(np.mean(fit_scores))\n",
    "        fs_median.append(np.median(fit_scores))\n",
    "        fs_std.append(np.std(fit_scores))\n",
    "        fs_min.append(max(fit_scores))\n",
    "        fs_max.append(min(fit_scores))\n",
    "\n",
    "        exp_time_costs.append(duration_time)\n",
    "\n",
    "    exp_results[\"pval_mean\"] = fs_mean\n",
    "    exp_results[\"pval_median\"] = fs_median\n",
    "    exp_results[\"pval_std\"] = fs_std\n",
    "    exp_results[\"pval_min\"] = fs_min\n",
    "    exp_results[\"pval_max\"] = fs_max\n",
    "    exp_results[\"time_cost\"] = exp_time_costs\n",
    "    return exp_results"
   ]
  },
  {
   "cell_type": "code",
   "execution_count": 185,
   "metadata": {
    "collapsed": false
   },
   "outputs": [],
   "source": [
    "import numpy as np\n",
    "import pandas as pd\n",
    "\n",
    "# set random seed\n",
    "np.random.seed(123)\n",
    "\n",
    "# generate user_id, true_group, label_group, p_val\n",
    "pop_size = 100\n",
    "group_prob = (0.5, 0.5)\n",
    "error_prob = 0.1"
   ]
  },
  {
   "cell_type": "code",
   "execution_count": 203,
   "metadata": {
    "collapsed": false
   },
   "outputs": [
    {
     "name": "stdout",
     "output_type": "stream",
     "text": [
      "fit score: 1225.00\n"
     ]
    }
   ],
   "source": [
    "#  simluation pipeline showcase\n",
    "sim_result = genSimData(pop_size=100, group_prob=[0.5, 0.3, 0.2], mis_classification_prob=0.1)\n",
    "transformed = simDataTransform(sim_result)\n",
    "fit_score = get_fit_score(transformed[0], transformed[1], c=1)\n",
    "print(\"fit score: {0:.2f}\".format(fit_score))"
   ]
  },
  {
   "cell_type": "code",
   "execution_count": 204,
   "metadata": {
    "collapsed": false
   },
   "outputs": [
    {
     "data": {
      "image/png": "[encoded data removed]",
      "text/plain": [
       "<matplotlib.figure.Figure at 0x108d59c18>"
      ]
     },
     "metadata": {},
     "output_type": "display_data"
    },
    {
     "data": {
      "text/plain": [
       "<matplotlib.text.Text at 0x108ede6a0>"
      ]
     },
     "execution_count": 204,
     "metadata": {},
     "output_type": "execute_result"
    },
    {
     "data": {
      "image/png": "[encoded data removed]",
      "text/plain": [
       "<matplotlib.figure.Figure at 0x10778b780>"
      ]
     },
     "metadata": {},
     "output_type": "display_data"
    }
   ],
   "source": [
    "# validate the generated data\n",
    "match_idx = sim_result[[\"true_group\", \"actual_group\"]].apply(lambda x: x[0]==x[1], axis=1)\n",
    "dismatch_idx = [not i for i in match_idx]\n",
    "\n",
    "sim_result.ix[match_idx, \"pval\"].hist(range=[0, 1], facecolor=\"green\")\n",
    "sim_result.ix[dismatch_idx, \"pval\"].hist(range=[0, 1], facecolor=\"red\")\n",
    "plt.show()\n",
    "\n",
    "sim_result.actual_group.value_counts().plot(kind='pie')\n",
    "plt.axis('equal')\n",
    "plt.title('Number of Members per Actual Group')"
   ]
  },
  {
   "cell_type": "code",
   "execution_count": 372,
   "metadata": {
    "collapsed": true
   },
   "outputs": [],
   "source": [
    "# define the parameter meshgrid\n",
    "from sklearn.grid_search import ParameterGrid\n",
    "\n",
    "pop_size_range = [10**i for i in range(2, 8)]\n",
    "group_prob_range = [(a, 1-a) for a in np.arange(0.5, 0.95, 0.05)]                \n",
    "misclass_prob_range = list(np.arange(0.05, 0.50, 0.05))\n",
    "\n",
    "param_ranges = {\"pop_size\": pop_size_range, \"group_prob\": group_prob_range, \n",
    "                \"misclass_prob\": misclass_prob_range}\n",
    "\n",
    "param_meshgrid = ParameterGrid(param_ranges)"
   ]
  },
  {
   "cell_type": "code",
   "execution_count": 373,
   "metadata": {
    "collapsed": false
   },
   "outputs": [
    {
     "name": "stdout",
     "output_type": "stream",
     "text": [
      "0th (out of 8) experiment is under conducting...\n",
      "Time cost: 0.1 seconds\n",
      "1th (out of 8) experiment is under conducting...\n",
      "Time cost: 0.8 seconds\n",
      "2th (out of 8) experiment is under conducting...\n",
      "Time cost: 0.1 seconds\n",
      "3th (out of 8) experiment is under conducting...\n",
      "Time cost: 0.9 seconds\n",
      "4th (out of 8) experiment is under conducting...\n",
      "Time cost: 0.1 seconds\n",
      "5th (out of 8) experiment is under conducting...\n",
      "Time cost: 0.7 seconds\n",
      "6th (out of 8) experiment is under conducting...\n",
      "Time cost: 0.1 seconds\n",
      "7th (out of 8) experiment is under conducting...\n",
      "Time cost: 0.7 seconds\n"
     ]
    }
   ],
   "source": [
    "exp_results = expExectuor(param_meshgrid, k_fold=10)"
   ]
  },
  {
   "cell_type": "code",
   "execution_count": 374,
   "metadata": {
    "collapsed": false
   },
   "outputs": [],
   "source": [
    "import datetime\n",
    "dt = datetime.datetime.now().strftime('%Y%m%d_%H%M')\n",
    "fname = \"result_%s.csv\" % dt\n",
    "exp_results.to_csv(fname, sep=\",\", header=True, index=False)"
   ]
  },
  {
   "cell_type": "code",
   "execution_count": null,
   "metadata": {
    "collapsed": true
   },
   "outputs": [],
   "source": []
  }
 ],
 "metadata": {
  "kernelspec": {
   "display_name": "Python 3",
   "language": "python",
   "name": "python3"
  },
  "language_info": {
   "codemirror_mode": {
    "name": "ipython",
    "version": 3
   },
   "file_extension": ".py",
   "mimetype": "text/x-python",
   "name": "python",
   "nbconvert_exporter": "python",
   "pygments_lexer": "ipython3",
   "version": "3.4.3"
  }
 },
 "nbformat": 4,
 "nbformat_minor": 0
}
