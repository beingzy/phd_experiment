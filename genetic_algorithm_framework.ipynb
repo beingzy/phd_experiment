{
 "cells": [
  {
   "cell_type": "markdown",
   "metadata": {},
   "source": [
    "#### genetic algorithm to minimize the fit score by finding a perfect partitioning which represent taste groups. The measurement of fitness is an aggregate infromation, with specific terms to raise penalty for a larger number of users being put off.\n",
    "\n",
    "* input: [g_0] ... and [g_k], which put influance on the learning distance metrics\n",
    "\n",
    "* measure of fitness: fit score = f([g_k])\n"
   ]
  }
 ],
 "metadata": {
  "kernelspec": {
   "display_name": "Python 2",
   "language": "python",
   "name": "python2"
  },
  "language_info": {
   "codemirror_mode": {
    "name": "ipython",
    "version": 2
   },
   "file_extension": ".py",
   "mimetype": "text/x-python",
   "name": "python",
   "nbconvert_exporter": "python",
   "pygments_lexer": "ipython2",
   "version": "2.7.9"
  }
 },
 "nbformat": 4,
 "nbformat_minor": 0
}
