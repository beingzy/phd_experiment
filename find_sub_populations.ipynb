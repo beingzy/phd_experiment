{
 "cells": [
  {
   "cell_type": "code",
   "execution_count": 50,
   "metadata": {
    "collapsed": false
   },
   "outputs": [],
   "source": [
    "import os\n",
    "import sys\n",
    "import glob\n",
    "\n",
    "import numpy as np\n",
    "import scipy as sp\n",
    "import pandas as pd\n",
    "import sklearn as sk\n",
    "from sklearn.cross_validation import train_test_split\n",
    "from sklearn import tree\n",
    "from sklearn.cluster import KMeans\n",
    "\n",
    "import matplotlib.pyplot as plt\n",
    "import ggplot\n",
    "\n",
    "from IPython.display import HTML\n",
    "\n",
    "%matplotlib inline"
   ]
  },
  {
   "cell_type": "code",
   "execution_count": 18,
   "metadata": {
    "collapsed": false
   },
   "outputs": [
    {
     "name": "stdout",
     "output_type": "stream",
     "text": [
      "   class  uid_a  uid_b  birthday  education_classes_id  \\\n",
      "0      1    236    186       NaN                   NaN   \n",
      "1      1    122    285       NaN                   NaN   \n",
      "2      1     24    346       NaN                   NaN   \n",
      "3      1    271    304       NaN                   NaN   \n",
      "4      1    176      9       NaN                   NaN   \n",
      "\n",
      "   education_concentration_id  education_degree_id  education_school_id  \\\n",
      "0                         NaN                  NaN                  NaN   \n",
      "1                         NaN                  NaN                    0   \n",
      "2                           5                  NaN                    0   \n",
      "3                         NaN                  NaN                  NaN   \n",
      "4                         NaN                  NaN                  NaN   \n",
      "\n",
      "   education_type  education_with_id      ...       political  religion  \\\n",
      "0             NaN                NaN      ...             NaN       NaN   \n",
      "1               2                NaN      ...             NaN       NaN   \n",
      "2               0                NaN      ...             NaN       NaN   \n",
      "3             NaN                NaN      ...             NaN       NaN   \n",
      "4             NaN                NaN      ...             NaN       NaN   \n",
      "\n",
      "   work_employer_id  work_end_date  work_from_id  work_location_id  \\\n",
      "0               NaN            NaN           NaN               NaN   \n",
      "1                12            NaN           NaN               NaN   \n",
      "2               NaN            NaN           NaN                 5   \n",
      "3               NaN            NaN           NaN               NaN   \n",
      "4               NaN            NaN           NaN               NaN   \n",
      "\n",
      "   work_position_id  work_projects_id  work_start_date  work_with_id  \n",
      "0               NaN               NaN              NaN           NaN  \n",
      "1               NaN               NaN              NaN           NaN  \n",
      "2               NaN               NaN                9           NaN  \n",
      "3               NaN               NaN              NaN           NaN  \n",
      "4               NaN               NaN              NaN           NaN  \n",
      "\n",
      "[5 rows x 30 columns]\n",
      "['birthday', 'education_classes_id', 'education_concentration_id', 'education_degree_id', 'education_school_id', 'education_type', 'education_with_id', 'education_year_id', 'first_name', 'gender', 'hometown_id', 'languages_id', 'last_name', 'locale', 'location_id', 'middle_name', 'name', 'political', 'religion', 'work_employer_id', 'work_end_date', 'work_from_id', 'work_location_id', 'work_position_id', 'work_projects_id', 'work_start_date', 'work_with_id']\n"
     ]
    }
   ],
   "source": [
    "DATA_PATH = \"/Users/beingzy/Documents/Projects/learning_dist_metrics_exp\"\n",
    "RANDOM_SEED = 123\n",
    "\n",
    "df = pd.read_csv(DATA_PATH + \"/udiff_df.csv\", header = 0)\n",
    "print df.head(5)\n",
    "\n",
    "feat_columns = [col for col in df.columns if not col in [\"class\", \"uid_a\", \"uid_b\"]]\n",
    "print feat_columns"
   ]
  },
  {
   "cell_type": "code",
   "execution_count": 4,
   "metadata": {
    "collapsed": false
   },
   "outputs": [
    {
     "name": "stdout",
     "output_type": "stream",
     "text": [
      "{'last_name': 0.82320836157385935, 'locale': 0.29243659258730781, 'education_type': 0.33015107195091498, 'hometown_id': 0.85051546391752575, 'education_concentration_id': 0.8773543680662077, 'location_id': 0.77205436449898335, 'first_name': 0.99290122355794952, 'work_employer_id': 0.96290532586594368, 'middle_name': 0.99885848821032353, 'education_classes_id': 0.99754307423393862, 'political': 1.0, 'work_with_id': 0.99997324581742941, 'work_position_id': 0.98398316270110231, 'religion': 1.0, 'education_with_id': 0.99963435950486923, 'work_location_id': 0.97319676809474542, 'work_end_date': 0.94297345985088998, 'uid_b': 0.0, 'uid_a': 0.0, 'work_start_date': 0.90594121214283163, 'education_school_id': 0.38457353832982555, 'birthday': 0.75150715228480724, 'work_projects_id': 0.99908143973174468, 'class': 0.0, 'name': 1.0, 'gender': 0.29489351835336924, 'education_year_id': 0.56773713123818359, 'work_from_id': 0.99998216387828631, 'education_degree_id': 0.98419719616166657, 'languages_id': 0.95002318695822785}\n",
      "#obs: 224264, #feats: 30\n"
     ]
    }
   ],
   "source": [
    "def summarize_null_ptg(ds):\n",
    "    \"\"\"Return the percentage of obs. with missing value\n",
    "       per column\n",
    "       \n",
    "       Parameters:\n",
    "       ----------\n",
    "       ds: {matrix, pd.DataFrame}\n",
    "    \"\"\"\n",
    "    na_ptg = dict()\n",
    "    for col in ds.columns:\n",
    "        na_ptg[col] = ds[col].isnull().sum() * 1.0 / df.shape[0]\n",
    "    return na_ptg\n",
    "\n",
    "\n",
    "print summarize_null_ptg(df)\n",
    "print \"#obs: {0}, #feats: {1}\".format(df.shape[0], df.shape[1])"
   ]
  },
  {
   "cell_type": "code",
   "execution_count": 20,
   "metadata": {
    "collapsed": false
   },
   "outputs": [
    {
     "name": "stdout",
     "output_type": "stream",
     "text": [
      "#obs: 162054, #feats: 30\n",
      "1    110366\n",
      "0     51688\n",
      "dtype: int64\n"
     ]
    }
   ],
   "source": [
    "## Missing value handling:\n",
    "is_feat_na = df[feat_columns].isnull().sum(axis = 1) == len(feat_columns)\n",
    "df_reduced = df[ ~is_feat_na ] #\n",
    "print \"#obs: {0}, #feats: {1}\".format(df_reduced.shape[0], df_reduced.shape[1])\n",
    "## count the distribution of {0, 1}\n",
    "print df_reduced[\"class\"].value_counts()"
   ]
  },
  {
   "cell_type": "code",
   "execution_count": 21,
   "metadata": {
    "collapsed": false
   },
   "outputs": [
    {
     "name": "stdout",
     "output_type": "stream",
     "text": [
      "#obs (training): 129643, #obs (testing): 32411\n"
     ]
    }
   ],
   "source": [
    "df_x = df_reduced[feat_columns].fillna(0)\n",
    "df_y = df_reduced[\"class\"]\n",
    "\n",
    "train_x, test_x, train_y, test_y = \\\n",
    "    train_test_split(df_x, df_y, test_size = .2, random_state = RANDOM_SEED)\n",
    "\n",
    "print \"#obs (training): {0}, #obs (testing): {1}\".format(train_x.shape[0], test_x.shape[0])"
   ]
  },
  {
   "cell_type": "code",
   "execution_count": 7,
   "metadata": {
    "collapsed": false
   },
   "outputs": [
    {
     "data": {
      "text/plain": [
       "DecisionTreeClassifier(compute_importances=None, criterion='gini',\n",
       "            max_depth=None, max_features=None, max_leaf_nodes=None,\n",
       "            min_density=None, min_samples_leaf=1, min_samples_split=2,\n",
       "            random_state=None, splitter='best')"
      ]
     },
     "execution_count": 7,
     "metadata": {},
     "output_type": "execute_result"
    }
   ],
   "source": [
    "clf = tree.DecisionTreeClassifier()\n",
    "clf.fit(train_x, train_y)"
   ]
  },
  {
   "cell_type": "code",
   "execution_count": 10,
   "metadata": {
    "collapsed": false
   },
   "outputs": [],
   "source": [
    "from sklearn.externals.six import StringIO  \n",
    "import pydot \n",
    "dot_data = StringIO() \n",
    "tree.export_graphviz(clf, out_file=dot_data) \n",
    "#graph = pydot.graph_from_dot_data(dot_data.getvalue()) \n",
    "#graph.write_pdf(\"iris.pdf\") "
   ]
  },
  {
   "cell_type": "code",
   "execution_count": 11,
   "metadata": {
    "collapsed": false
   },
   "outputs": [
    {
     "name": "stdout",
     "output_type": "stream",
     "text": [
      "Accuracy:0.951 \n",
      "\n",
      "Classification report\n",
      "             precision    recall  f1-score   support\n",
      "\n",
      "          0       0.97      0.88      0.92     41385\n",
      "          1       0.94      0.99      0.96     88258\n",
      "\n",
      "avg / total       0.95      0.95      0.95    129643\n",
      "\n",
      "\n",
      "Confusion matrix\n",
      "[[36280  5105]\n",
      " [ 1218 87040]] \n",
      "\n"
     ]
    }
   ],
   "source": [
    "from sklearn import metrics\n",
    "def measure_performance(X,y,clf, show_accuracy=True, show_classification_report=True, show_confusion_matrix=True):\n",
    "    y_pred=clf.predict(X)   \n",
    "    if show_accuracy:\n",
    "        print \"Accuracy:{0:.3f}\".format(metrics.accuracy_score(y,y_pred)),\"\\n\"\n",
    "\n",
    "    if show_classification_report:\n",
    "        print \"Classification report\"\n",
    "        print metrics.classification_report(y,y_pred),\"\\n\"\n",
    "        \n",
    "    if show_confusion_matrix:\n",
    "        print \"Confusion matrix\"\n",
    "        print metrics.confusion_matrix(y,y_pred),\"\\n\"\n",
    "        \n",
    "measure_performance(train_x, train_y, clf, show_classification_report=True, show_confusion_matrix=True)"
   ]
  },
  {
   "cell_type": "code",
   "execution_count": 12,
   "metadata": {
    "collapsed": false
   },
   "outputs": [
    {
     "name": "stdout",
     "output_type": "stream",
     "text": [
      "Accuracy:0.875 \n",
      "\n",
      "Classification report\n",
      "             precision    recall  f1-score   support\n",
      "\n",
      "          0       0.87      0.71      0.78     10303\n",
      "          1       0.87      0.95      0.91     22108\n",
      "\n",
      "avg / total       0.87      0.87      0.87     32411\n",
      "\n",
      "\n",
      "Confusion matrix\n",
      "[[ 7289  3014]\n",
      " [ 1048 21060]] \n",
      "\n"
     ]
    }
   ],
   "source": [
    "measure_performance(test_x, test_y, clf, show_classification_report=True, show_confusion_matrix=True)"
   ]
  },
  {
   "cell_type": "code",
   "execution_count": 16,
   "metadata": {
    "collapsed": false
   },
   "outputs": [
    {
     "name": "stdout",
     "output_type": "stream",
     "text": [
      "An unexpected error occurred while tokenizing input\n",
      "The following traceback may be corrupted or invalid\n",
      "The error message is: ('EOF in multi-line statement', (2, 0))\n",
      "An unexpected error occurred while tokenizing input\n",
      "The following traceback may be corrupted or invalid\n",
      "The error message is: ('EOF in multi-line statement', (2, 0))\n",
      "An unexpected error occurred while tokenizing input\n",
      "The following traceback may be corrupted or invalid\n",
      "The error message is: ('EOF in multi-line statement', (2, 0))\n",
      "\n",
      "\n",
      "\n"
     ]
    },
    {
     "ename": "JoblibValueError",
     "evalue": "JoblibValueError\n___________________________________________________________________________\nMultiprocessing exception:\n    ...........................................................................\n/Applications/anaconda/lib/python2.7/runpy.py in _run_module_as_main(mod_name='IPython.kernel.__main__', alter_argv=1)\n    157     pkg_name = mod_name.rpartition('.')[0]\n    158     main_globals = sys.modules[\"__main__\"].__dict__\n    159     if alter_argv:\n    160         sys.argv[0] = fname\n    161     return _run_code(code, main_globals, None,\n--> 162                      \"__main__\", fname, loader, pkg_name)\n        fname = '/Applications/anaconda/lib/python2.7/site-packages/IPython/kernel/__main__.py'\n        loader = <pkgutil.ImpLoader instance>\n        pkg_name = 'IPython.kernel'\n    163 \n    164 def run_module(mod_name, init_globals=None,\n    165                run_name=None, alter_sys=False):\n    166     \"\"\"Execute a module's code without importing it\n\n...........................................................................\n/Applications/anaconda/lib/python2.7/runpy.py in _run_code(code=<code object <module> at 0x1032d1d30, file \"/App...ite-packages/IPython/kernel/__main__.py\", line 1>, run_globals={'__builtins__': <module '__builtin__' (built-in)>, '__doc__': None, '__file__': '/Applications/anaconda/lib/python2.7/site-packages/IPython/kernel/__main__.py', '__loader__': <pkgutil.ImpLoader instance>, '__name__': '__main__', '__package__': 'IPython.kernel', 'app': <module 'IPython.kernel.zmq.kernelapp' from '/Ap.../site-packages/IPython/kernel/zmq/kernelapp.pyc'>}, init_globals=None, mod_name='__main__', mod_fname='/Applications/anaconda/lib/python2.7/site-packages/IPython/kernel/__main__.py', mod_loader=<pkgutil.ImpLoader instance>, pkg_name='IPython.kernel')\n     67         run_globals.update(init_globals)\n     68     run_globals.update(__name__ = mod_name,\n     69                        __file__ = mod_fname,\n     70                        __loader__ = mod_loader,\n     71                        __package__ = pkg_name)\n---> 72     exec code in run_globals\n        code = <code object <module> at 0x1032d1d30, file \"/App...ite-packages/IPython/kernel/__main__.py\", line 1>\n        run_globals = {'__builtins__': <module '__builtin__' (built-in)>, '__doc__': None, '__file__': '/Applications/anaconda/lib/python2.7/site-packages/IPython/kernel/__main__.py', '__loader__': <pkgutil.ImpLoader instance>, '__name__': '__main__', '__package__': 'IPython.kernel', 'app': <module 'IPython.kernel.zmq.kernelapp' from '/Ap.../site-packages/IPython/kernel/zmq/kernelapp.pyc'>}\n     73     return run_globals\n     74 \n     75 def _run_module_code(code, init_globals=None,\n     76                     mod_name=None, mod_fname=None,\n\n...........................................................................\n/Applications/anaconda/lib/python2.7/site-packages/IPython/kernel/__main__.py in <module>()\n      1 \n      2 \n----> 3 \n      4 if __name__ == '__main__':\n      5     from IPython.kernel.zmq import kernelapp as app\n      6     app.launch_new_instance()\n      7 \n      8 \n      9 \n     10 \n\n...........................................................................\n/Applications/anaconda/lib/python2.7/site-packages/IPython/config/application.py in launch_instance(cls=<class 'IPython.kernel.zmq.kernelapp.IPKernelApp'>, argv=None, **kwargs={})\n    569         \n    570         If a global instance already exists, this reinitializes and starts it\n    571         \"\"\"\n    572         app = cls.instance(**kwargs)\n    573         app.initialize(argv)\n--> 574         app.start()\n        app.start = <bound method IPKernelApp.start of <IPython.kernel.zmq.kernelapp.IPKernelApp object>>\n    575 \n    576 #-----------------------------------------------------------------------------\n    577 # utility functions, for convenience\n    578 #-----------------------------------------------------------------------------\n\n...........................................................................\n/Applications/anaconda/lib/python2.7/site-packages/IPython/kernel/zmq/kernelapp.py in start(self=<IPython.kernel.zmq.kernelapp.IPKernelApp object>)\n    369     def start(self):\n    370         if self.poller is not None:\n    371             self.poller.start()\n    372         self.kernel.start()\n    373         try:\n--> 374             ioloop.IOLoop.instance().start()\n    375         except KeyboardInterrupt:\n    376             pass\n    377 \n    378 launch_new_instance = IPKernelApp.launch_instance\n\n...........................................................................\n/Applications/anaconda/lib/python2.7/site-packages/zmq/eventloop/ioloop.py in start(self=<zmq.eventloop.ioloop.ZMQIOLoop object>)\n    146             PollIOLoop.configure(ZMQIOLoop)\n    147         return PollIOLoop.instance()\n    148     \n    149     def start(self):\n    150         try:\n--> 151             super(ZMQIOLoop, self).start()\n        self.start = <bound method ZMQIOLoop.start of <zmq.eventloop.ioloop.ZMQIOLoop object>>\n    152         except ZMQError as e:\n    153             if e.errno == ETERM:\n    154                 # quietly return on ETERM\n    155                 pass\n\n...........................................................................\n/Applications/anaconda/lib/python2.7/site-packages/tornado/ioloop.py in start(self=<zmq.eventloop.ioloop.ZMQIOLoop object>)\n    835                 self._events.update(event_pairs)\n    836                 while self._events:\n    837                     fd, events = self._events.popitem()\n    838                     try:\n    839                         fd_obj, handler_func = self._handlers[fd]\n--> 840                         handler_func(fd_obj, events)\n        handler_func = <function null_wrapper>\n        fd_obj = <zmq.sugar.socket.Socket object>\n        events = 1\n    841                     except (OSError, IOError) as e:\n    842                         if errno_from_exception(e) == errno.EPIPE:\n    843                             # Happens when the client closes the connection\n    844                             pass\n\n...........................................................................\n/Applications/anaconda/lib/python2.7/site-packages/tornado/stack_context.py in null_wrapper(*args=(<zmq.sugar.socket.Socket object>, 1), **kwargs={})\n    270         # Fast path when there are no active contexts.\n    271         def null_wrapper(*args, **kwargs):\n    272             try:\n    273                 current_state = _state.contexts\n    274                 _state.contexts = cap_contexts[0]\n--> 275                 return fn(*args, **kwargs)\n        args = (<zmq.sugar.socket.Socket object>, 1)\n        kwargs = {}\n    276             finally:\n    277                 _state.contexts = current_state\n    278         null_wrapper._wrapped = True\n    279         return null_wrapper\n\n...........................................................................\n/Applications/anaconda/lib/python2.7/site-packages/zmq/eventloop/zmqstream.py in _handle_events(self=<zmq.eventloop.zmqstream.ZMQStream object>, fd=<zmq.sugar.socket.Socket object>, events=1)\n    428             # dispatch events:\n    429             if events & IOLoop.ERROR:\n    430                 gen_log.error(\"got POLLERR event on ZMQStream, which doesn't make sense\")\n    431                 return\n    432             if events & IOLoop.READ:\n--> 433                 self._handle_recv()\n        self._handle_recv = <bound method ZMQStream._handle_recv of <zmq.eventloop.zmqstream.ZMQStream object>>\n    434                 if not self.socket:\n    435                     return\n    436             if events & IOLoop.WRITE:\n    437                 self._handle_send()\n\n...........................................................................\n/Applications/anaconda/lib/python2.7/site-packages/zmq/eventloop/zmqstream.py in _handle_recv(self=<zmq.eventloop.zmqstream.ZMQStream object>)\n    460                 gen_log.error(\"RECV Error: %s\"%zmq.strerror(e.errno))\n    461         else:\n    462             if self._recv_callback:\n    463                 callback = self._recv_callback\n    464                 # self._recv_callback = None\n--> 465                 self._run_callback(callback, msg)\n        self._run_callback = <bound method ZMQStream._run_callback of <zmq.eventloop.zmqstream.ZMQStream object>>\n        callback = <function null_wrapper>\n        msg = [<zmq.sugar.frame.Frame object>, <zmq.sugar.frame.Frame object>, <zmq.sugar.frame.Frame object>, <zmq.sugar.frame.Frame object>, <zmq.sugar.frame.Frame object>, <zmq.sugar.frame.Frame object>, <zmq.sugar.frame.Frame object>]\n    466                 \n    467         # self.update_state()\n    468         \n    469 \n\n...........................................................................\n/Applications/anaconda/lib/python2.7/site-packages/zmq/eventloop/zmqstream.py in _run_callback(self=<zmq.eventloop.zmqstream.ZMQStream object>, callback=<function null_wrapper>, *args=([<zmq.sugar.frame.Frame object>, <zmq.sugar.frame.Frame object>, <zmq.sugar.frame.Frame object>, <zmq.sugar.frame.Frame object>, <zmq.sugar.frame.Frame object>, <zmq.sugar.frame.Frame object>, <zmq.sugar.frame.Frame object>],), **kwargs={})\n    402         close our socket.\"\"\"\n    403         try:\n    404             # Use a NullContext to ensure that all StackContexts are run\n    405             # inside our blanket exception handler rather than outside.\n    406             with stack_context.NullContext():\n--> 407                 callback(*args, **kwargs)\n        callback = <function null_wrapper>\n        args = ([<zmq.sugar.frame.Frame object>, <zmq.sugar.frame.Frame object>, <zmq.sugar.frame.Frame object>, <zmq.sugar.frame.Frame object>, <zmq.sugar.frame.Frame object>, <zmq.sugar.frame.Frame object>, <zmq.sugar.frame.Frame object>],)\n        kwargs = {}\n    408         except:\n    409             gen_log.error(\"Uncaught exception, closing connection.\",\n    410                           exc_info=True)\n    411             # Close the socket on an uncaught exception from a user callback\n\n...........................................................................\n/Applications/anaconda/lib/python2.7/site-packages/tornado/stack_context.py in null_wrapper(*args=([<zmq.sugar.frame.Frame object>, <zmq.sugar.frame.Frame object>, <zmq.sugar.frame.Frame object>, <zmq.sugar.frame.Frame object>, <zmq.sugar.frame.Frame object>, <zmq.sugar.frame.Frame object>, <zmq.sugar.frame.Frame object>],), **kwargs={})\n    270         # Fast path when there are no active contexts.\n    271         def null_wrapper(*args, **kwargs):\n    272             try:\n    273                 current_state = _state.contexts\n    274                 _state.contexts = cap_contexts[0]\n--> 275                 return fn(*args, **kwargs)\n        args = ([<zmq.sugar.frame.Frame object>, <zmq.sugar.frame.Frame object>, <zmq.sugar.frame.Frame object>, <zmq.sugar.frame.Frame object>, <zmq.sugar.frame.Frame object>, <zmq.sugar.frame.Frame object>, <zmq.sugar.frame.Frame object>],)\n        kwargs = {}\n    276             finally:\n    277                 _state.contexts = current_state\n    278         null_wrapper._wrapped = True\n    279         return null_wrapper\n\n...........................................................................\n/Applications/anaconda/lib/python2.7/site-packages/IPython/kernel/zmq/kernelbase.py in dispatcher(msg=[<zmq.sugar.frame.Frame object>, <zmq.sugar.frame.Frame object>, <zmq.sugar.frame.Frame object>, <zmq.sugar.frame.Frame object>, <zmq.sugar.frame.Frame object>, <zmq.sugar.frame.Frame object>, <zmq.sugar.frame.Frame object>])\n    247         if self.control_stream:\n    248             self.control_stream.on_recv(self.dispatch_control, copy=False)\n    249 \n    250         def make_dispatcher(stream):\n    251             def dispatcher(msg):\n--> 252                 return self.dispatch_shell(stream, msg)\n        msg = [<zmq.sugar.frame.Frame object>, <zmq.sugar.frame.Frame object>, <zmq.sugar.frame.Frame object>, <zmq.sugar.frame.Frame object>, <zmq.sugar.frame.Frame object>, <zmq.sugar.frame.Frame object>, <zmq.sugar.frame.Frame object>]\n    253             return dispatcher\n    254 \n    255         for s in self.shell_streams:\n    256             s.on_recv(make_dispatcher(s), copy=False)\n\n...........................................................................\n/Applications/anaconda/lib/python2.7/site-packages/IPython/kernel/zmq/kernelbase.py in dispatch_shell(self=<IPython.kernel.zmq.ipkernel.IPythonKernel object>, stream=<zmq.eventloop.zmqstream.ZMQStream object>, msg={'buffers': [], 'content': {'allow_stdin': True, 'code': 'from sklearn import pipeline\\nfrom sklearn.cross_...))\\nperf_report = grid_ridge.fit(train_x, train_y)', 'silent': False, 'stop_on_error': True, 'store_history': True, 'user_expressions': {}}, 'header': {'msg_id': '9E14933726D24A35AEC819FBBDB5070C', 'msg_type': 'execute_request', 'session': '50D74FEAC60649579A854D265B5DC92C', 'username': 'username', 'version': '5.0'}, 'metadata': {}, 'msg_id': '9E14933726D24A35AEC819FBBDB5070C', 'msg_type': 'execute_request', 'parent_header': {}})\n    208         else:\n    209             # ensure default_int_handler during handler call\n    210             sig = signal(SIGINT, default_int_handler)\n    211             self.log.debug(\"%s: %s\", msg_type, msg)\n    212             try:\n--> 213                 handler(stream, idents, msg)\n        handler = <bound method IPythonKernel.execute_request of <IPython.kernel.zmq.ipkernel.IPythonKernel object>>\n        stream = <zmq.eventloop.zmqstream.ZMQStream object>\n        idents = ['50D74FEAC60649579A854D265B5DC92C']\n        msg = {'buffers': [], 'content': {'allow_stdin': True, 'code': 'from sklearn import pipeline\\nfrom sklearn.cross_...))\\nperf_report = grid_ridge.fit(train_x, train_y)', 'silent': False, 'stop_on_error': True, 'store_history': True, 'user_expressions': {}}, 'header': {'msg_id': '9E14933726D24A35AEC819FBBDB5070C', 'msg_type': 'execute_request', 'session': '50D74FEAC60649579A854D265B5DC92C', 'username': 'username', 'version': '5.0'}, 'metadata': {}, 'msg_id': '9E14933726D24A35AEC819FBBDB5070C', 'msg_type': 'execute_request', 'parent_header': {}}\n    214             except Exception:\n    215                 self.log.error(\"Exception in message handler:\", exc_info=True)\n    216             finally:\n    217                 signal(SIGINT, sig)\n\n...........................................................................\n/Applications/anaconda/lib/python2.7/site-packages/IPython/kernel/zmq/kernelbase.py in execute_request(self=<IPython.kernel.zmq.ipkernel.IPythonKernel object>, stream=<zmq.eventloop.zmqstream.ZMQStream object>, ident=['50D74FEAC60649579A854D265B5DC92C'], parent={'buffers': [], 'content': {'allow_stdin': True, 'code': 'from sklearn import pipeline\\nfrom sklearn.cross_...))\\nperf_report = grid_ridge.fit(train_x, train_y)', 'silent': False, 'stop_on_error': True, 'store_history': True, 'user_expressions': {}}, 'header': {'msg_id': '9E14933726D24A35AEC819FBBDB5070C', 'msg_type': 'execute_request', 'session': '50D74FEAC60649579A854D265B5DC92C', 'username': 'username', 'version': '5.0'}, 'metadata': {}, 'msg_id': '9E14933726D24A35AEC819FBBDB5070C', 'msg_type': 'execute_request', 'parent_header': {}})\n    357         if not silent:\n    358             self.execution_count += 1\n    359             self._publish_execute_input(code, parent, self.execution_count)\n    360         \n    361         reply_content = self.do_execute(code, silent, store_history,\n--> 362                                         user_expressions, allow_stdin)\n        user_expressions = {}\n        allow_stdin = True\n    363 \n    364         # Flush output before sending the reply.\n    365         sys.stdout.flush()\n    366         sys.stderr.flush()\n\n...........................................................................\n/Applications/anaconda/lib/python2.7/site-packages/IPython/kernel/zmq/ipkernel.py in do_execute(self=<IPython.kernel.zmq.ipkernel.IPythonKernel object>, code=u'from sklearn import pipeline\\nfrom sklearn.cro...\\nperf_report = grid_ridge.fit(train_x, train_y)', silent=False, store_history=True, user_expressions={}, allow_stdin=True)\n    176 \n    177         reply_content = {}\n    178         # FIXME: the shell calls the exception handler itself.\n    179         shell._reply_content = None\n    180         try:\n--> 181             shell.run_cell(code, store_history=store_history, silent=silent)\n        shell.run_cell = <bound method ZMQInteractiveShell.run_cell of <I....kernel.zmq.zmqshell.ZMQInteractiveShell object>>\n        code = u'from sklearn import pipeline\\nfrom sklearn.cro...\\nperf_report = grid_ridge.fit(train_x, train_y)'\n        store_history = True\n        silent = False\n    182         except:\n    183             status = u'error'\n    184             # FIXME: this code right now isn't being used yet by default,\n    185             # because the run_cell() call above directly fires off exception\n\n...........................................................................\n/Applications/anaconda/lib/python2.7/site-packages/IPython/core/interactiveshell.py in run_cell(self=<IPython.kernel.zmq.zmqshell.ZMQInteractiveShell object>, raw_cell=u'from sklearn import pipeline\\nfrom sklearn.cro...\\nperf_report = grid_ridge.fit(train_x, train_y)', store_history=True, silent=False, shell_futures=True)\n   2863                 self.displayhook.exec_result = result\n   2864 \n   2865                 # Execute the user code\n   2866                 interactivity = \"none\" if silent else self.ast_node_interactivity\n   2867                 self.run_ast_nodes(code_ast.body, cell_name,\n-> 2868                    interactivity=interactivity, compiler=compiler, result=result)\n        interactivity = 'last_expr'\n        compiler = <IPython.core.compilerop.CachingCompiler instance>\n   2869 \n   2870                 # Reset this so later displayed values do not modify the\n   2871                 # ExecutionResult\n   2872                 self.displayhook.exec_result = None\n\n...........................................................................\n/Applications/anaconda/lib/python2.7/site-packages/IPython/core/interactiveshell.py in run_ast_nodes(self=<IPython.kernel.zmq.zmqshell.ZMQInteractiveShell object>, nodelist=[<_ast.ImportFrom object>, <_ast.ImportFrom object>, <_ast.ImportFrom object>, <_ast.ImportFrom object>, <_ast.ImportFrom object>, <_ast.ImportFrom object>, <_ast.ImportFrom object>, <_ast.ImportFrom object>, <_ast.ImportFrom object>, <_ast.Assign object>, <_ast.Assign object>, <_ast.Assign object>, <_ast.Assign object>, <_ast.Assign object>], cell_name='<ipython-input-16-7bea703e915f>', interactivity='none', compiler=<IPython.core.compilerop.CachingCompiler instance>, result=<IPython.core.interactiveshell.ExecutionResult object>)\n   2967 \n   2968         try:\n   2969             for i, node in enumerate(to_run_exec):\n   2970                 mod = ast.Module([node])\n   2971                 code = compiler(mod, cell_name, \"exec\")\n-> 2972                 if self.run_code(code, result):\n        self.run_code = <bound method ZMQInteractiveShell.run_code of <I....kernel.zmq.zmqshell.ZMQInteractiveShell object>>\n        code = <code object <module> at 0x10c049d30, file \"<ipython-input-16-7bea703e915f>\", line 29>\n        result = <IPython.core.interactiveshell.ExecutionResult object>\n   2973                     return True\n   2974 \n   2975             for i, node in enumerate(to_run_interactive):\n   2976                 mod = ast.Interactive([node])\n\n...........................................................................\n/Applications/anaconda/lib/python2.7/site-packages/IPython/core/interactiveshell.py in run_code(self=<IPython.kernel.zmq.zmqshell.ZMQInteractiveShell object>, code_obj=<code object <module> at 0x10c049d30, file \"<ipython-input-16-7bea703e915f>\", line 29>, result=<IPython.core.interactiveshell.ExecutionResult object>)\n   3027         outflag = 1  # happens in more places, so it's easier as default\n   3028         try:\n   3029             try:\n   3030                 self.hooks.pre_run_code_hook()\n   3031                 #rprint('Running code', repr(code_obj)) # dbg\n-> 3032                 exec(code_obj, self.user_global_ns, self.user_ns)\n        code_obj = <code object <module> at 0x10c049d30, file \"<ipython-input-16-7bea703e915f>\", line 29>\n        self.user_global_ns = {'DATA_PATH': '/Users/beingzy/Documents/Projects/learning_dist_metrics_exp', 'GridSearchCV': <class 'sklearn.grid_search.GridSearchCV'>, 'HTML': <class 'IPython.core.display.HTML'>, 'In': ['', u\"import os\\nimport sys\\nimport glob\\n\\nimport n...TML\\n\\nget_ipython().magic(u'matplotlib inline')\", u'DATA_PATH = \"/Users/beingzy/Documents/Projects...[\"class\", \"uid_a\", \"uid_b\"]]\\nprint feat_columns', u'DATA_PATH = \"/Users/beingzy/Documents/Projects...[\"class\", \"uid_a\", \"uid_b\"]]\\nprint feat_columns', u'def summarize_null_ptg(ds):\\n    \"\"\"Return the...}, #feats: {1}\".format(df.shape[0], df.shape[1])', u'## Missing value handling:\\nis_feat_na = df[fe...{0, 1}\\nprint df_reduced[\"class\"].value_counts()', u'df_x = df_reduced[feat_columns].fillna(0)\\ndf_...: {1}\".format(train_x.shape[0], test_x.shape[0])', u'clf = tree.DecisionTreeClassifier()\\nclf.fit(train_x, train_y)', u'from sklearn.externals.six import StringIO  \\n...data.getvalue()) \\n#graph.write_pdf(\"iris.pdf\") ', u'from sklearn.externals.six import StringIO  \\n...data.getvalue()) \\n#graph.write_pdf(\"iris.pdf\") ', u'from sklearn.externals.six import StringIO  \\n...data.getvalue()) \\n#graph.write_pdf(\"iris.pdf\") ', u'from sklearn import metrics\\ndef measure_perfo...ication_report=True, show_confusion_matrix=True)', u'measure_performance(test_x, test_y, clf, show_...ication_report=True, show_confusion_matrix=True)', u'from sklearn import pipeline\\nfrom sklearn.cro...\\nperf_report = grid_ridge.fit(train_x, train_y)', u'from sklearn import pipeline\\nfrom sklearn.cro...\\nperf_report = grid_ridge.fit(train_x, train_y)', u'from sklearn import pipeline\\nfrom sklearn.cro...\\nperf_report = grid_ridge.fit(train_x, train_y)', u'from sklearn import pipeline\\nfrom sklearn.cro...\\nperf_report = grid_ridge.fit(train_x, train_y)'], 'Out': {7: DecisionTreeClassifier(compute_importances=None,...,\n            random_state=None, splitter='best')}, 'RANDOM_SEED': 123, 'StratifiedKFold': <class 'sklearn.cross_validation.StratifiedKFold'>, 'StringIO': <class StringIO.StringIO>, '_': DecisionTreeClassifier(compute_importances=None,...,\n            random_state=None, splitter='best'), '_7': DecisionTreeClassifier(compute_importances=None,...,\n            random_state=None, splitter='best'), ...}\n        self.user_ns = {'DATA_PATH': '/Users/beingzy/Documents/Projects/learning_dist_metrics_exp', 'GridSearchCV': <class 'sklearn.grid_search.GridSearchCV'>, 'HTML': <class 'IPython.core.display.HTML'>, 'In': ['', u\"import os\\nimport sys\\nimport glob\\n\\nimport n...TML\\n\\nget_ipython().magic(u'matplotlib inline')\", u'DATA_PATH = \"/Users/beingzy/Documents/Projects...[\"class\", \"uid_a\", \"uid_b\"]]\\nprint feat_columns', u'DATA_PATH = \"/Users/beingzy/Documents/Projects...[\"class\", \"uid_a\", \"uid_b\"]]\\nprint feat_columns', u'def summarize_null_ptg(ds):\\n    \"\"\"Return the...}, #feats: {1}\".format(df.shape[0], df.shape[1])', u'## Missing value handling:\\nis_feat_na = df[fe...{0, 1}\\nprint df_reduced[\"class\"].value_counts()', u'df_x = df_reduced[feat_columns].fillna(0)\\ndf_...: {1}\".format(train_x.shape[0], test_x.shape[0])', u'clf = tree.DecisionTreeClassifier()\\nclf.fit(train_x, train_y)', u'from sklearn.externals.six import StringIO  \\n...data.getvalue()) \\n#graph.write_pdf(\"iris.pdf\") ', u'from sklearn.externals.six import StringIO  \\n...data.getvalue()) \\n#graph.write_pdf(\"iris.pdf\") ', u'from sklearn.externals.six import StringIO  \\n...data.getvalue()) \\n#graph.write_pdf(\"iris.pdf\") ', u'from sklearn import metrics\\ndef measure_perfo...ication_report=True, show_confusion_matrix=True)', u'measure_performance(test_x, test_y, clf, show_...ication_report=True, show_confusion_matrix=True)', u'from sklearn import pipeline\\nfrom sklearn.cro...\\nperf_report = grid_ridge.fit(train_x, train_y)', u'from sklearn import pipeline\\nfrom sklearn.cro...\\nperf_report = grid_ridge.fit(train_x, train_y)', u'from sklearn import pipeline\\nfrom sklearn.cro...\\nperf_report = grid_ridge.fit(train_x, train_y)', u'from sklearn import pipeline\\nfrom sklearn.cro...\\nperf_report = grid_ridge.fit(train_x, train_y)'], 'Out': {7: DecisionTreeClassifier(compute_importances=None,...,\n            random_state=None, splitter='best')}, 'RANDOM_SEED': 123, 'StratifiedKFold': <class 'sklearn.cross_validation.StratifiedKFold'>, 'StringIO': <class StringIO.StringIO>, '_': DecisionTreeClassifier(compute_importances=None,...,\n            random_state=None, splitter='best'), '_7': DecisionTreeClassifier(compute_importances=None,...,\n            random_state=None, splitter='best'), ...}\n   3033             finally:\n   3034                 # Reset our crash handler in place\n   3035                 sys.excepthook = old_excepthook\n   3036         except SystemExit as e:\n\n...........................................................................\n/Users/beingzy/Documents/Projects/learning_dist_metrics_exp/<ipython-input-16-7bea703e915f> in <module>()\n     24                           param_grid = param_grids, \n     25                           refit = True,\n     26                           n_jobs = -1, \n     27                           scoring = score_func,\n     28                           cv = StratifiedKFold(train_y, n_folds=5))\n---> 29 perf_report = grid_ridge.fit(train_x, train_y)\n     30 \n     31 \n     32 \n     33 \n\n...........................................................................\n/Users/beingzy/.local/lib/python2.7/site-packages/sklearn/grid_search.py in fit(self=GridSearchCV(cv=sklearn.cross_validation.Stratif...recall_score at 0x1082cd6e0>)],\n       verbose=0), X=array([[   0.,    0.,    0., ...,    0.,    0., ...[   4.,    0.,    0., ...,    0.,  105.,    0.]]), y=array([1, 0, 0, ..., 1, 1, 1]))\n    591         y : array-like, shape = [n_samples] or [n_samples, n_output], optional\n    592             Target relative to X for classification or regression;\n    593             None for unsupervised learning.\n    594 \n    595         \"\"\"\n--> 596         return self._fit(X, y, ParameterGrid(self.param_grid))\n        self._fit = <bound method GridSearchCV._fit of GridSearchCV(...ecall_score at 0x1082cd6e0>)],\n       verbose=0)>\n        X = array([[   0.,    0.,    0., ...,    0.,    0., ...[   4.,    0.,    0., ...,    0.,  105.,    0.]])\n        y = array([1, 0, 0, ..., 1, 1, 1])\n        self.param_grid = [{'clf_tree__criterion': ['gini']}]\n    597 \n    598 \n    599 class RandomizedSearchCV(BaseSearchCV):\n    600     \"\"\"Randomized search on hyper parameters.\n\n...........................................................................\n/Users/beingzy/.local/lib/python2.7/site-packages/sklearn/grid_search.py in _fit(self=GridSearchCV(cv=sklearn.cross_validation.Stratif...recall_score at 0x1082cd6e0>)],\n       verbose=0), X=array([[   0.,    0.,    0., ...,    0.,    0., ...[   4.,    0.,    0., ...,    0.,  105.,    0.]]), y=array([1, 0, 0, ..., 1, 1, 1]), parameter_iterable=<sklearn.grid_search.ParameterGrid object>)\n    373             pre_dispatch=pre_dispatch\n    374         )(\n    375             delayed(_fit_and_score)(clone(base_estimator), X, y, self.scorer_,\n    376                                     train, test, self.verbose, parameters,\n    377                                     self.fit_params, return_parameters=True)\n--> 378             for parameters in parameter_iterable\n        parameters = undefined\n        parameter_iterable = <sklearn.grid_search.ParameterGrid object>\n    379             for train, test in cv)\n    380 \n    381         # Out is a list of triplet: score, estimator, n_test_samples\n    382         n_fits = len(out)\n\n...........................................................................\n/Users/beingzy/.local/lib/python2.7/site-packages/sklearn/externals/joblib/parallel.py in __call__(self=Parallel(n_jobs=-1), iterable=<itertools.islice object>)\n    655             if pre_dispatch == \"all\" or n_jobs == 1:\n    656                 # The iterable was consumed all at once by the above for loop.\n    657                 # No need to wait for async callbacks to trigger to\n    658                 # consumption.\n    659                 self._iterating = False\n--> 660             self.retrieve()\n        self.retrieve = <bound method Parallel.retrieve of Parallel(n_jobs=-1)>\n    661             # Make sure that we get a last message telling us we are done\n    662             elapsed_time = time.time() - self._start_time\n    663             self._print('Done %3i out of %3i | elapsed: %s finished',\n    664                         (len(self._output),\n\n    ---------------------------------------------------------------------------\n    Sub-process traceback:\n    ---------------------------------------------------------------------------\n    ValueError                                         Mon Mar  9 22:48:30 2015\nPID: 4476                   Python 2.7.9: /Applications/anaconda/bin/python\n...........................................................................\n/Users/beingzy/.local/lib/python2.7/site-packages/sklearn/cross_validation.pyc in _fit_and_score(estimator=DecisionTreeClassifier(compute_importances=None,...,\n            random_state=None, splitter='best'), X=array([[   0.,    0.,    0., ...,    0.,    0., ...[   4.,    0.,    0., ...,    0.,  105.,    0.]]), y=array([1, 0, 0, ..., 1, 1, 1]), scorer=[('precision', <function precision_score>), ('recall', <function recall_score>)], train=array([ 25761,  25762,  25763, ..., 129640, 129641, 129642]), test=array([    0,     1,     2, ..., 26288, 26292, 26293]), verbose=0, parameters={'clf_tree__criterion': 'gini'}, fit_params={}, return_train_score=False, return_parameters=True)\n   1225     fit_params = dict([(k, np.asarray(v)[train]\n   1226                        if hasattr(v, '__len__') and len(v) == n_samples else v)\n   1227                        for k, v in fit_params.items()])\n   1228 \n   1229     if parameters is not None:\n-> 1230         estimator.set_params(**parameters)\n   1231 \n   1232     start_time = time.time()\n   1233 \n   1234     X_train, y_train = _safe_split(estimator, X, y, train)\n\n...........................................................................\n/Users/beingzy/.local/lib/python2.7/site-packages/sklearn/base.pyc in set_params(self=DecisionTreeClassifier(compute_importances=None,...,\n            random_state=None, splitter='best'), **params={'clf_tree__criterion': 'gini'})\n    244             if len(split) > 1:\n    245                 # nested objects case\n    246                 name, sub_name = split\n    247                 if not name in valid_params:\n    248                     raise ValueError('Invalid parameter %s for estimator %s' %\n--> 249                                      (name, self))\n    250                 sub_object = valid_params[name]\n    251                 sub_object.set_params(**{sub_name: value})\n    252             else:\n    253                 # simple objects case\n\nValueError: Invalid parameter clf_tree for estimator DecisionTreeClassifier(compute_importances=None, criterion='gini',\n            max_depth=None, max_features=None, max_leaf_nodes=None,\n            min_density=None, min_samples_leaf=1, min_samples_split=2,\n            random_state=None, splitter='best')\n___________________________________________________________________________",
     "output_type": "error",
     "traceback": [
      "\u001b[0;31m---------------------------------------------------------------------------\u001b[0m",
      "\u001b[0;31mJoblibValueError\u001b[0m                          Traceback (most recent call last)",
      "\u001b[0;32m<ipython-input-16-7bea703e915f>\u001b[0m in \u001b[0;36m<module>\u001b[0;34m()\u001b[0m\n\u001b[1;32m     27\u001b[0m                           \u001b[0mscoring\u001b[0m \u001b[0;34m=\u001b[0m \u001b[0mscore_func\u001b[0m\u001b[0;34m,\u001b[0m\u001b[0;34m\u001b[0m\u001b[0m\n\u001b[1;32m     28\u001b[0m                           cv = StratifiedKFold(train_y, n_folds=5))\n\u001b[0;32m---> 29\u001b[0;31m \u001b[0mperf_report\u001b[0m \u001b[0;34m=\u001b[0m \u001b[0mgrid_ridge\u001b[0m\u001b[0;34m.\u001b[0m\u001b[0mfit\u001b[0m\u001b[0;34m(\u001b[0m\u001b[0mtrain_x\u001b[0m\u001b[0;34m,\u001b[0m \u001b[0mtrain_y\u001b[0m\u001b[0;34m)\u001b[0m\u001b[0;34m\u001b[0m\u001b[0m\n\u001b[0m",
      "\u001b[0;32m/Users/beingzy/.local/lib/python2.7/site-packages/sklearn/grid_search.pyc\u001b[0m in \u001b[0;36mfit\u001b[0;34m(self, X, y)\u001b[0m\n\u001b[1;32m    594\u001b[0m \u001b[0;34m\u001b[0m\u001b[0m\n\u001b[1;32m    595\u001b[0m         \"\"\"\n\u001b[0;32m--> 596\u001b[0;31m         \u001b[0;32mreturn\u001b[0m \u001b[0mself\u001b[0m\u001b[0;34m.\u001b[0m\u001b[0m_fit\u001b[0m\u001b[0;34m(\u001b[0m\u001b[0mX\u001b[0m\u001b[0;34m,\u001b[0m \u001b[0my\u001b[0m\u001b[0;34m,\u001b[0m \u001b[0mParameterGrid\u001b[0m\u001b[0;34m(\u001b[0m\u001b[0mself\u001b[0m\u001b[0;34m.\u001b[0m\u001b[0mparam_grid\u001b[0m\u001b[0;34m)\u001b[0m\u001b[0;34m)\u001b[0m\u001b[0;34m\u001b[0m\u001b[0m\n\u001b[0m\u001b[1;32m    597\u001b[0m \u001b[0;34m\u001b[0m\u001b[0m\n\u001b[1;32m    598\u001b[0m \u001b[0;34m\u001b[0m\u001b[0m\n",
      "\u001b[0;32m/Users/beingzy/.local/lib/python2.7/site-packages/sklearn/grid_search.pyc\u001b[0m in \u001b[0;36m_fit\u001b[0;34m(self, X, y, parameter_iterable)\u001b[0m\n\u001b[1;32m    376\u001b[0m                                     \u001b[0mtrain\u001b[0m\u001b[0;34m,\u001b[0m \u001b[0mtest\u001b[0m\u001b[0;34m,\u001b[0m \u001b[0mself\u001b[0m\u001b[0;34m.\u001b[0m\u001b[0mverbose\u001b[0m\u001b[0;34m,\u001b[0m \u001b[0mparameters\u001b[0m\u001b[0;34m,\u001b[0m\u001b[0;34m\u001b[0m\u001b[0m\n\u001b[1;32m    377\u001b[0m                                     self.fit_params, return_parameters=True)\n\u001b[0;32m--> 378\u001b[0;31m             \u001b[0;32mfor\u001b[0m \u001b[0mparameters\u001b[0m \u001b[0;32min\u001b[0m \u001b[0mparameter_iterable\u001b[0m\u001b[0;34m\u001b[0m\u001b[0m\n\u001b[0m\u001b[1;32m    379\u001b[0m             for train, test in cv)\n\u001b[1;32m    380\u001b[0m \u001b[0;34m\u001b[0m\u001b[0m\n",
      "\u001b[0;32m/Users/beingzy/.local/lib/python2.7/site-packages/sklearn/externals/joblib/parallel.pyc\u001b[0m in \u001b[0;36m__call__\u001b[0;34m(self, iterable)\u001b[0m\n\u001b[1;32m    658\u001b[0m                 \u001b[0;31m# consumption.\u001b[0m\u001b[0;34m\u001b[0m\u001b[0;34m\u001b[0m\u001b[0m\n\u001b[1;32m    659\u001b[0m                 \u001b[0mself\u001b[0m\u001b[0;34m.\u001b[0m\u001b[0m_iterating\u001b[0m \u001b[0;34m=\u001b[0m \u001b[0mFalse\u001b[0m\u001b[0;34m\u001b[0m\u001b[0m\n\u001b[0;32m--> 660\u001b[0;31m             \u001b[0mself\u001b[0m\u001b[0;34m.\u001b[0m\u001b[0mretrieve\u001b[0m\u001b[0;34m(\u001b[0m\u001b[0;34m)\u001b[0m\u001b[0;34m\u001b[0m\u001b[0m\n\u001b[0m\u001b[1;32m    661\u001b[0m             \u001b[0;31m# Make sure that we get a last message telling us we are done\u001b[0m\u001b[0;34m\u001b[0m\u001b[0;34m\u001b[0m\u001b[0m\n\u001b[1;32m    662\u001b[0m             \u001b[0melapsed_time\u001b[0m \u001b[0;34m=\u001b[0m \u001b[0mtime\u001b[0m\u001b[0;34m.\u001b[0m\u001b[0mtime\u001b[0m\u001b[0;34m(\u001b[0m\u001b[0;34m)\u001b[0m \u001b[0;34m-\u001b[0m \u001b[0mself\u001b[0m\u001b[0;34m.\u001b[0m\u001b[0m_start_time\u001b[0m\u001b[0;34m\u001b[0m\u001b[0m\n",
      "\u001b[0;32m/Users/beingzy/.local/lib/python2.7/site-packages/sklearn/externals/joblib/parallel.pyc\u001b[0m in \u001b[0;36mretrieve\u001b[0;34m(self)\u001b[0m\n\u001b[1;32m    541\u001b[0m                         \u001b[0;31m# Convert this to a JoblibException\u001b[0m\u001b[0;34m\u001b[0m\u001b[0;34m\u001b[0m\u001b[0m\n\u001b[1;32m    542\u001b[0m                         \u001b[0mexception_type\u001b[0m \u001b[0;34m=\u001b[0m \u001b[0m_mk_exception\u001b[0m\u001b[0;34m(\u001b[0m\u001b[0mexception\u001b[0m\u001b[0;34m.\u001b[0m\u001b[0metype\u001b[0m\u001b[0;34m)\u001b[0m\u001b[0;34m[\u001b[0m\u001b[0;36m0\u001b[0m\u001b[0;34m]\u001b[0m\u001b[0;34m\u001b[0m\u001b[0m\n\u001b[0;32m--> 543\u001b[0;31m                         \u001b[0;32mraise\u001b[0m \u001b[0mexception_type\u001b[0m\u001b[0;34m(\u001b[0m\u001b[0mreport\u001b[0m\u001b[0;34m)\u001b[0m\u001b[0;34m\u001b[0m\u001b[0m\n\u001b[0m\u001b[1;32m    544\u001b[0m                     \u001b[0;32mraise\u001b[0m \u001b[0mexception\u001b[0m\u001b[0;34m\u001b[0m\u001b[0m\n\u001b[1;32m    545\u001b[0m                 \u001b[0;32mfinally\u001b[0m\u001b[0;34m:\u001b[0m\u001b[0;34m\u001b[0m\u001b[0m\n",
      "\u001b[0;31mJoblibValueError\u001b[0m: JoblibValueError\n___________________________________________________________________________\nMultiprocessing exception:\n    ...........................................................................\n/Applications/anaconda/lib/python2.7/runpy.py in _run_module_as_main(mod_name='IPython.kernel.__main__', alter_argv=1)\n    157     pkg_name = mod_name.rpartition('.')[0]\n    158     main_globals = sys.modules[\"__main__\"].__dict__\n    159     if alter_argv:\n    160         sys.argv[0] = fname\n    161     return _run_code(code, main_globals, None,\n--> 162                      \"__main__\", fname, loader, pkg_name)\n        fname = '/Applications/anaconda/lib/python2.7/site-packages/IPython/kernel/__main__.py'\n        loader = <pkgutil.ImpLoader instance>\n        pkg_name = 'IPython.kernel'\n    163 \n    164 def run_module(mod_name, init_globals=None,\n    165                run_name=None, alter_sys=False):\n    166     \"\"\"Execute a module's code without importing it\n\n...........................................................................\n/Applications/anaconda/lib/python2.7/runpy.py in _run_code(code=<code object <module> at 0x1032d1d30, file \"/App...ite-packages/IPython/kernel/__main__.py\", line 1>, run_globals={'__builtins__': <module '__builtin__' (built-in)>, '__doc__': None, '__file__': '/Applications/anaconda/lib/python2.7/site-packages/IPython/kernel/__main__.py', '__loader__': <pkgutil.ImpLoader instance>, '__name__': '__main__', '__package__': 'IPython.kernel', 'app': <module 'IPython.kernel.zmq.kernelapp' from '/Ap.../site-packages/IPython/kernel/zmq/kernelapp.pyc'>}, init_globals=None, mod_name='__main__', mod_fname='/Applications/anaconda/lib/python2.7/site-packages/IPython/kernel/__main__.py', mod_loader=<pkgutil.ImpLoader instance>, pkg_name='IPython.kernel')\n     67         run_globals.update(init_globals)\n     68     run_globals.update(__name__ = mod_name,\n     69                        __file__ = mod_fname,\n     70                        __loader__ = mod_loader,\n     71                        __package__ = pkg_name)\n---> 72     exec code in run_globals\n        code = <code object <module> at 0x1032d1d30, file \"/App...ite-packages/IPython/kernel/__main__.py\", line 1>\n        run_globals = {'__builtins__': <module '__builtin__' (built-in)>, '__doc__': None, '__file__': '/Applications/anaconda/lib/python2.7/site-packages/IPython/kernel/__main__.py', '__loader__': <pkgutil.ImpLoader instance>, '__name__': '__main__', '__package__': 'IPython.kernel', 'app': <module 'IPython.kernel.zmq.kernelapp' from '/Ap.../site-packages/IPython/kernel/zmq/kernelapp.pyc'>}\n     73     return run_globals\n     74 \n     75 def _run_module_code(code, init_globals=None,\n     76                     mod_name=None, mod_fname=None,\n\n...........................................................................\n/Applications/anaconda/lib/python2.7/site-packages/IPython/kernel/__main__.py in <module>()\n      1 \n      2 \n----> 3 \n      4 if __name__ == '__main__':\n      5     from IPython.kernel.zmq import kernelapp as app\n      6     app.launch_new_instance()\n      7 \n      8 \n      9 \n     10 \n\n...........................................................................\n/Applications/anaconda/lib/python2.7/site-packages/IPython/config/application.py in launch_instance(cls=<class 'IPython.kernel.zmq.kernelapp.IPKernelApp'>, argv=None, **kwargs={})\n    569         \n    570         If a global instance already exists, this reinitializes and starts it\n    571         \"\"\"\n    572         app = cls.instance(**kwargs)\n    573         app.initialize(argv)\n--> 574         app.start()\n        app.start = <bound method IPKernelApp.start of <IPython.kernel.zmq.kernelapp.IPKernelApp object>>\n    575 \n    576 #-----------------------------------------------------------------------------\n    577 # utility functions, for convenience\n    578 #-----------------------------------------------------------------------------\n\n...........................................................................\n/Applications/anaconda/lib/python2.7/site-packages/IPython/kernel/zmq/kernelapp.py in start(self=<IPython.kernel.zmq.kernelapp.IPKernelApp object>)\n    369     def start(self):\n    370         if self.poller is not None:\n    371             self.poller.start()\n    372         self.kernel.start()\n    373         try:\n--> 374             ioloop.IOLoop.instance().start()\n    375         except KeyboardInterrupt:\n    376             pass\n    377 \n    378 launch_new_instance = IPKernelApp.launch_instance\n\n...........................................................................\n/Applications/anaconda/lib/python2.7/site-packages/zmq/eventloop/ioloop.py in start(self=<zmq.eventloop.ioloop.ZMQIOLoop object>)\n    146             PollIOLoop.configure(ZMQIOLoop)\n    147         return PollIOLoop.instance()\n    148     \n    149     def start(self):\n    150         try:\n--> 151             super(ZMQIOLoop, self).start()\n        self.start = <bound method ZMQIOLoop.start of <zmq.eventloop.ioloop.ZMQIOLoop object>>\n    152         except ZMQError as e:\n    153             if e.errno == ETERM:\n    154                 # quietly return on ETERM\n    155                 pass\n\n...........................................................................\n/Applications/anaconda/lib/python2.7/site-packages/tornado/ioloop.py in start(self=<zmq.eventloop.ioloop.ZMQIOLoop object>)\n    835                 self._events.update(event_pairs)\n    836                 while self._events:\n    837                     fd, events = self._events.popitem()\n    838                     try:\n    839                         fd_obj, handler_func = self._handlers[fd]\n--> 840                         handler_func(fd_obj, events)\n        handler_func = <function null_wrapper>\n        fd_obj = <zmq.sugar.socket.Socket object>\n        events = 1\n    841                     except (OSError, IOError) as e:\n    842                         if errno_from_exception(e) == errno.EPIPE:\n    843                             # Happens when the client closes the connection\n    844                             pass\n\n...........................................................................\n/Applications/anaconda/lib/python2.7/site-packages/tornado/stack_context.py in null_wrapper(*args=(<zmq.sugar.socket.Socket object>, 1), **kwargs={})\n    270         # Fast path when there are no active contexts.\n    271         def null_wrapper(*args, **kwargs):\n    272             try:\n    273                 current_state = _state.contexts\n    274                 _state.contexts = cap_contexts[0]\n--> 275                 return fn(*args, **kwargs)\n        args = (<zmq.sugar.socket.Socket object>, 1)\n        kwargs = {}\n    276             finally:\n    277                 _state.contexts = current_state\n    278         null_wrapper._wrapped = True\n    279         return null_wrapper\n\n...........................................................................\n/Applications/anaconda/lib/python2.7/site-packages/zmq/eventloop/zmqstream.py in _handle_events(self=<zmq.eventloop.zmqstream.ZMQStream object>, fd=<zmq.sugar.socket.Socket object>, events=1)\n    428             # dispatch events:\n    429             if events & IOLoop.ERROR:\n    430                 gen_log.error(\"got POLLERR event on ZMQStream, which doesn't make sense\")\n    431                 return\n    432             if events & IOLoop.READ:\n--> 433                 self._handle_recv()\n        self._handle_recv = <bound method ZMQStream._handle_recv of <zmq.eventloop.zmqstream.ZMQStream object>>\n    434                 if not self.socket:\n    435                     return\n    436             if events & IOLoop.WRITE:\n    437                 self._handle_send()\n\n...........................................................................\n/Applications/anaconda/lib/python2.7/site-packages/zmq/eventloop/zmqstream.py in _handle_recv(self=<zmq.eventloop.zmqstream.ZMQStream object>)\n    460                 gen_log.error(\"RECV Error: %s\"%zmq.strerror(e.errno))\n    461         else:\n    462             if self._recv_callback:\n    463                 callback = self._recv_callback\n    464                 # self._recv_callback = None\n--> 465                 self._run_callback(callback, msg)\n        self._run_callback = <bound method ZMQStream._run_callback of <zmq.eventloop.zmqstream.ZMQStream object>>\n        callback = <function null_wrapper>\n        msg = [<zmq.sugar.frame.Frame object>, <zmq.sugar.frame.Frame object>, <zmq.sugar.frame.Frame object>, <zmq.sugar.frame.Frame object>, <zmq.sugar.frame.Frame object>, <zmq.sugar.frame.Frame object>, <zmq.sugar.frame.Frame object>]\n    466                 \n    467         # self.update_state()\n    468         \n    469 \n\n...........................................................................\n/Applications/anaconda/lib/python2.7/site-packages/zmq/eventloop/zmqstream.py in _run_callback(self=<zmq.eventloop.zmqstream.ZMQStream object>, callback=<function null_wrapper>, *args=([<zmq.sugar.frame.Frame object>, <zmq.sugar.frame.Frame object>, <zmq.sugar.frame.Frame object>, <zmq.sugar.frame.Frame object>, <zmq.sugar.frame.Frame object>, <zmq.sugar.frame.Frame object>, <zmq.sugar.frame.Frame object>],), **kwargs={})\n    402         close our socket.\"\"\"\n    403         try:\n    404             # Use a NullContext to ensure that all StackContexts are run\n    405             # inside our blanket exception handler rather than outside.\n    406             with stack_context.NullContext():\n--> 407                 callback(*args, **kwargs)\n        callback = <function null_wrapper>\n        args = ([<zmq.sugar.frame.Frame object>, <zmq.sugar.frame.Frame object>, <zmq.sugar.frame.Frame object>, <zmq.sugar.frame.Frame object>, <zmq.sugar.frame.Frame object>, <zmq.sugar.frame.Frame object>, <zmq.sugar.frame.Frame object>],)\n        kwargs = {}\n    408         except:\n    409             gen_log.error(\"Uncaught exception, closing connection.\",\n    410                           exc_info=True)\n    411             # Close the socket on an uncaught exception from a user callback\n\n...........................................................................\n/Applications/anaconda/lib/python2.7/site-packages/tornado/stack_context.py in null_wrapper(*args=([<zmq.sugar.frame.Frame object>, <zmq.sugar.frame.Frame object>, <zmq.sugar.frame.Frame object>, <zmq.sugar.frame.Frame object>, <zmq.sugar.frame.Frame object>, <zmq.sugar.frame.Frame object>, <zmq.sugar.frame.Frame object>],), **kwargs={})\n    270         # Fast path when there are no active contexts.\n    271         def null_wrapper(*args, **kwargs):\n    272             try:\n    273                 current_state = _state.contexts\n    274                 _state.contexts = cap_contexts[0]\n--> 275                 return fn(*args, **kwargs)\n        args = ([<zmq.sugar.frame.Frame object>, <zmq.sugar.frame.Frame object>, <zmq.sugar.frame.Frame object>, <zmq.sugar.frame.Frame object>, <zmq.sugar.frame.Frame object>, <zmq.sugar.frame.Frame object>, <zmq.sugar.frame.Frame object>],)\n        kwargs = {}\n    276             finally:\n    277                 _state.contexts = current_state\n    278         null_wrapper._wrapped = True\n    279         return null_wrapper\n\n...........................................................................\n/Applications/anaconda/lib/python2.7/site-packages/IPython/kernel/zmq/kernelbase.py in dispatcher(msg=[<zmq.sugar.frame.Frame object>, <zmq.sugar.frame.Frame object>, <zmq.sugar.frame.Frame object>, <zmq.sugar.frame.Frame object>, <zmq.sugar.frame.Frame object>, <zmq.sugar.frame.Frame object>, <zmq.sugar.frame.Frame object>])\n    247         if self.control_stream:\n    248             self.control_stream.on_recv(self.dispatch_control, copy=False)\n    249 \n    250         def make_dispatcher(stream):\n    251             def dispatcher(msg):\n--> 252                 return self.dispatch_shell(stream, msg)\n        msg = [<zmq.sugar.frame.Frame object>, <zmq.sugar.frame.Frame object>, <zmq.sugar.frame.Frame object>, <zmq.sugar.frame.Frame object>, <zmq.sugar.frame.Frame object>, <zmq.sugar.frame.Frame object>, <zmq.sugar.frame.Frame object>]\n    253             return dispatcher\n    254 \n    255         for s in self.shell_streams:\n    256             s.on_recv(make_dispatcher(s), copy=False)\n\n...........................................................................\n/Applications/anaconda/lib/python2.7/site-packages/IPython/kernel/zmq/kernelbase.py in dispatch_shell(self=<IPython.kernel.zmq.ipkernel.IPythonKernel object>, stream=<zmq.eventloop.zmqstream.ZMQStream object>, msg={'buffers': [], 'content': {'allow_stdin': True, 'code': 'from sklearn import pipeline\\nfrom sklearn.cross_...))\\nperf_report = grid_ridge.fit(train_x, train_y)', 'silent': False, 'stop_on_error': True, 'store_history': True, 'user_expressions': {}}, 'header': {'msg_id': '9E14933726D24A35AEC819FBBDB5070C', 'msg_type': 'execute_request', 'session': '50D74FEAC60649579A854D265B5DC92C', 'username': 'username', 'version': '5.0'}, 'metadata': {}, 'msg_id': '9E14933726D24A35AEC819FBBDB5070C', 'msg_type': 'execute_request', 'parent_header': {}})\n    208         else:\n    209             # ensure default_int_handler during handler call\n    210             sig = signal(SIGINT, default_int_handler)\n    211             self.log.debug(\"%s: %s\", msg_type, msg)\n    212             try:\n--> 213                 handler(stream, idents, msg)\n        handler = <bound method IPythonKernel.execute_request of <IPython.kernel.zmq.ipkernel.IPythonKernel object>>\n        stream = <zmq.eventloop.zmqstream.ZMQStream object>\n        idents = ['50D74FEAC60649579A854D265B5DC92C']\n        msg = {'buffers': [], 'content': {'allow_stdin': True, 'code': 'from sklearn import pipeline\\nfrom sklearn.cross_...))\\nperf_report = grid_ridge.fit(train_x, train_y)', 'silent': False, 'stop_on_error': True, 'store_history': True, 'user_expressions': {}}, 'header': {'msg_id': '9E14933726D24A35AEC819FBBDB5070C', 'msg_type': 'execute_request', 'session': '50D74FEAC60649579A854D265B5DC92C', 'username': 'username', 'version': '5.0'}, 'metadata': {}, 'msg_id': '9E14933726D24A35AEC819FBBDB5070C', 'msg_type': 'execute_request', 'parent_header': {}}\n    214             except Exception:\n    215                 self.log.error(\"Exception in message handler:\", exc_info=True)\n    216             finally:\n    217                 signal(SIGINT, sig)\n\n...........................................................................\n/Applications/anaconda/lib/python2.7/site-packages/IPython/kernel/zmq/kernelbase.py in execute_request(self=<IPython.kernel.zmq.ipkernel.IPythonKernel object>, stream=<zmq.eventloop.zmqstream.ZMQStream object>, ident=['50D74FEAC60649579A854D265B5DC92C'], parent={'buffers': [], 'content': {'allow_stdin': True, 'code': 'from sklearn import pipeline\\nfrom sklearn.cross_...))\\nperf_report = grid_ridge.fit(train_x, train_y)', 'silent': False, 'stop_on_error': True, 'store_history': True, 'user_expressions': {}}, 'header': {'msg_id': '9E14933726D24A35AEC819FBBDB5070C', 'msg_type': 'execute_request', 'session': '50D74FEAC60649579A854D265B5DC92C', 'username': 'username', 'version': '5.0'}, 'metadata': {}, 'msg_id': '9E14933726D24A35AEC819FBBDB5070C', 'msg_type': 'execute_request', 'parent_header': {}})\n    357         if not silent:\n    358             self.execution_count += 1\n    359             self._publish_execute_input(code, parent, self.execution_count)\n    360         \n    361         reply_content = self.do_execute(code, silent, store_history,\n--> 362                                         user_expressions, allow_stdin)\n        user_expressions = {}\n        allow_stdin = True\n    363 \n    364         # Flush output before sending the reply.\n    365         sys.stdout.flush()\n    366         sys.stderr.flush()\n\n...........................................................................\n/Applications/anaconda/lib/python2.7/site-packages/IPython/kernel/zmq/ipkernel.py in do_execute(self=<IPython.kernel.zmq.ipkernel.IPythonKernel object>, code=u'from sklearn import pipeline\\nfrom sklearn.cro...\\nperf_report = grid_ridge.fit(train_x, train_y)', silent=False, store_history=True, user_expressions={}, allow_stdin=True)\n    176 \n    177         reply_content = {}\n    178         # FIXME: the shell calls the exception handler itself.\n    179         shell._reply_content = None\n    180         try:\n--> 181             shell.run_cell(code, store_history=store_history, silent=silent)\n        shell.run_cell = <bound method ZMQInteractiveShell.run_cell of <I....kernel.zmq.zmqshell.ZMQInteractiveShell object>>\n        code = u'from sklearn import pipeline\\nfrom sklearn.cro...\\nperf_report = grid_ridge.fit(train_x, train_y)'\n        store_history = True\n        silent = False\n    182         except:\n    183             status = u'error'\n    184             # FIXME: this code right now isn't being used yet by default,\n    185             # because the run_cell() call above directly fires off exception\n\n...........................................................................\n/Applications/anaconda/lib/python2.7/site-packages/IPython/core/interactiveshell.py in run_cell(self=<IPython.kernel.zmq.zmqshell.ZMQInteractiveShell object>, raw_cell=u'from sklearn import pipeline\\nfrom sklearn.cro...\\nperf_report = grid_ridge.fit(train_x, train_y)', store_history=True, silent=False, shell_futures=True)\n   2863                 self.displayhook.exec_result = result\n   2864 \n   2865                 # Execute the user code\n   2866                 interactivity = \"none\" if silent else self.ast_node_interactivity\n   2867                 self.run_ast_nodes(code_ast.body, cell_name,\n-> 2868                    interactivity=interactivity, compiler=compiler, result=result)\n        interactivity = 'last_expr'\n        compiler = <IPython.core.compilerop.CachingCompiler instance>\n   2869 \n   2870                 # Reset this so later displayed values do not modify the\n   2871                 # ExecutionResult\n   2872                 self.displayhook.exec_result = None\n\n...........................................................................\n/Applications/anaconda/lib/python2.7/site-packages/IPython/core/interactiveshell.py in run_ast_nodes(self=<IPython.kernel.zmq.zmqshell.ZMQInteractiveShell object>, nodelist=[<_ast.ImportFrom object>, <_ast.ImportFrom object>, <_ast.ImportFrom object>, <_ast.ImportFrom object>, <_ast.ImportFrom object>, <_ast.ImportFrom object>, <_ast.ImportFrom object>, <_ast.ImportFrom object>, <_ast.ImportFrom object>, <_ast.Assign object>, <_ast.Assign object>, <_ast.Assign object>, <_ast.Assign object>, <_ast.Assign object>], cell_name='<ipython-input-16-7bea703e915f>', interactivity='none', compiler=<IPython.core.compilerop.CachingCompiler instance>, result=<IPython.core.interactiveshell.ExecutionResult object>)\n   2967 \n   2968         try:\n   2969             for i, node in enumerate(to_run_exec):\n   2970                 mod = ast.Module([node])\n   2971                 code = compiler(mod, cell_name, \"exec\")\n-> 2972                 if self.run_code(code, result):\n        self.run_code = <bound method ZMQInteractiveShell.run_code of <I....kernel.zmq.zmqshell.ZMQInteractiveShell object>>\n        code = <code object <module> at 0x10c049d30, file \"<ipython-input-16-7bea703e915f>\", line 29>\n        result = <IPython.core.interactiveshell.ExecutionResult object>\n   2973                     return True\n   2974 \n   2975             for i, node in enumerate(to_run_interactive):\n   2976                 mod = ast.Interactive([node])\n\n...........................................................................\n/Applications/anaconda/lib/python2.7/site-packages/IPython/core/interactiveshell.py in run_code(self=<IPython.kernel.zmq.zmqshell.ZMQInteractiveShell object>, code_obj=<code object <module> at 0x10c049d30, file \"<ipython-input-16-7bea703e915f>\", line 29>, result=<IPython.core.interactiveshell.ExecutionResult object>)\n   3027         outflag = 1  # happens in more places, so it's easier as default\n   3028         try:\n   3029             try:\n   3030                 self.hooks.pre_run_code_hook()\n   3031                 #rprint('Running code', repr(code_obj)) # dbg\n-> 3032                 exec(code_obj, self.user_global_ns, self.user_ns)\n        code_obj = <code object <module> at 0x10c049d30, file \"<ipython-input-16-7bea703e915f>\", line 29>\n        self.user_global_ns = {'DATA_PATH': '/Users/beingzy/Documents/Projects/learning_dist_metrics_exp', 'GridSearchCV': <class 'sklearn.grid_search.GridSearchCV'>, 'HTML': <class 'IPython.core.display.HTML'>, 'In': ['', u\"import os\\nimport sys\\nimport glob\\n\\nimport n...TML\\n\\nget_ipython().magic(u'matplotlib inline')\", u'DATA_PATH = \"/Users/beingzy/Documents/Projects...[\"class\", \"uid_a\", \"uid_b\"]]\\nprint feat_columns', u'DATA_PATH = \"/Users/beingzy/Documents/Projects...[\"class\", \"uid_a\", \"uid_b\"]]\\nprint feat_columns', u'def summarize_null_ptg(ds):\\n    \"\"\"Return the...}, #feats: {1}\".format(df.shape[0], df.shape[1])', u'## Missing value handling:\\nis_feat_na = df[fe...{0, 1}\\nprint df_reduced[\"class\"].value_counts()', u'df_x = df_reduced[feat_columns].fillna(0)\\ndf_...: {1}\".format(train_x.shape[0], test_x.shape[0])', u'clf = tree.DecisionTreeClassifier()\\nclf.fit(train_x, train_y)', u'from sklearn.externals.six import StringIO  \\n...data.getvalue()) \\n#graph.write_pdf(\"iris.pdf\") ', u'from sklearn.externals.six import StringIO  \\n...data.getvalue()) \\n#graph.write_pdf(\"iris.pdf\") ', u'from sklearn.externals.six import StringIO  \\n...data.getvalue()) \\n#graph.write_pdf(\"iris.pdf\") ', u'from sklearn import metrics\\ndef measure_perfo...ication_report=True, show_confusion_matrix=True)', u'measure_performance(test_x, test_y, clf, show_...ication_report=True, show_confusion_matrix=True)', u'from sklearn import pipeline\\nfrom sklearn.cro...\\nperf_report = grid_ridge.fit(train_x, train_y)', u'from sklearn import pipeline\\nfrom sklearn.cro...\\nperf_report = grid_ridge.fit(train_x, train_y)', u'from sklearn import pipeline\\nfrom sklearn.cro...\\nperf_report = grid_ridge.fit(train_x, train_y)', u'from sklearn import pipeline\\nfrom sklearn.cro...\\nperf_report = grid_ridge.fit(train_x, train_y)'], 'Out': {7: DecisionTreeClassifier(compute_importances=None,...,\n            random_state=None, splitter='best')}, 'RANDOM_SEED': 123, 'StratifiedKFold': <class 'sklearn.cross_validation.StratifiedKFold'>, 'StringIO': <class StringIO.StringIO>, '_': DecisionTreeClassifier(compute_importances=None,...,\n            random_state=None, splitter='best'), '_7': DecisionTreeClassifier(compute_importances=None,...,\n            random_state=None, splitter='best'), ...}\n        self.user_ns = {'DATA_PATH': '/Users/beingzy/Documents/Projects/learning_dist_metrics_exp', 'GridSearchCV': <class 'sklearn.grid_search.GridSearchCV'>, 'HTML': <class 'IPython.core.display.HTML'>, 'In': ['', u\"import os\\nimport sys\\nimport glob\\n\\nimport n...TML\\n\\nget_ipython().magic(u'matplotlib inline')\", u'DATA_PATH = \"/Users/beingzy/Documents/Projects...[\"class\", \"uid_a\", \"uid_b\"]]\\nprint feat_columns', u'DATA_PATH = \"/Users/beingzy/Documents/Projects...[\"class\", \"uid_a\", \"uid_b\"]]\\nprint feat_columns', u'def summarize_null_ptg(ds):\\n    \"\"\"Return the...}, #feats: {1}\".format(df.shape[0], df.shape[1])', u'## Missing value handling:\\nis_feat_na = df[fe...{0, 1}\\nprint df_reduced[\"class\"].value_counts()', u'df_x = df_reduced[feat_columns].fillna(0)\\ndf_...: {1}\".format(train_x.shape[0], test_x.shape[0])', u'clf = tree.DecisionTreeClassifier()\\nclf.fit(train_x, train_y)', u'from sklearn.externals.six import StringIO  \\n...data.getvalue()) \\n#graph.write_pdf(\"iris.pdf\") ', u'from sklearn.externals.six import StringIO  \\n...data.getvalue()) \\n#graph.write_pdf(\"iris.pdf\") ', u'from sklearn.externals.six import StringIO  \\n...data.getvalue()) \\n#graph.write_pdf(\"iris.pdf\") ', u'from sklearn import metrics\\ndef measure_perfo...ication_report=True, show_confusion_matrix=True)', u'measure_performance(test_x, test_y, clf, show_...ication_report=True, show_confusion_matrix=True)', u'from sklearn import pipeline\\nfrom sklearn.cro...\\nperf_report = grid_ridge.fit(train_x, train_y)', u'from sklearn import pipeline\\nfrom sklearn.cro...\\nperf_report = grid_ridge.fit(train_x, train_y)', u'from sklearn import pipeline\\nfrom sklearn.cro...\\nperf_report = grid_ridge.fit(train_x, train_y)', u'from sklearn import pipeline\\nfrom sklearn.cro...\\nperf_report = grid_ridge.fit(train_x, train_y)'], 'Out': {7: DecisionTreeClassifier(compute_importances=None,...,\n            random_state=None, splitter='best')}, 'RANDOM_SEED': 123, 'StratifiedKFold': <class 'sklearn.cross_validation.StratifiedKFold'>, 'StringIO': <class StringIO.StringIO>, '_': DecisionTreeClassifier(compute_importances=None,...,\n            random_state=None, splitter='best'), '_7': DecisionTreeClassifier(compute_importances=None,...,\n            random_state=None, splitter='best'), ...}\n   3033             finally:\n   3034                 # Reset our crash handler in place\n   3035                 sys.excepthook = old_excepthook\n   3036         except SystemExit as e:\n\n...........................................................................\n/Users/beingzy/Documents/Projects/learning_dist_metrics_exp/<ipython-input-16-7bea703e915f> in <module>()\n     24                           param_grid = param_grids, \n     25                           refit = True,\n     26                           n_jobs = -1, \n     27                           scoring = score_func,\n     28                           cv = StratifiedKFold(train_y, n_folds=5))\n---> 29 perf_report = grid_ridge.fit(train_x, train_y)\n     30 \n     31 \n     32 \n     33 \n\n...........................................................................\n/Users/beingzy/.local/lib/python2.7/site-packages/sklearn/grid_search.py in fit(self=GridSearchCV(cv=sklearn.cross_validation.Stratif...recall_score at 0x1082cd6e0>)],\n       verbose=0), X=array([[   0.,    0.,    0., ...,    0.,    0., ...[   4.,    0.,    0., ...,    0.,  105.,    0.]]), y=array([1, 0, 0, ..., 1, 1, 1]))\n    591         y : array-like, shape = [n_samples] or [n_samples, n_output], optional\n    592             Target relative to X for classification or regression;\n    593             None for unsupervised learning.\n    594 \n    595         \"\"\"\n--> 596         return self._fit(X, y, ParameterGrid(self.param_grid))\n        self._fit = <bound method GridSearchCV._fit of GridSearchCV(...ecall_score at 0x1082cd6e0>)],\n       verbose=0)>\n        X = array([[   0.,    0.,    0., ...,    0.,    0., ...[   4.,    0.,    0., ...,    0.,  105.,    0.]])\n        y = array([1, 0, 0, ..., 1, 1, 1])\n        self.param_grid = [{'clf_tree__criterion': ['gini']}]\n    597 \n    598 \n    599 class RandomizedSearchCV(BaseSearchCV):\n    600     \"\"\"Randomized search on hyper parameters.\n\n...........................................................................\n/Users/beingzy/.local/lib/python2.7/site-packages/sklearn/grid_search.py in _fit(self=GridSearchCV(cv=sklearn.cross_validation.Stratif...recall_score at 0x1082cd6e0>)],\n       verbose=0), X=array([[   0.,    0.,    0., ...,    0.,    0., ...[   4.,    0.,    0., ...,    0.,  105.,    0.]]), y=array([1, 0, 0, ..., 1, 1, 1]), parameter_iterable=<sklearn.grid_search.ParameterGrid object>)\n    373             pre_dispatch=pre_dispatch\n    374         )(\n    375             delayed(_fit_and_score)(clone(base_estimator), X, y, self.scorer_,\n    376                                     train, test, self.verbose, parameters,\n    377                                     self.fit_params, return_parameters=True)\n--> 378             for parameters in parameter_iterable\n        parameters = undefined\n        parameter_iterable = <sklearn.grid_search.ParameterGrid object>\n    379             for train, test in cv)\n    380 \n    381         # Out is a list of triplet: score, estimator, n_test_samples\n    382         n_fits = len(out)\n\n...........................................................................\n/Users/beingzy/.local/lib/python2.7/site-packages/sklearn/externals/joblib/parallel.py in __call__(self=Parallel(n_jobs=-1), iterable=<itertools.islice object>)\n    655             if pre_dispatch == \"all\" or n_jobs == 1:\n    656                 # The iterable was consumed all at once by the above for loop.\n    657                 # No need to wait for async callbacks to trigger to\n    658                 # consumption.\n    659                 self._iterating = False\n--> 660             self.retrieve()\n        self.retrieve = <bound method Parallel.retrieve of Parallel(n_jobs=-1)>\n    661             # Make sure that we get a last message telling us we are done\n    662             elapsed_time = time.time() - self._start_time\n    663             self._print('Done %3i out of %3i | elapsed: %s finished',\n    664                         (len(self._output),\n\n    ---------------------------------------------------------------------------\n    Sub-process traceback:\n    ---------------------------------------------------------------------------\n    ValueError                                         Mon Mar  9 22:48:30 2015\nPID: 4476                   Python 2.7.9: /Applications/anaconda/bin/python\n...........................................................................\n/Users/beingzy/.local/lib/python2.7/site-packages/sklearn/cross_validation.pyc in _fit_and_score(estimator=DecisionTreeClassifier(compute_importances=None,...,\n            random_state=None, splitter='best'), X=array([[   0.,    0.,    0., ...,    0.,    0., ...[   4.,    0.,    0., ...,    0.,  105.,    0.]]), y=array([1, 0, 0, ..., 1, 1, 1]), scorer=[('precision', <function precision_score>), ('recall', <function recall_score>)], train=array([ 25761,  25762,  25763, ..., 129640, 129641, 129642]), test=array([    0,     1,     2, ..., 26288, 26292, 26293]), verbose=0, parameters={'clf_tree__criterion': 'gini'}, fit_params={}, return_train_score=False, return_parameters=True)\n   1225     fit_params = dict([(k, np.asarray(v)[train]\n   1226                        if hasattr(v, '__len__') and len(v) == n_samples else v)\n   1227                        for k, v in fit_params.items()])\n   1228 \n   1229     if parameters is not None:\n-> 1230         estimator.set_params(**parameters)\n   1231 \n   1232     start_time = time.time()\n   1233 \n   1234     X_train, y_train = _safe_split(estimator, X, y, train)\n\n...........................................................................\n/Users/beingzy/.local/lib/python2.7/site-packages/sklearn/base.pyc in set_params(self=DecisionTreeClassifier(compute_importances=None,...,\n            random_state=None, splitter='best'), **params={'clf_tree__criterion': 'gini'})\n    244             if len(split) > 1:\n    245                 # nested objects case\n    246                 name, sub_name = split\n    247                 if not name in valid_params:\n    248                     raise ValueError('Invalid parameter %s for estimator %s' %\n--> 249                                      (name, self))\n    250                 sub_object = valid_params[name]\n    251                 sub_object.set_params(**{sub_name: value})\n    252             else:\n    253                 # simple objects case\n\nValueError: Invalid parameter clf_tree for estimator DecisionTreeClassifier(compute_importances=None, criterion='gini',\n            max_depth=None, max_features=None, max_leaf_nodes=None,\n            min_density=None, min_samples_leaf=1, min_samples_split=2,\n            random_state=None, splitter='best')\n___________________________________________________________________________"
     ]
    }
   ],
   "source": [
    "from sklearn import pipeline\n",
    "from sklearn.cross_validation import cross_val_score\n",
    "from sklearn.cross_validation import StratifiedKFold\n",
    "from sklearn.grid_search import GridSearchCV\n",
    "from sklearn.metrics import classification_report\n",
    "from sklearn.metrics import precision_score\n",
    "from sklearn.metrics import recall_score\n",
    "from sklearn.metrics import accuracy_score \n",
    "from sklearn.metrics import auc\n",
    "\n",
    "#clf_pipeline = pipeline([( 'clf_tree', tree.DecisionTreeClassifier() )])\n",
    "clf_tree = tree.DecisionTreeClassifier()\n",
    "param_grids = [\n",
    "    {\"clf_tree__criterion\": [\"gini\"]},\n",
    "    #{\"clf_tree__criterion\": [\"gini\"], \"clf_tree__splitter\": [\"best\"], \"clf_tree__min_samples_leaf\": [10, 20, 50, 100]},\n",
    "    #{\"clf_tree__criterion\": [\"entropy\"], \"clf_tree__splitter\": [\"best\"], \"clf_tree__min_samples_leaf\": [10, 20, 50, 100]}\n",
    "    ]\n",
    "score_func =  [\n",
    "    ('precision', precision_score),\n",
    "    ('recall', recall_score),\n",
    "]\n",
    "\n",
    "grid_ridge = GridSearchCV(clf_tree, \n",
    "                          param_grid = param_grids, \n",
    "                          refit = True,\n",
    "                          n_jobs = -1, \n",
    "                          scoring = score_func,\n",
    "                          cv = StratifiedKFold(train_y, n_folds=5))\n",
    "perf_report = grid_ridge.fit(train_x, train_y)"
   ]
  },
  {
   "cell_type": "code",
   "execution_count": 26,
   "metadata": {
    "collapsed": false
   },
   "outputs": [
    {
     "name": "stdout",
     "output_type": "stream",
     "text": [
      "['birthday', 'education_classes_id', 'education_concentration_id', 'education_degree_id', 'education_school_id', 'education_type', 'education_with_id', 'education_year_id', 'first_name', 'gender', 'hometown_id', 'languages_id', 'last_name', 'locale', 'location_id', 'middle_name', 'name', 'political', 'religion', 'work_employer_id', 'work_end_date', 'work_from_id', 'work_location_id', 'work_position_id', 'work_projects_id', 'work_start_date', 'work_with_id']\n"
     ]
    }
   ],
   "source": [
    "print feat_columns"
   ]
  },
  {
   "cell_type": "code",
   "execution_count": 30,
   "metadata": {
    "collapsed": false
   },
   "outputs": [
    {
     "data": {
      "text/html": [
       "<div style=\"max-height:1000px;max-width:1500px;overflow:auto;\">\n",
       "<table border=\"1\" class=\"dataframe\">\n",
       "  <thead>\n",
       "    <tr style=\"text-align: right;\">\n",
       "      <th></th>\n",
       "      <th>class</th>\n",
       "      <th>uid_a</th>\n",
       "      <th>uid_b</th>\n",
       "      <th>birthday</th>\n",
       "      <th>education_classes_id</th>\n",
       "      <th>education_concentration_id</th>\n",
       "      <th>education_degree_id</th>\n",
       "      <th>education_school_id</th>\n",
       "      <th>education_type</th>\n",
       "      <th>education_with_id</th>\n",
       "      <th>...</th>\n",
       "      <th>political</th>\n",
       "      <th>religion</th>\n",
       "      <th>work_employer_id</th>\n",
       "      <th>work_end_date</th>\n",
       "      <th>work_from_id</th>\n",
       "      <th>work_location_id</th>\n",
       "      <th>work_position_id</th>\n",
       "      <th>work_projects_id</th>\n",
       "      <th>work_start_date</th>\n",
       "      <th>work_with_id</th>\n",
       "    </tr>\n",
       "  </thead>\n",
       "  <tbody>\n",
       "    <tr>\n",
       "      <th>count</th>\n",
       "      <td> 224264.000000</td>\n",
       "      <td> 224264.000000</td>\n",
       "      <td> 224264.000000</td>\n",
       "      <td> 55728.000000</td>\n",
       "      <td> 551.000000</td>\n",
       "      <td> 27505.000000</td>\n",
       "      <td> 3544.000000</td>\n",
       "      <td> 138018.000000</td>\n",
       "      <td> 150223.000000</td>\n",
       "      <td>  82.000000</td>\n",
       "      <td>...</td>\n",
       "      <td>  0</td>\n",
       "      <td>  0</td>\n",
       "      <td> 8319.000000</td>\n",
       "      <td> 12789.000000</td>\n",
       "      <td> 4</td>\n",
       "      <td> 6011.000000</td>\n",
       "      <td> 3592.000000</td>\n",
       "      <td> 206.000000</td>\n",
       "      <td> 21094.000000</td>\n",
       "      <td> 6</td>\n",
       "    </tr>\n",
       "    <tr>\n",
       "      <th>mean</th>\n",
       "      <td>      0.641414</td>\n",
       "      <td>   1688.622414</td>\n",
       "      <td>   1772.142894</td>\n",
       "      <td>    87.816789</td>\n",
       "      <td> 229.125227</td>\n",
       "      <td>   185.561643</td>\n",
       "      <td>  141.008183</td>\n",
       "      <td>    161.600400</td>\n",
       "      <td>      0.262550</td>\n",
       "      <td>   9.280488</td>\n",
       "      <td>...</td>\n",
       "      <td>NaN</td>\n",
       "      <td>NaN</td>\n",
       "      <td>  219.593341</td>\n",
       "      <td>    74.976777</td>\n",
       "      <td> 0</td>\n",
       "      <td>  234.330727</td>\n",
       "      <td>  286.505846</td>\n",
       "      <td>   6.393204</td>\n",
       "      <td>   150.509529</td>\n",
       "      <td> 0</td>\n",
       "    </tr>\n",
       "    <tr>\n",
       "      <th>std</th>\n",
       "      <td>      0.479586</td>\n",
       "      <td>    831.244742</td>\n",
       "      <td>    810.630781</td>\n",
       "      <td>   191.001289</td>\n",
       "      <td> 338.094119</td>\n",
       "      <td>   211.882213</td>\n",
       "      <td>  180.172678</td>\n",
       "      <td>    229.809663</td>\n",
       "      <td>      0.618928</td>\n",
       "      <td>  62.462487</td>\n",
       "      <td>...</td>\n",
       "      <td>NaN</td>\n",
       "      <td>NaN</td>\n",
       "      <td>  286.476229</td>\n",
       "      <td>   174.076806</td>\n",
       "      <td> 0</td>\n",
       "      <td>  288.406133</td>\n",
       "      <td>  327.466048</td>\n",
       "      <td>  28.123868</td>\n",
       "      <td>   224.860662</td>\n",
       "      <td> 0</td>\n",
       "    </tr>\n",
       "    <tr>\n",
       "      <th>min</th>\n",
       "      <td>      0.000000</td>\n",
       "      <td>      0.000000</td>\n",
       "      <td>      0.000000</td>\n",
       "      <td>     0.000000</td>\n",
       "      <td>   0.000000</td>\n",
       "      <td>     0.000000</td>\n",
       "      <td>    0.000000</td>\n",
       "      <td>      0.000000</td>\n",
       "      <td>      0.000000</td>\n",
       "      <td>   0.000000</td>\n",
       "      <td>...</td>\n",
       "      <td>NaN</td>\n",
       "      <td>NaN</td>\n",
       "      <td>    0.000000</td>\n",
       "      <td>     0.000000</td>\n",
       "      <td> 0</td>\n",
       "      <td>    0.000000</td>\n",
       "      <td>    0.000000</td>\n",
       "      <td>   0.000000</td>\n",
       "      <td>     0.000000</td>\n",
       "      <td> 0</td>\n",
       "    </tr>\n",
       "    <tr>\n",
       "      <th>25%</th>\n",
       "      <td>      0.000000</td>\n",
       "      <td>   1118.000000</td>\n",
       "      <td>   1102.000000</td>\n",
       "      <td>     0.000000</td>\n",
       "      <td>   1.000000</td>\n",
       "      <td>     4.000000</td>\n",
       "      <td>    0.000000</td>\n",
       "      <td>      0.000000</td>\n",
       "      <td>      0.000000</td>\n",
       "      <td>   0.000000</td>\n",
       "      <td>...</td>\n",
       "      <td>NaN</td>\n",
       "      <td>NaN</td>\n",
       "      <td>    5.000000</td>\n",
       "      <td>     2.000000</td>\n",
       "      <td> 0</td>\n",
       "      <td>    0.000000</td>\n",
       "      <td>    3.000000</td>\n",
       "      <td>   1.000000</td>\n",
       "      <td>     7.000000</td>\n",
       "      <td> 0</td>\n",
       "    </tr>\n",
       "    <tr>\n",
       "      <th>50%</th>\n",
       "      <td>      1.000000</td>\n",
       "      <td>   1737.000000</td>\n",
       "      <td>   1931.000000</td>\n",
       "      <td>     1.000000</td>\n",
       "      <td>   8.000000</td>\n",
       "      <td>    78.000000</td>\n",
       "      <td>    5.000000</td>\n",
       "      <td>     31.000000</td>\n",
       "      <td>      0.000000</td>\n",
       "      <td>   0.000000</td>\n",
       "      <td>...</td>\n",
       "      <td>NaN</td>\n",
       "      <td>NaN</td>\n",
       "      <td>   85.000000</td>\n",
       "      <td>     9.000000</td>\n",
       "      <td> 0</td>\n",
       "      <td>   51.000000</td>\n",
       "      <td>   11.500000</td>\n",
       "      <td>   4.000000</td>\n",
       "      <td>    36.000000</td>\n",
       "      <td> 0</td>\n",
       "    </tr>\n",
       "    <tr>\n",
       "      <th>75%</th>\n",
       "      <td>      1.000000</td>\n",
       "      <td>   2340.000000</td>\n",
       "      <td>   2410.000000</td>\n",
       "      <td>     5.000000</td>\n",
       "      <td> 733.000000</td>\n",
       "      <td>   377.000000</td>\n",
       "      <td>  202.000000</td>\n",
       "      <td>    289.000000</td>\n",
       "      <td>      0.000000</td>\n",
       "      <td>   1.000000</td>\n",
       "      <td>...</td>\n",
       "      <td>NaN</td>\n",
       "      <td>NaN</td>\n",
       "      <td>  404.000000</td>\n",
       "      <td>    28.000000</td>\n",
       "      <td> 0</td>\n",
       "      <td>  479.000000</td>\n",
       "      <td>  513.000000</td>\n",
       "      <td>   5.000000</td>\n",
       "      <td>   153.000000</td>\n",
       "      <td> 0</td>\n",
       "    </tr>\n",
       "    <tr>\n",
       "      <th>max</th>\n",
       "      <td>      1.000000</td>\n",
       "      <td>   3213.000000</td>\n",
       "      <td>   3213.000000</td>\n",
       "      <td>  1006.000000</td>\n",
       "      <td> 747.000000</td>\n",
       "      <td>  1001.000000</td>\n",
       "      <td>  756.000000</td>\n",
       "      <td>   1153.000000</td>\n",
       "      <td>      2.000000</td>\n",
       "      <td> 536.000000</td>\n",
       "      <td>...</td>\n",
       "      <td>NaN</td>\n",
       "      <td>NaN</td>\n",
       "      <td> 1114.000000</td>\n",
       "      <td>   819.000000</td>\n",
       "      <td> 0</td>\n",
       "      <td> 1060.000000</td>\n",
       "      <td>  986.000000</td>\n",
       "      <td> 289.000000</td>\n",
       "      <td>  1014.000000</td>\n",
       "      <td> 0</td>\n",
       "    </tr>\n",
       "  </tbody>\n",
       "</table>\n",
       "<p>8 rows × 30 columns</p>\n",
       "</div>"
      ],
      "text/plain": [
       "               class          uid_a          uid_b      birthday  \\\n",
       "count  224264.000000  224264.000000  224264.000000  55728.000000   \n",
       "mean        0.641414    1688.622414    1772.142894     87.816789   \n",
       "std         0.479586     831.244742     810.630781    191.001289   \n",
       "min         0.000000       0.000000       0.000000      0.000000   \n",
       "25%         0.000000    1118.000000    1102.000000      0.000000   \n",
       "50%         1.000000    1737.000000    1931.000000      1.000000   \n",
       "75%         1.000000    2340.000000    2410.000000      5.000000   \n",
       "max         1.000000    3213.000000    3213.000000   1006.000000   \n",
       "\n",
       "       education_classes_id  education_concentration_id  education_degree_id  \\\n",
       "count            551.000000                27505.000000          3544.000000   \n",
       "mean             229.125227                  185.561643           141.008183   \n",
       "std              338.094119                  211.882213           180.172678   \n",
       "min                0.000000                    0.000000             0.000000   \n",
       "25%                1.000000                    4.000000             0.000000   \n",
       "50%                8.000000                   78.000000             5.000000   \n",
       "75%              733.000000                  377.000000           202.000000   \n",
       "max              747.000000                 1001.000000           756.000000   \n",
       "\n",
       "       education_school_id  education_type  education_with_id      ...       \\\n",
       "count        138018.000000   150223.000000          82.000000      ...        \n",
       "mean            161.600400        0.262550           9.280488      ...        \n",
       "std             229.809663        0.618928          62.462487      ...        \n",
       "min               0.000000        0.000000           0.000000      ...        \n",
       "25%               0.000000        0.000000           0.000000      ...        \n",
       "50%              31.000000        0.000000           0.000000      ...        \n",
       "75%             289.000000        0.000000           1.000000      ...        \n",
       "max            1153.000000        2.000000         536.000000      ...        \n",
       "\n",
       "       political  religion  work_employer_id  work_end_date  work_from_id  \\\n",
       "count          0         0       8319.000000   12789.000000             4   \n",
       "mean         NaN       NaN        219.593341      74.976777             0   \n",
       "std          NaN       NaN        286.476229     174.076806             0   \n",
       "min          NaN       NaN          0.000000       0.000000             0   \n",
       "25%          NaN       NaN          5.000000       2.000000             0   \n",
       "50%          NaN       NaN         85.000000       9.000000             0   \n",
       "75%          NaN       NaN        404.000000      28.000000             0   \n",
       "max          NaN       NaN       1114.000000     819.000000             0   \n",
       "\n",
       "       work_location_id  work_position_id  work_projects_id  work_start_date  \\\n",
       "count       6011.000000       3592.000000        206.000000     21094.000000   \n",
       "mean         234.330727        286.505846          6.393204       150.509529   \n",
       "std          288.406133        327.466048         28.123868       224.860662   \n",
       "min            0.000000          0.000000          0.000000         0.000000   \n",
       "25%            0.000000          3.000000          1.000000         7.000000   \n",
       "50%           51.000000         11.500000          4.000000        36.000000   \n",
       "75%          479.000000        513.000000          5.000000       153.000000   \n",
       "max         1060.000000        986.000000        289.000000      1014.000000   \n",
       "\n",
       "       work_with_id  \n",
       "count             6  \n",
       "mean              0  \n",
       "std               0  \n",
       "min               0  \n",
       "25%               0  \n",
       "50%               0  \n",
       "75%               0  \n",
       "max               0  \n",
       "\n",
       "[8 rows x 30 columns]"
      ]
     },
     "execution_count": 30,
     "metadata": {},
     "output_type": "execute_result"
    }
   ],
   "source": [
    "df.describe()"
   ]
  },
  {
   "cell_type": "markdown",
   "metadata": {},
   "source": [
    "#### Variale Processing\n",
    "* "
   ]
  },
  {
   "cell_type": "code",
   "execution_count": 29,
   "metadata": {
    "collapsed": false
   },
   "outputs": [
    {
     "data": {
      "text/plain": [
       "1"
      ]
     },
     "execution_count": 29,
     "metadata": {},
     "output_type": "execute_result"
    }
   ],
   "source": [
    "remove_feats = ['birthday', 'education_classes_id', \n",
    "                \n",
    "def feature_processor(dataset):\n",
    "    \"\"\"\n",
    "    \"\"\"\n",
    "ds = dataset.copy()\n",
    "    #ds[\"birthday\"] \n",
    "ds[\"education_classes_id\"] = df[\"education_classes_id\"].apply(lambda x: 1 if x > 0 else 0)\n",
    "ds[\"education_concentration_id\"] = df[\"education_concentration_id\"].apply(lambda x: 1 if x > 0 else 0)\n",
    "    #ds[\"education_degree_id\"] \n",
    "ds[\"education_school_id\"] = df[\"education_schoold_id\"].apply(lambda x: 1 if x > 0 else 0)\n",
    "ds[\"education_type_id\"] = df[\"education_type_id\"].apply(lambda x: 1 if x > 0 else 0)\n",
    "ds[\"\n",
    "                \n",
    "        \n",
    "#feat_columns.index(\"education_classes_id\")"
   ]
  },
  {
   "cell_type": "markdown",
   "metadata": {
    "collapsed": false
   },
   "source": [
    "#### Clustering Analysis To Detect Underlying Pattern of The Data\n",
    "* K-means Clustering"
   ]
  },
  {
   "cell_type": "code",
   "execution_count": 22,
   "metadata": {
    "collapsed": false
   },
   "outputs": [
    {
     "data": {
      "text/plain": [
       "KMeans(copy_x=True, init='k-means++', max_iter=300, n_clusters=8, n_init=10,\n",
       "    n_jobs=1, precompute_distances=True, random_state=None, tol=0.0001,\n",
       "    verbose=0)"
      ]
     },
     "execution_count": 22,
     "metadata": {},
     "output_type": "execute_result"
    }
   ],
   "source": [
    "km_cluster = KMeans()\n",
    "km_cluster.fit(train_x)"
   ]
  },
  {
   "cell_type": "code",
   "execution_count": 23,
   "metadata": {
    "collapsed": true
   },
   "outputs": [],
   "source": [
    "tran_class = km_cluster.predict(train_x)"
   ]
  },
  {
   "cell_type": "code",
   "execution_count": 24,
   "metadata": {
    "collapsed": false
   },
   "outputs": [
    {
     "data": {
      "text/plain": [
       "12801191981.687754"
      ]
     },
     "execution_count": 24,
     "metadata": {},
     "output_type": "execute_result"
    }
   ],
   "source": [
    "km_cluster.inertia_"
   ]
  },
  {
   "cell_type": "code",
   "execution_count": 48,
   "metadata": {
    "collapsed": false
   },
   "outputs": [
    {
     "data": {
      "text/plain": [
       "<bound method Series.unique of 0    NaN\n",
       "1    NaN\n",
       "2      5\n",
       "3    NaN\n",
       "4    NaN\n",
       "5    NaN\n",
       "6      0\n",
       "7    NaN\n",
       "8    NaN\n",
       "9    NaN\n",
       "10   NaN\n",
       "11   NaN\n",
       "12   NaN\n",
       "13   NaN\n",
       "14     0\n",
       "...\n",
       "224249    NaN\n",
       "224250    NaN\n",
       "224251    NaN\n",
       "224252    NaN\n",
       "224253    NaN\n",
       "224254    NaN\n",
       "224255    185\n",
       "224256    NaN\n",
       "224257    198\n",
       "224258    NaN\n",
       "224259    NaN\n",
       "224260    NaN\n",
       "224261    403\n",
       "224262    NaN\n",
       "224263    NaN\n",
       "Name: education_concentration_id, Length: 224264, dtype: float64>"
      ]
     },
     "execution_count": 48,
     "metadata": {},
     "output_type": "execute_result"
    }
   ],
   "source": [
    "#df[\"education_classes_id\"][:100].apply(lambda x: 1 if x > 0 else 0)\n",
    "df[\"education_concentration_id\"].unique"
   ]
  },
  {
   "cell_type": "code",
   "execution_count": 44,
   "metadata": {
    "collapsed": false
   },
   "outputs": [
    {
     "data": {
      "text/plain": [
       "array([  nan,    3.,    1.,    0.,    2.,    4.,  746.,    5.,    8.,\n",
       "         14.,  736.,  739.,   10.,  733.,   13.,  745.,  747.,    7.,\n",
       "          6.,   11.,    9.,  732.,  738.,   15.,  741.,  731.,   16.,\n",
       "         12.,  734.,  735.,  325.,  744.,  737.,  414.])"
      ]
     },
     "execution_count": 44,
     "metadata": {},
     "output_type": "execute_result"
    }
   ],
   "source": [
    "df[\"education_classes_id\"].unique()"
   ]
  },
  {
   "cell_type": "code",
   "execution_count": null,
   "metadata": {
    "collapsed": true
   },
   "outputs": [],
   "source": []
  }
 ],
 "metadata": {
  "kernelspec": {
   "display_name": "Python 2",
   "language": "python",
   "name": "python2"
  },
  "language_info": {
   "codemirror_mode": {
    "name": "ipython",
    "version": 2
   },
   "file_extension": ".py",
   "mimetype": "text/x-python",
   "name": "python",
   "nbconvert_exporter": "python",
   "pygments_lexer": "ipython2",
   "version": "2.7.9"
  }
 },
 "nbformat": 4,
 "nbformat_minor": 0
}
