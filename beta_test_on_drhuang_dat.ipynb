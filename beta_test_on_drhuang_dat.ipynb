{
 "cells": [
  {
   "cell_type": "code",
   "execution_count": 1,
   "metadata": {
    "collapsed": true
   },
   "outputs": [],
   "source": [
    "import os\n",
    "import sys\n",
    "import glob\n",
    "import numpy as np\n",
    "import scipy as sp\n",
    "import pandas as pd\n",
    "import networkx as nx\n",
    "from matplotlib import pyplot as plt\n",
    "\n",
    "from scipy.stats import rayleigh\n",
    "from scipy.stats import ks_2samp\n",
    "from numpy import linspace\n",
    "from numpy.random import choice\n",
    "from networkx import Graph\n",
    "\n",
    "from learning_dist_metrics.ldm import LDM\n",
    "from learning_dist_metrics.dist_metrics import weighted_euclidean\n",
    "\n",
    "import matplotlib.pyplot as plt\n",
    "%matplotlib inline"
   ]
  },
  {
   "cell_type": "code",
   "execution_count": 2,
   "metadata": {
    "collapsed": true
   },
   "outputs": [],
   "source": [
    "user_df = pd.read_csv(\"data/drhuang_person.csv\", header=0)\n",
    "friend_df = pd.read_csv(\"data/drhuang_friend.csv\", header=0,)\n",
    "\n",
    "## split data by column\n",
    "uid_df = user_df[\"ID\"]\n",
    "profile_df = user_df[[c for c in user_df.columns if c != \"ID\"]]\n",
    "\n",
    "friend_df.head(3)\n",
    "#friend_df.columns = [\"\"range(0, friend_df.shape[1]-1)\n",
    "relation_mtx = friend_df.ix[:, 1:]\n",
    "relation_mtx.head(4)\n",
    "\n",
    "friend_pairs = []\n",
    "uid_row = friend_df.ix[:, 0]\n",
    "uid_col = uid_row\n",
    "\n",
    "# convert relationship matrix into a list of user pairs\n",
    "# to represent friendships, iterating through items\n",
    "# on the lower triangle of the matrix\n",
    "for i, uid_a in enumerate(uid_row):\n",
    "    for j, uid_b in enumerate(uid_col):\n",
    "\n",
    "        if uid_a < uid_b:\n",
    "            ind = relation_mtx.ix[i, j]\n",
    "            if ind == 1:\n",
    "                friend_pairs.append((uid_a, uid_b))\n",
    "\n",
    "# load relationship into networkx.Graph()\n",
    "from networkx import Graph\n",
    "\n",
    "fnx = Graph()\n",
    "fnx.add_edges_from(friend_pairs)\n",
    "\n",
    "def scalar(x):\n",
    "    _min, _max = min(x), max(x)\n",
    "    _range = (_max - _min) * 1.0\n",
    "    res = [(i - _min) / _range for i in x]\n",
    "    return res\n",
    "\n",
    "## transform data\n",
    "new_profile_df = pd.DataFrame()\n",
    "\n",
    "new_profile_df[\"ID\"]        = uid_df #uid_df[\"ID\"]\n",
    "new_profile_df[\"Gender\"]    = profile_df.ix[:, 0]\n",
    "new_profile_df[\"Age\"]       = scalar(profile_df[\"Age\"])\n",
    "new_profile_df[\"Region\"]    = scalar(profile_df[\"Region\"])\n",
    "new_profile_df[\"Education\"] = scalar(profile_df[\"Education\"])\n",
    "new_profile_df[\"Income\"]    = scalar(profile_df[\"Income\"])\n",
    "new_profile_df[\"Hobby\"]     = scalar(profile_df[\"Hobby\"])\n",
    "new_profile_df[\"Duration\"]  = scalar(profile_df[\"Duration\"])"
   ]
  },
  {
   "cell_type": "code",
   "execution_count": 3,
   "metadata": {
    "collapsed": false
   },
   "outputs": [
    {
     "name": "stdout",
     "output_type": "stream",
     "text": [
      "Initiating ...\n",
      "1 iteration is in processing ...\n",
      "--- 52.17 seconds ---\n",
      "1) #fit: 88, #unfit: 12, #buffer: 0\n",
      "1) #fit: 88, #unfit: 12, #buffer: 0\n",
      "1) #fit: 88, #unfit: 0, #buffer: 12\n",
      "2 iteration is in processing ...\n",
      "--- 41.00 seconds ---\n",
      "1) #fit: 79, #unfit: 9, #buffer: 12\n",
      "1) #fit: 91, #unfit: 9, #buffer: 0\n",
      "1) #fit: 91, #unfit: 0, #buffer: 9\n",
      "3 iteration is in processing ...\n",
      "--- 43.56 seconds ---\n",
      "1) #fit: 85, #unfit: 6, #buffer: 9\n",
      "1) #fit: 94, #unfit: 6, #buffer: 0\n",
      "1) #fit: 94, #unfit: 0, #buffer: 6\n"
     ]
    },
    {
     "ename": "UnboundLocalError",
     "evalue": "local variable 'user_dropout_dict' referenced before assignment",
     "output_type": "error",
     "traceback": [
      "\u001b[1;31m---------------------------------------------------------------------------\u001b[0m",
      "\u001b[1;31mUnboundLocalError\u001b[0m                         Traceback (most recent call last)",
      "\u001b[1;32m<ipython-input-3-7fa5ba2d2f3a>\u001b[0m in \u001b[0;36m<module>\u001b[1;34m()\u001b[0m\n\u001b[0;32m      2\u001b[0m \u001b[1;33m\u001b[0m\u001b[0m\n\u001b[0;32m      3\u001b[0m \u001b[1;31m# w = ldm_train_with_list(all_uids, new_profile_df, friend_pairs, retain_type=1)\u001b[0m\u001b[1;33m\u001b[0m\u001b[1;33m\u001b[0m\u001b[0m\n\u001b[1;32m----> 4\u001b[1;33m \u001b[0mres\u001b[0m \u001b[1;33m=\u001b[0m \u001b[0mlearning_wrapper\u001b[0m\u001b[1;33m(\u001b[0m\u001b[0mprofile_df\u001b[0m\u001b[1;33m=\u001b[0m\u001b[0mnew_profile_df\u001b[0m\u001b[1;33m,\u001b[0m \u001b[0mfriends_pair\u001b[0m\u001b[1;33m=\u001b[0m\u001b[0mfriend_pairs\u001b[0m\u001b[1;33m,\u001b[0m \u001b[0mmax_iter\u001b[0m\u001b[1;33m=\u001b[0m\u001b[1;36m50\u001b[0m\u001b[1;33m,\u001b[0m                       \u001b[0mk\u001b[0m\u001b[1;33m=\u001b[0m\u001b[1;36m1\u001b[0m\u001b[1;33m,\u001b[0m \u001b[0mc\u001b[0m\u001b[1;33m=\u001b[0m\u001b[1;36m0.1\u001b[0m\u001b[1;33m,\u001b[0m \u001b[0mdropout_rate\u001b[0m\u001b[1;33m=\u001b[0m\u001b[1;36m0.2\u001b[0m\u001b[1;33m,\u001b[0m \u001b[0mfit_rayleigh\u001b[0m\u001b[1;33m=\u001b[0m\u001b[0mTrue\u001b[0m\u001b[1;33m,\u001b[0m \u001b[0mverbose\u001b[0m\u001b[1;33m=\u001b[0m\u001b[0mTrue\u001b[0m\u001b[1;33m,\u001b[0m                        \u001b[0mbuffer_group_enabled\u001b[0m\u001b[1;33m=\u001b[0m\u001b[0mTrue\u001b[0m\u001b[1;33m)\u001b[0m\u001b[1;33m\u001b[0m\u001b[0m\n\u001b[0m",
      "\u001b[1;32m/home/beingzy/Documents/projects/phd_experiment/GWDLearner.py\u001b[0m in \u001b[0;36mlearning_wrapper\u001b[1;34m(profile_df, friends_pair, k, c, threshold_max, min_size_group, min_delta_f, dropout_rate, max_iter, fit_rayleigh, n, verbose, buffer_group_enabled)\u001b[0m\n\u001b[0;32m    711\u001b[0m \u001b[1;33m\u001b[0m\u001b[0m\n\u001b[0;32m    712\u001b[0m             \u001b[1;31m# randomly reassign users to other group\u001b[0m\u001b[1;33m\u001b[0m\u001b[1;33m\u001b[0m\u001b[0m\n\u001b[1;32m--> 713\u001b[1;33m             \u001b[1;32mif\u001b[0m \u001b[0mlen\u001b[0m\u001b[1;33m(\u001b[0m\u001b[0muser_dropout_dict\u001b[0m\u001b[1;33m)\u001b[0m \u001b[1;33m>\u001b[0m \u001b[1;36m0\u001b[0m\u001b[1;33m:\u001b[0m\u001b[1;33m\u001b[0m\u001b[0m\n\u001b[0m\u001b[0;32m    714\u001b[0m                 \u001b[1;32mfor\u001b[0m \u001b[0mg\u001b[0m\u001b[1;33m,\u001b[0m \u001b[0muids\u001b[0m \u001b[1;32min\u001b[0m \u001b[0muser_dropout_dict\u001b[0m\u001b[1;33m.\u001b[0m\u001b[0miteritems\u001b[0m\u001b[1;33m(\u001b[0m\u001b[1;33m)\u001b[0m\u001b[1;33m:\u001b[0m\u001b[1;33m\u001b[0m\u001b[0m\n\u001b[0;32m    715\u001b[0m                     \u001b[0mpvals\u001b[0m  \u001b[1;33m=\u001b[0m \u001b[0mpval_dropout_dict\u001b[0m\u001b[1;33m[\u001b[0m\u001b[0mg\u001b[0m\u001b[1;33m]\u001b[0m\u001b[1;33m\u001b[0m\u001b[0m\n",
      "\u001b[1;31mUnboundLocalError\u001b[0m: local variable 'user_dropout_dict' referenced before assignment"
     ]
    }
   ],
   "source": [
    "from GWDLearner import *\n",
    "\n",
    "# w = ldm_train_with_list(all_uids, new_profile_df, friend_pairs, retain_type=1)\n",
    "res = learning_wrapper(profile_df=new_profile_df, friends_pair=friend_pairs, max_iter=50,\\\n",
    "                       k=1, c=0.1, dropout_rate=0.2, fit_rayleigh=True, verbose=True, \\\n",
    "                       buffer_group_enabled=True)"
   ]
  },
  {
   "cell_type": "code",
   "execution_count": null,
   "metadata": {
    "collapsed": true
   },
   "outputs": [],
   "source": []
  }
 ],
 "metadata": {
  "kernelspec": {
   "display_name": "Python 2",
   "language": "python",
   "name": "python2"
  },
  "language_info": {
   "codemirror_mode": {
    "name": "ipython",
    "version": 2
   },
   "file_extension": ".py",
   "mimetype": "text/x-python",
   "name": "python",
   "nbconvert_exporter": "python",
   "pygments_lexer": "ipython2",
   "version": "2.7.9"
  }
 },
 "nbformat": 4,
 "nbformat_minor": 0
}
