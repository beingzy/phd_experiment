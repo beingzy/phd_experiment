{
 "cells": [
  {
   "cell_type": "code",
   "execution_count": 1,
   "metadata": {
    "collapsed": true
   },
   "outputs": [],
   "source": [
    "import os\n",
    "import sys\n",
    "import glob\n",
    "import numpy as np\n",
    "import scipy as sp\n",
    "import pandas as pd\n",
    "import networkx as nx\n",
    "from matplotlib import pyplot as plt\n",
    "\n",
    "from scipy.stats import rayleigh\n",
    "from scipy.stats import ks_2samp\n",
    "from numpy import linspace\n",
    "from numpy.random import choice\n",
    "from networkx import Graph\n",
    "\n",
    "from learning_dist_metrics.ldm import LDM\n",
    "from learning_dist_metrics.dist_metrics import weighted_euclidean\n",
    "\n",
    "import matplotlib.pyplot as plt\n",
    "%matplotlib inline"
   ]
  },
  {
   "cell_type": "code",
   "execution_count": 2,
   "metadata": {
    "collapsed": true
   },
   "outputs": [],
   "source": [
    "DATA_PATH = \"./data/sim_data_yi/\" \n",
    "\n",
    "users_df   = pd.read_csv(DATA_PATH + \"users_profile.csv\", header = 0, sep = \",\")\n",
    "friends_df = pd.read_csv(DATA_PATH + \"friendships.csv\", header = 0, sep = \",\")\n",
    "dist_df    = pd.read_csv(DATA_PATH + \"dist_mat.csv\", header = 0, sep = \",\")\n",
    "\n",
    "friends_df = friends_df[friends_df.isFriend == 1]\n",
    "friends_df[\"pair\"] = friends_df[[\"uid_a\", \"uid_b\"]].apply(lambda x: (int(x[0]), int(x[1])), axis=1)\n",
    "friends_df.drop(\"isFriend\", axis=1, inplace=True)\n",
    "friends_df = friends_df[[\"pair\", \"uid_a\", \"uid_b\"]]\n",
    "friends_df.head(3)\n",
    "\n",
    "cols = [\"x0\", \"x1\", \"x2\", \"x3\", \"x4\", \"x5\"]\n",
    "\n",
    "## subset users data to retain profile only\n",
    "profile_df = users_df[[\"ID\"] + cols]\n",
    "all_user_ids = list(set(users_df.ID))"
   ]
  },
  {
   "cell_type": "code",
   "execution_count": 3,
   "metadata": {
    "collapsed": false
   },
   "outputs": [],
   "source": [
    "from GWDLearner import *"
   ]
  },
  {
   "cell_type": "code",
   "execution_count": null,
   "metadata": {
    "collapsed": false
   },
   "outputs": [
    {
     "name": "stdout",
     "output_type": "stream",
     "text": [
      "Initiating ...\n",
      "1 iteration is in processing ...\n",
      "--- 32.48 seconds ---\n",
      "--- 24.10 seconds ---\n",
      "1) #fit: 100, #unfit: 0, #buffer: 0\n",
      "1) #fit: 100, #unfit: 0, #buffer: 0\n",
      "1) #fit: 100, #unfit: 0, #buffer: 0\n",
      "2 iteration is in processing ...\n",
      "--- 32.56 seconds ---"
     ]
    }
   ],
   "source": [
    "profile_df = profile_df      # user profile\n",
    "friends_ls = friends_df.pair # user relationship \n",
    "\n",
    "res = learning_wrapper(profile_df=profile_df, friends_pair=friends_ls, \n",
    "                       k=2, c=0.1, dropout=0.2, fit_rayleigh=False, verbose=True)"
   ]
  },
  {
   "cell_type": "code",
   "execution_count": 5,
   "metadata": {
    "collapsed": false
   },
   "outputs": [
    {
     "data": {
      "text/plain": [
       "pandas.core.frame.DataFrame"
      ]
     },
     "execution_count": 5,
     "metadata": {},
     "output_type": "execute_result"
    }
   ],
   "source": []
  },
  {
   "cell_type": "code",
   "execution_count": null,
   "metadata": {
    "collapsed": true
   },
   "outputs": [],
   "source": []
  }
 ],
 "metadata": {
  "kernelspec": {
   "display_name": "Python 2",
   "language": "python",
   "name": "python2"
  },
  "language_info": {
   "codemirror_mode": {
    "name": "ipython",
    "version": 2
   },
   "file_extension": ".py",
   "mimetype": "text/x-python",
   "name": "python",
   "nbconvert_exporter": "python",
   "pygments_lexer": "ipython2",
   "version": "2.7.9"
  }
 },
 "nbformat": 4,
 "nbformat_minor": 0
}
