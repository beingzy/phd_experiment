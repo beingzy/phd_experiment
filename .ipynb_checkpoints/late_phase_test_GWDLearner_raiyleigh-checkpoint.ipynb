{
 "cells": [
  {
   "cell_type": "code",
   "execution_count": 1,
   "metadata": {
    "collapsed": true
   },
   "outputs": [],
   "source": [
    "import os\n",
    "import sys\n",
    "import glob\n",
    "import numpy as np\n",
    "import scipy as sp\n",
    "import pandas as pd\n",
    "import networkx as nx\n",
    "from matplotlib import pyplot as plt\n",
    "\n",
    "from scipy.stats import rayleigh\n",
    "from scipy.stats import ks_2samp\n",
    "from numpy import linspace\n",
    "from numpy.random import choice\n",
    "from networkx import Graph\n",
    "\n",
    "from learning_dist_metrics.ldm import LDM\n",
    "from learning_dist_metrics.dist_metrics import weighted_euclidean\n",
    "\n",
    "import matplotlib.pyplot as plt\n",
    "%matplotlib inline"
   ]
  },
  {
   "cell_type": "code",
   "execution_count": 2,
   "metadata": {
    "collapsed": true
   },
   "outputs": [],
   "source": [
    "DATA_PATH = \"./data/sim_data_yi/\" \n",
    "\n",
    "users_df   = pd.read_csv(DATA_PATH + \"users_profile.csv\", header = 0, sep = \",\")\n",
    "friends_df = pd.read_csv(DATA_PATH + \"friendships.csv\", header = 0, sep = \",\")\n",
    "dist_df    = pd.read_csv(DATA_PATH + \"dist_mat.csv\", header = 0, sep = \",\")\n",
    "\n",
    "friends_df = friends_df[friends_df.isFriend == 1]\n",
    "friends_df[\"pair\"] = friends_df[[\"uid_a\", \"uid_b\"]].apply(lambda x: (int(x[0]), int(x[1])), axis=1)\n",
    "friends_df.drop(\"isFriend\", axis=1, inplace=True)\n",
    "friends_df = friends_df[[\"pair\", \"uid_a\", \"uid_b\"]]\n",
    "friends_df.head(3)\n",
    "\n",
    "cols = [\"x0\", \"x1\", \"x2\", \"x3\", \"x4\", \"x5\"]\n",
    "\n",
    "## subset users data to retain profile only\n",
    "profile_df = users_df[[\"ID\"] + cols]\n",
    "all_user_ids = list(set(users_df.ID))"
   ]
  },
  {
   "cell_type": "code",
   "execution_count": 3,
   "metadata": {
    "collapsed": false
   },
   "outputs": [],
   "source": [
    "from GWDLearner import *"
   ]
  },
  {
   "cell_type": "code",
   "execution_count": 4,
   "metadata": {
    "collapsed": false
   },
   "outputs": [
    {
     "name": "stdout",
     "output_type": "stream",
     "text": [
      "Initiating ...\n",
      "1 iteration is in processing ...\n",
      "--- 23.81 seconds ---\n",
      "--- 21.25 seconds ---\n",
      "1) #fit: 92, #unfit: 8, #buffer: 0\n",
      "1) #fit: 92, #unfit: 8, #buffer: 0\n",
      "1) #fit: 95, #unfit: 0, #buffer: 5\n",
      "2 iteration is in processing ...\n",
      "--- 23.76 seconds ---\n",
      "--- 27.92 seconds ---\n",
      "1) #fit: 85, #unfit: 10, #buffer: 5\n",
      "1) #fit: 87, #unfit: 10, #buffer: 3\n",
      "1) #fit: 92, #unfit: 0, #buffer: 8\n",
      "** dropout is activating ...\n",
      "\n",
      "error pop up for dropouting! \n",
      "\n",
      "error pop up for dropouting! \n",
      "\n",
      "3 iteration is in processing ...\n",
      "--- 39.43 seconds ---\n",
      "--- 22.70 seconds ---\n",
      "1) #fit: 68, #unfit: 12, #buffer: 8\n",
      "1) #fit: 69, #unfit: 12, #buffer: 7\n",
      "1) #fit: 78, #unfit: 0, #buffer: 10\n",
      "** dropout is activating ...\n",
      "\n"
     ]
    },
    {
     "ename": "TypeError",
     "evalue": "unhashable type: 'numpy.ndarray'",
     "output_type": "error",
     "traceback": [
      "\u001b[1;31m---------------------------------------------------------------------------\u001b[0m",
      "\u001b[1;31mTypeError\u001b[0m                                 Traceback (most recent call last)",
      "\u001b[1;32m<ipython-input-4-579b78b81510>\u001b[0m in \u001b[0;36m<module>\u001b[1;34m()\u001b[0m\n\u001b[0;32m      3\u001b[0m \u001b[1;33m\u001b[0m\u001b[0m\n\u001b[0;32m      4\u001b[0m res = learning_wrapper(profile_df=profile_df, friends_pair=friends_ls, \n\u001b[1;32m----> 5\u001b[1;33m                        k=2, c=0.1, dropout=0.2, fit_rayleigh=True, verbose=True)\n\u001b[0m",
      "\u001b[1;32m/home/beingzy/Documents/projects/phd_experiment/GWDLearner.py\u001b[0m in \u001b[0;36mlearning_wrapper\u001b[1;34m(profile_df, friends_pair, k, c, threshold_max, threshold_min, min_size_group, min_delta_f, dropout, max_iter, cum_iter, fit_rayleigh, n, verbose)\u001b[0m\n\u001b[0;32m    676\u001b[0m                         \u001b[0mgroups\u001b[0m\u001b[1;33m.\u001b[0m\u001b[0mremove\u001b[0m\u001b[1;33m(\u001b[0m\u001b[0mg\u001b[0m\u001b[1;33m)\u001b[0m\u001b[1;33m\u001b[0m\u001b[0m\n\u001b[0;32m    677\u001b[0m                         \u001b[0mtg\u001b[0m \u001b[1;33m=\u001b[0m \u001b[0mchoice\u001b[0m\u001b[1;33m(\u001b[0m\u001b[0mgroups\u001b[0m\u001b[1;33m,\u001b[0m \u001b[1;36m1\u001b[0m\u001b[1;33m)\u001b[0m\u001b[1;33m\u001b[0m\u001b[0m\n\u001b[1;32m--> 678\u001b[1;33m                         \u001b[0mfit_group\u001b[0m\u001b[1;33m[\u001b[0m\u001b[0mtg\u001b[0m\u001b[1;33m]\u001b[0m \u001b[1;33m=\u001b[0m \u001b[0mnp\u001b[0m\u001b[1;33m.\u001b[0m\u001b[0mappend\u001b[0m\u001b[1;33m(\u001b[0m\u001b[0mfit_group\u001b[0m\u001b[1;33m[\u001b[0m\u001b[0mtg\u001b[0m\u001b[1;33m]\u001b[0m\u001b[1;33m,\u001b[0m \u001b[0muids\u001b[0m\u001b[1;33m)\u001b[0m\u001b[1;33m\u001b[0m\u001b[0m\n\u001b[0m\u001b[0;32m    679\u001b[0m \u001b[1;33m\u001b[0m\u001b[0m\n\u001b[0;32m    680\u001b[0m     \u001b[1;31m# print \"fit score (type-%d): %.3f\" % (t, fs)\u001b[0m\u001b[1;33m\u001b[0m\u001b[1;33m\u001b[0m\u001b[0m\n",
      "\u001b[1;31mTypeError\u001b[0m: unhashable type: 'numpy.ndarray'"
     ]
    }
   ],
   "source": [
    "profile_df = profile_df      # user profile\n",
    "friends_ls = friends_df.pair # user relationship \n",
    "\n",
    "res = learning_wrapper(profile_df=profile_df, friends_pair=friends_ls, \n",
    "                       k=2, c=0.1, dropout=0.2, fit_rayleigh=True, verbose=True)"
   ]
  },
  {
   "cell_type": "code",
   "execution_count": 6,
   "metadata": {
    "collapsed": false
   },
   "outputs": [],
   "source": [
    "x = {}\n",
    "x[0] = [1, 2, 3]"
   ]
  },
  {
   "cell_type": "code",
   "execution_count": 8,
   "metadata": {
    "collapsed": false
   },
   "outputs": [
    {
     "data": {
      "text/plain": [
       "0"
      ]
     },
     "execution_count": 8,
     "metadata": {},
     "output_type": "execute_result"
    }
   ],
   "source": [
    "len({})"
   ]
  },
  {
   "cell_type": "code",
   "execution_count": null,
   "metadata": {
    "collapsed": true
   },
   "outputs": [],
   "source": []
  }
 ],
 "metadata": {
  "kernelspec": {
   "display_name": "Python 2",
   "language": "python",
   "name": "python2"
  },
  "language_info": {
   "codemirror_mode": {
    "name": "ipython",
    "version": 2
   },
   "file_extension": ".py",
   "mimetype": "text/x-python",
   "name": "python",
   "nbconvert_exporter": "python",
   "pygments_lexer": "ipython2",
   "version": "2.7.9"
  }
 },
 "nbformat": 4,
 "nbformat_minor": 0
}
