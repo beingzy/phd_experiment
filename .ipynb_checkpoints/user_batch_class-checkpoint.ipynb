{
 "cells": [
  {
   "cell_type": "markdown",
   "metadata": {},
   "source": [
    "### UserBatch Class Development to Provide Easy Access API\n",
    "\n",
    "* load_users\n",
    "\n",
    "* cal_distances\n",
    "\n",
    "Update pairwise distance based on new distance function\n",
    "\n",
    "* list_dist_distr(taste_group=[None, 0, 1])\n",
    "\n",
    "Return the distance metric value of particular group.\n",
    "  \n",
    "* plot_dist_distr(taste_group=[None, 0, 1])\n",
    "\n",
    "Visualize the distance distribution colored by taste group\n",
    "\n",
    "##### 2. Access User-wise Information\n",
    "* get_user_profile(user_id)\n",
    "\n",
    "* get_user_friends(user_id)\n",
    "\n",
    "* list_friends_dist(user_id)"
   ]
  },
  {
   "cell_type": "code",
   "execution_count": 2,
   "metadata": {
    "collapsed": true
   },
   "outputs": [],
   "source": [
    "import numpy as np\n",
    "import scipy as sp\n",
    "import pandas as pd\n",
    "\n",
    "from itertools import combinations\n",
    "from scipy.spatial.distance import euclidean\n",
    "\n",
    "import matplotlib.pyplot as plt\n",
    "\n",
    "%matplotlib inline"
   ]
  },
  {
   "cell_type": "code",
   "execution_count": 3,
   "metadata": {
    "collapsed": false
   },
   "outputs": [
    {
     "ename": "ImportError",
     "evalue": "No module named progressbar",
     "output_type": "error",
     "traceback": [
      "\u001b[1;31m---------------------------------------------------------------------------\u001b[0m",
      "\u001b[1;31mImportError\u001b[0m                               Traceback (most recent call last)",
      "\u001b[1;32m<ipython-input-3-730b759c7166>\u001b[0m in \u001b[0;36m<module>\u001b[1;34m()\u001b[0m\n\u001b[0;32m      1\u001b[0m \u001b[1;32mfrom\u001b[0m \u001b[0mitertools\u001b[0m \u001b[1;32mimport\u001b[0m \u001b[0mcombinations\u001b[0m\u001b[1;33m\u001b[0m\u001b[0m\n\u001b[0;32m      2\u001b[0m \u001b[1;32mfrom\u001b[0m \u001b[0mscipy\u001b[0m\u001b[1;33m.\u001b[0m\u001b[0mspatial\u001b[0m\u001b[1;33m.\u001b[0m\u001b[0mdistance\u001b[0m \u001b[1;32mimport\u001b[0m \u001b[0meuclidean\u001b[0m\u001b[1;33m\u001b[0m\u001b[0m\n\u001b[1;32m----> 3\u001b[1;33m \u001b[1;32mfrom\u001b[0m \u001b[0mprogressbar\u001b[0m \u001b[1;32mimport\u001b[0m \u001b[0mProgressBar\u001b[0m\u001b[1;33m\u001b[0m\u001b[0m\n\u001b[0m\u001b[0;32m      4\u001b[0m \u001b[1;33m\u001b[0m\u001b[0m\n\u001b[0;32m      5\u001b[0m \u001b[1;32mclass\u001b[0m \u001b[0mUserBatch\u001b[0m\u001b[1;33m(\u001b[0m\u001b[0mobject\u001b[0m\u001b[1;33m)\u001b[0m\u001b[1;33m:\u001b[0m\u001b[1;33m\u001b[0m\u001b[0m\n",
      "\u001b[1;31mImportError\u001b[0m: No module named progressbar"
     ]
    }
   ],
   "source": [
    "from itertools import combinations\n",
    "from scipy.spatial.distance import euclidean\n",
    "from progressbar import ProgressBar\n",
    "\n",
    "class UserBatch(object):\n",
    "    \n",
    "    def __init__(self):\n",
    "        self.users = pd.DataFrame([])\n",
    "        self.all_user_id = []\n",
    "        self.friends = pd.DataFrame([])\n",
    "        self.dist_df = pd.DataFrame(columns = [\"pair_index\", \"id_a\", \"id_b\", \"dist_a2b\", \"dist_b2a\"])\n",
    "        self.dist_func = euclidean\n",
    "        self.dist_func_type01 = euclidean\n",
    "        self.dist_func_type02 = euclidean\n",
    "        # variable mark the calculation of distances \n",
    "    \n",
    "    def __repr__(self):\n",
    "        return \"{0} unique users included with {1} friendship(s) confirmed.\".format(\\\n",
    "                                                len(self.users), self.friends.shape[0])\n",
    "    \n",
    "    def load_users(self, _users):\n",
    "        \"\"\" Assign _users to .users attribute to store\n",
    "            \n",
    "            Parameters:\n",
    "            -----------\n",
    "            _users: {DataFrame(Pandas)}, columns: \"ID\", \"decision_style\", \"x1\" - \"xn\"\n",
    "        \"\"\"\n",
    "        self.users = _users\n",
    "        self.all_user_id = sorted([i for i in set(users.loc[:, \"ID\"])])\n",
    "        self.__repr__()\n",
    "    \n",
    "    def load_friends(self, _friends):\n",
    "        \"\"\"\n",
    "        \"\"\"\n",
    "        self.friends = _friends\n",
    "        self.__repr__()\n",
    "    \n",
    "    def cal_distances(self):\n",
    "        \"\"\" (Re)calculate the pair-wise distances among users \n",
    "        \n",
    "            user_pair | id_a | id_b | dist_a2b | dist_b2a\n",
    "        \"\"\"\n",
    "        all_pairs = [p for p in combinations(self.all_user_id, 2)]\n",
    "        pbar = ProgressBar(len(all_pairs))\n",
    "        \n",
    "        for i, p in enumerate(all_pairs):\n",
    "            a, b = p\n",
    "            a_profile = self.users.ix[self.users.ID == a, 2:].as_matrix()\n",
    "            a_group   = self.users.ix[self.users.ID == a, 1].as_matrix()[0]\n",
    "            b_profile = self.users.ix[self.users.ID == b, 2:].as_matrix()\n",
    "            b_group   = self.users.ix[self.users.ID == b, 1].as_matrix()[0]\n",
    "            if a < b:\n",
    "                row = [(a, b), a, b]\n",
    "                dist_a2b = decision_rule(a_profile, b_profile, a_group)\n",
    "                if a_group != b_group:\n",
    "                    dist_b2a = decision_rule(b_profile, a_profile, b_group)\n",
    "                else:\n",
    "                    dist_b2a = dist_a2b\n",
    "                row.append(dist_b2a)\n",
    "                row.append(dist_a2b)\n",
    "            else:\n",
    "                row = [(b, a), b, a]\n",
    "                dist_a2b = decision_rule(a_profile, b_profile, a_group)\n",
    "                if a_group != b_group:\n",
    "                    dist_b2a = decision_rule(b_profile, a_profile, b_group)\n",
    "                else:\n",
    "                    dist_b2a = dist_a2b\n",
    "                row.append(dist_b2a)\n",
    "                row.append(dist_a2b)\n",
    "        \n",
    "            pbar.update(i)\n",
    "            row = {\"pair_idx\": row[0], \"id_a\": row[1], \"id_b\": row[2], \\\n",
    "                   \"dist_a2b\": row[3], \"dist_b2a\": row[4]}\n",
    "            self.dist_df.append(row, ignore_index = True)\n",
    "        \n",
    "    \n",
    "    def list_dist_distr(self, taste_group=None):\n",
    "        \"\"\" List pair-wise distance of the group specified \n",
    "            by taste_group\n",
    "        \"\"\"\n",
    "        pass\n",
    "    \n",
    "    def plot_dist_distr(self, taste_group=None):\n",
    "        \"\"\" Plot the histogram of distances of the group specified\n",
    "            by taste_group, bars was colored by connections [0, 1]\n",
    "        \"\"\"\n",
    "        pass"
   ]
  },
  {
   "cell_type": "code",
   "execution_count": 4,
   "metadata": {
    "collapsed": false
   },
   "outputs": [],
   "source": [
    "from numpy.random import binomial\n",
    "\n",
    "## ######################### ##\n",
    "## GENERATE EXMPERIMENT DATA ##\n",
    "## ######################### ##\n",
    "np.random.seed(20150408)\n",
    "n_samples = 100\n",
    " \n",
    "users = pd.DataFrame(\n",
    "    {\"ID\": range(n_samples),\n",
    "     \"decision_style\": np.random.choice([0, 1], size = n_samples, replace=True, p = (0.7, 0.3)),\n",
    "     \"x0\": np.random.uniform(0, 1, n_samples),\n",
    "     \"x1\": np.random.uniform(0, 1, n_samples),\n",
    "     \"x2\": np.random.uniform(0, 1, n_samples),\n",
    "     \"x3\": np.random.uniform(0, 1, n_samples),\n",
    "     \"x4\": np.random.uniform(0, 1, n_samples),\n",
    "     \"x5\": np.random.uniform(0, 1, n_samples)\n",
    "     })\n",
    "\n",
    "## ########################## ##\n",
    "## CUSTOM FUNCTION            ##\n",
    "## -------------------------- ##\n",
    "## DATA SIMULATION LOGIC      ##\n",
    "## ########################## ##\n",
    "def dist_func(a, b, weights = None):\n",
    "    \"\"\"Calculate the distance\n",
    "    \"\"\"\n",
    "    if weights == None:\n",
    "        weights = [1] * len(a)\n",
    "        \n",
    "    a = np.array(a) * weights\n",
    "    b = np.array(b) * weights\n",
    "    return euclidean(a, b)\n",
    " \n",
    "def is_friends(dist, threshold = 0.3):\n",
    "    \"\"\"Return 1 if user decided to become a friend\n",
    "       Or 0, if the user does not want to become a friend\n",
    "       with other. The underlying logic governing the\n",
    "       decision-makeing follows a mixture of two binomial\n",
    "       distributions which is parametrized by distance\n",
    "       between two users.\n",
    "\n",
    "       Decision logic:\n",
    "       ===============\n",
    "       if distance < threshold, \\beta = 0.7\n",
    "       else, \\beta = 0.2\n",
    "    \"\"\"\n",
    "    if dist <= threshold:\n",
    "        res = binomial(1, 0.9)\n",
    "    else:\n",
    "        res = binomial(1, 0.1)\n",
    "    return res\n",
    " \n",
    "def decision_rule_01(a, b):\n",
    "    weights = [0.5, 0.5, 0.1, 0., 0., 0.]\n",
    "    return dist_func(a, b, weights)\n",
    " \n",
    "def decision_rule_02(a, b):\n",
    "    weights = [0., 0., 0., 0.5, 0.3, 0.2]\n",
    "    return dist_func(a, b, weights)\n",
    " \n",
    "def decision_rule(a, b, type_idx):\n",
    "    \"\"\" Consolidate decision_rule_01 and decision_rule_02\n",
    "        into a single function to unify the interface\n",
    "    \"\"\"\n",
    "    if type_idx == 0:\n",
    "        res = decision_rule_01(a, b)\n",
    "    elif type_idx == 1:\n",
    "        res = decision_rule_02(a, b)\n",
    "    else:\n",
    "        res = dist_func(a, b)\n",
    "    return res\n",
    " \n",
    "def make_connection(decision_a, decision_b):\n",
    "    \"\"\"Return 1 if decision_a and decision_b are both 1(s)\n",
    "       to indicate two parties aggree to be connected\n",
    "       Otherwise, return 0\n",
    "    \"\"\"\n",
    "    if decision_a == 1 and decision_b == 1:\n",
    "        res = 1\n",
    "    else:\n",
    "        res = 0\n",
    "    return res\n",
    " \n",
    "def friendship_agreement(a_id, b_id, \\\n",
    "                         a_profile, b_profile, \\\n",
    "                         a_dec_rule, b_dec_rule):\n",
    "    \"\"\" Mathematical simulation\n",
    "    \"\"\"\n",
    "    dist_a = decision_rule(a_profile, b_profile, a_dec_rule)\n",
    "    dist_b = decision_rule(b_profile, a_profile, b_dec_rule)\n",
    "    dec_a = is_friends(dist_a)\n",
    "    dec_b = is_friends(dist_b)\n",
    "    is_connected = make_connection(dec_a, dec_b)\n",
    "    if a_id > b_id:\n",
    "        res = [b_id, a_id, is_connected]\n",
    "    else:\n",
    "        res = [a_id, b_id, is_connected]\n",
    "    return res\n",
    "\n",
    "## ########################## ##\n",
    "## Simulate User Relationship ##\n",
    "## ########################## ##\n",
    "all_users = set(users.loc[:, \"ID\"])\n",
    "rel_df = np.empty([len(all_users) * len(all_users), 3])\n",
    "dist_df = np.empty([len(all_users) * len(all_users), 4])\n",
    "\n",
    "row_counter = 0\n",
    "for a_id in all_users:\n",
    "    for b_id in all_users:\n",
    "        if a_id != b_id:\n",
    "            a_pos = [i for i, val in enumerate(users[\"ID\"] == a_id) if val]\n",
    "            b_pos = [i for i, val in enumerate(users[\"ID\"] == b_id) if val]\n",
    "            \n",
    "            a_dec_rule = users.loc[a_pos, \"decision_style\"].as_matrix()\n",
    "            a_profile  = users.iloc[a_pos, 2:].as_matrix()\n",
    "            b_dec_rule = users.loc[b_pos, \"decision_style\"].as_matrix()\n",
    "            b_profile  = users.iloc[b_pos, 2:].as_matrix()\n",
    "            \n",
    "            dist_df[row_counter, :] = [a_id, b_id, \\\n",
    "                                       decision_rule(a_profile, b_profile, a_dec_rule), \\\n",
    "                                       decision_rule(b_profile, a_profile, b_dec_rule)]\n",
    "            rel_df[row_counter, :] = \\\n",
    "                friendship_agreement(a_id, b_id, a_profile, b_profile, \\\n",
    "                                     a_dec_rule, b_dec_rule)\n",
    "            row_counter += 1\n",
    "        else:\n",
    "            rel_df[row_counter, :] = [a_id, b_id, np.nan]\n",
    "            row_counter += 1\n",
    "\n",
    "## Convert np.array() to pd.DataFrame()\n",
    "dist_df = pd.DataFrame(dist_df, columns = [\"uid_a\", \"uid_b\", \"distance_a2b\", \"distance_b2a\"])\n",
    "rel_df = pd.DataFrame(rel_df, columns = [\"uid_a\", \"uid_b\", \"isFriend\"])\n",
    "## Drop A-A pairs\n",
    "dist_df = dist_df.dropna()\n",
    "rel_df = rel_df.dropna()"
   ]
  },
  {
   "cell_type": "code",
   "execution_count": 5,
   "metadata": {
    "collapsed": false
   },
   "outputs": [],
   "source": [
    "rel_df = rel_df.ix[rel_df.isFriend == 1, :2]\n",
    "pair_idx = rel_df.apply(lambda x: (int(x[0]), int(x[1])), axis = 1)\n",
    "rel_df[\"pair_idx\"] = pair_idx"
   ]
  },
  {
   "cell_type": "code",
   "execution_count": 6,
   "metadata": {
    "collapsed": false
   },
   "outputs": [
    {
     "ename": "NameError",
     "evalue": "name 'UserBatch' is not defined",
     "output_type": "error",
     "traceback": [
      "\u001b[1;31m---------------------------------------------------------------------------\u001b[0m",
      "\u001b[1;31mNameError\u001b[0m                                 Traceback (most recent call last)",
      "\u001b[1;32m<ipython-input-6-9f25daec090b>\u001b[0m in \u001b[0;36m<module>\u001b[1;34m()\u001b[0m\n\u001b[1;32m----> 1\u001b[1;33m \u001b[0mUBatch\u001b[0m \u001b[1;33m=\u001b[0m \u001b[0mUserBatch\u001b[0m\u001b[1;33m(\u001b[0m\u001b[1;33m)\u001b[0m\u001b[1;33m\u001b[0m\u001b[0m\n\u001b[0m\u001b[0;32m      2\u001b[0m \u001b[0mUBatch\u001b[0m\u001b[1;33m.\u001b[0m\u001b[0mload_users\u001b[0m\u001b[1;33m(\u001b[0m\u001b[0musers\u001b[0m\u001b[1;33m)\u001b[0m\u001b[1;33m\u001b[0m\u001b[0m\n\u001b[0;32m      3\u001b[0m \u001b[0mUBatch\u001b[0m\u001b[1;33m.\u001b[0m\u001b[0mload_friends\u001b[0m\u001b[1;33m(\u001b[0m\u001b[0mrel_df\u001b[0m\u001b[1;33m)\u001b[0m\u001b[1;33m\u001b[0m\u001b[0m\n",
      "\u001b[1;31mNameError\u001b[0m: name 'UserBatch' is not defined"
     ]
    }
   ],
   "source": [
    "UBatch = UserBatch()\n",
    "UBatch.load_users(users)\n",
    "UBatch.load_friends(rel_df)"
   ]
  },
  {
   "cell_type": "code",
   "execution_count": 97,
   "metadata": {
    "collapsed": false
   },
   "outputs": [
    {
     "name": "stderr",
     "output_type": "stream",
     "text": []
    }
   ],
   "source": [
    "UBatch.cal_distances()"
   ]
  },
  {
   "cell_type": "code",
   "execution_count": 87,
   "metadata": {
    "collapsed": false
   },
   "outputs": [
    {
     "data": {
      "text/html": [
       "<div style=\"max-height:1000px;max-width:1500px;overflow:auto;\">\n",
       "<table border=\"1\" class=\"dataframe\">\n",
       "  <thead>\n",
       "    <tr style=\"text-align: right;\">\n",
       "      <th></th>\n",
       "      <th>pair_index</th>\n",
       "      <th>id_a</th>\n",
       "      <th>id_b</th>\n",
       "      <th>dist_a2b</th>\n",
       "      <th>dist_b2a</th>\n",
       "    </tr>\n",
       "  </thead>\n",
       "  <tbody>\n",
       "  </tbody>\n",
       "</table>\n",
       "</div>"
      ],
      "text/plain": [
       "Empty DataFrame\n",
       "Columns: [pair_index, id_a, id_b, dist_a2b, dist_b2a]\n",
       "Index: []"
      ]
     },
     "execution_count": 87,
     "metadata": {},
     "output_type": "execute_result"
    }
   ],
   "source": [
    "UBatch.dist_df"
   ]
  },
  {
   "cell_type": "code",
   "execution_count": null,
   "metadata": {
    "collapsed": true
   },
   "outputs": [],
   "source": []
  }
 ],
 "metadata": {
  "kernelspec": {
   "display_name": "Python 2",
   "language": "python",
   "name": "python2"
  },
  "language_info": {
   "codemirror_mode": {
    "name": "ipython",
    "version": 2
   },
   "file_extension": ".py",
   "mimetype": "text/x-python",
   "name": "python",
   "nbconvert_exporter": "python",
   "pygments_lexer": "ipython2",
   "version": "2.7.9"
  }
 },
 "nbformat": 4,
 "nbformat_minor": 0
}
