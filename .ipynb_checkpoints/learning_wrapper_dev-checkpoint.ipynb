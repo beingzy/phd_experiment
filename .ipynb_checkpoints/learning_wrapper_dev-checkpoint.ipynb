{
 "cells": [
  {
   "cell_type": "markdown",
   "metadata": {},
   "source": [
    "#### Learning Structure\n",
    "* k: # of groups, or # of containers\n",
    "* one buffer\n",
    "* a member in buffer will be examined against all of newly learned distrance, all quantified distance metrics will be ranked by p-value in descending order. The top distance metrics is the one chosen for the user.\n",
    "* member of a container will be examined for the distance metrics learned for the population. If the member is not cosider enjoy a good fit of the distance metrics, the member will be checked with other alternative distance metris. Until at least one of qualified distance metrics found, the member is sent to the buffer.\n",
    "* overall fit is measured by the following metrics\n",
    "$$\n",
    "f = \\sum_{j = 1}^{k} (\\sum_{i \\in U_{j}} \\text{P-value}(u_i,D_j)_{i} / |U_{j}|) + C \\cdot |\\text{buffer}|\n",
    "$$\n",
    "* $u_i$: $i$th user\n",
    "* $D_j$: the distance metrics learned for $j$th user group\n",
    "* $U_j$: $j$th user group\n",
    "* $|\\cdot|$: size of users in the container\n",
    "* $C$: the parameter determines the strength of penalty for more members in the buffer"
   ]
  },
  {
   "cell_type": "code",
   "execution_count": 12,
   "metadata": {
    "collapsed": true
   },
   "outputs": [],
   "source": [
    "import numpy as np\n",
    "import scipy as sp\n",
    "import pandas as pd"
   ]
  },
  {
   "cell_type": "code",
   "execution_count": 35,
   "metadata": {
    "collapsed": false
   },
   "outputs": [],
   "source": [
    "\"\"\" wrap up the learning iteration\n",
    "\n",
    "functions:\n",
    "----------\n",
    "a. assigning member to fitted group\n",
    "b. test members against all distance metrics rather than its previous group's\n",
    "   [(group_index, pval)]\n",
    "c. sort all \n",
    "\n",
    "\n",
    "Parameters:\n",
    "-----------\n",
    "profile_df: {pandas.DataFrame}\n",
    "networkx: {networkx.Graph}\n",
    "k: {integer}, the target number of groups to learn\n",
    "min_delta_f: {float}, the minimal decrease in f score to continue learning\n",
    "\n",
    "Returns:\n",
    "--------\n",
    "\"\"\"\n",
    "def init_embed_list(n):\n",
    "    \"\"\"\n",
    "    \"\"\"\n",
    "    ls = []\n",
    "    for i in range(n):\n",
    "        ls.append([])\n",
    "    return ls\n",
    "\n",
    "def init_dict_list(k):\n",
    "    \"\"\" create dictionary with k items, each\n",
    "        item is a empty list\n",
    "    \"\"\"\n",
    "    res_dict = {}\n",
    "    for i in range(k):\n",
    "        res_dict[i] = []\n",
    "    return res_dict\n",
    "\n",
    "k = 2\n",
    "min_delta_f = 0.001\n",
    "\n",
    "dist_metrics = init_dict_list(k)\n",
    "fit_group = init_dict_list(k)\n",
    "unfit_group = init_dict_list(k)\n",
    "buffer_group = []\n",
    "fit_pvals = init_dict_list(k)\n",
    "unfit_pvals = init_dict_list(k)\n",
    "\n",
    "# *. distance has been learned\n",
    "# *. group composite is inherited from the previous iteration\n",
    "\n",
    "dist_metrics = {0: [0.1, 0.3, 0.6, 0], 1: [0.5, 0.1, 0.4, 0], 2: [0.25, 0.25, 0.25, 0.25]}\n",
    "fit_group = {0:[1, 2, 4, 5], 1:[3, 6, 7], 2:[8, 9]}\n",
    "fit_pvals = {0:[0.2, 0.12, 0.04, 0.21], 1: [0.31, 0.22, 0.17], 2: [0.02, 0.05]}\n",
    "buffer_group = [10, 11]"
   ]
  },
  {
   "cell_type": "code",
   "execution_count": 22,
   "metadata": {
    "collapsed": false
   },
   "outputs": [
    {
     "name": "stdout",
     "output_type": "stream",
     "text": [
      "0.812647087371\n",
      "0.420528851955\n",
      "0.16035846456\n",
      "0.362154524405\n",
      "0.750724034385\n"
     ]
    }
   ],
   "source": [
    "# examine user aginst the group distance metrics\n",
    "# retain members bearing fit\n",
    "# reassign users to unfit_group\n",
    "for i, g in enumerate(fit_group):\n",
    "    for j, u in enumerate(g):\n",
    "        # print \"(%d, %d)\" % (i, u)\n",
    "        pval = np.random.uniform(0, 1, 1)[0]\n",
    "        print pval\n",
    "        if pval > 0.5:\n",
    "            fit_group[i].remove(u)\n",
    "            unfit_group[i].append(u)"
   ]
  },
  {
   "cell_type": "code",
   "execution_count": 27,
   "metadata": {
    "collapsed": false
   },
   "outputs": [
    {
     "name": "stdout",
     "output_type": "stream",
     "text": [
      "[[0.5, 0.1, 0.4, 0], [0.1, 0.1, 0.1, 0.7]]\n",
      "[[0.5, 0.1, 0.4, 0], [0.1, 0.1, 0.1, 0.7]]\n",
      "[[0.5, 0.1, 0.4, 0], [0.1, 0.1, 0.1, 0.7]]\n",
      "[[0.5, 0.1, 0.4, 0], [0.1, 0.1, 0.1, 0.7]]\n",
      "[[0.1, 0.3, 0.6, 0], [0.1, 0.1, 0.1, 0.7]]\n",
      "[[0.1, 0.3, 0.6, 0], [0.1, 0.1, 0.1, 0.7]]\n",
      "[[0.1, 0.3, 0.6, 0], [0.1, 0.1, 0.1, 0.7]]\n"
     ]
    }
   ],
   "source": [
    "# fit_group\n",
    "# unfit_group\n",
    "for i, g in enumerate(fit_group):\n",
    "    comp_dist = dist_metrics[:i] + dist_metrics[(i + 1):]\n",
    "    for j, u in enumerate(g):\n",
    "        print comp_dist"
   ]
  },
  {
   "cell_type": "code",
   "execution_count": 76,
   "metadata": {
    "collapsed": false
   },
   "outputs": [],
   "source": [
    "def find_fit_group(uid, dist_metrics, threshold,  current_group = []):\n",
    "    \"\"\" calculate user p-value for the distance metrics of\n",
    "        each group\n",
    "        \n",
    "    Parameters:\n",
    "    ----------\n",
    "    uid: {integer}, user id\n",
    "    current_group: {integer}, group index\n",
    "    dist_metrics: {dictionary}, all {index: distance_metrics}\n",
    "    threshold: {float}, threshold for qualifying pvalue of ks-test\n",
    "    \n",
    "    Resutls:\n",
    "    --------\n",
    "    res: {list}, [group_idx, pvalue]\n",
    "    \"\"\"\n",
    "    if current_group == []:\n",
    "        other_group = dist_metrics.keys()\n",
    "        other_dist_metrics = dist_metrics.values()\n",
    "    else:\n",
    "        other_group = [i for i in dist_metrics.keys() if i != current_group]\n",
    "        other_dist_metrics = [d for g, d in dist_metrics.iteritems() if g != current_group]\n",
    "    \n",
    "    pvals = []\n",
    "\n",
    "    for d in other_dist_metrics:\n",
    "        # loop through all distance metrics and calculate\n",
    "        # p-value of ks-test by applying it to the user\n",
    "        # relationships\n",
    "        pval = np.random.uniform(0, 1, 1)\n",
    "        pvals.append(pval)\n",
    "        \n",
    "    min_pval = min(pvals)[0]\n",
    "    min_index = [i for i, p in enumerate(pvals) if p == min_pval][0]\n",
    "    best_group = other_group[min_index]\n",
    "    \n",
    "    if min_pval >= threshold:\n",
    "        # if min_pval >= threshold, user is not considered \n",
    "        # to have a good fit by any of distance metrics\n",
    "        best_group = np.nan\n",
    "        min_pval = np.nan\n",
    "    \n",
    "    return (best_group, min_pval)\n",
    "\n",
    "def get_fit_score(fit_pvals, buffer_group, c):\n",
    "    \"\"\" calculate the fit score given the member composite\n",
    "        and its pvalues with its group distance metrics, with\n",
    "        c determinng the strength of penalty for keeping a \n",
    "        larger number of users in buffer_group\n",
    "        \n",
    "    Parameters:\n",
    "    -----------\n",
    "    fit_pvals: {dict}, {index: [pvalues]}\n",
    "    buffer_group: {list}, [userid, ...]\n",
    "    c: {float}, \n",
    "    \n",
    "    Returns:\n",
    "    --------\n",
    "    fit_score: {float}, fit score, a smaller value indidcate\n",
    "                a overall better fit\n",
    "    \n",
    "    Examples:\n",
    "    ---------\n",
    "    fit_group = fit_group\n",
    "    fit_pvals = fit_pvals\n",
    "    buffer_group = buffer_group\n",
    "    c = 0.1\n",
    "    fscore = get_fit_score(fit_group, fit_pvals, buffer_group, c)\n",
    "    \"\"\"\n",
    "    \n",
    "    # weighted sum of pvalues \n",
    "    wsum_pval = 0\n",
    "    for g, v in fit_pvals.iteritems():\n",
    "        wsum_pval += sum(np.array(v) * 1.0 / len(v))\n",
    "\n",
    "    penalty = c * len(buffer_group)\n",
    "    fit_score = wsum_pval + penalty # smaller value indicates a better overall fit\n",
    "    \n",
    "    return fit_score"
   ]
  },
  {
   "cell_type": "code",
   "execution_count": 66,
   "metadata": {
    "collapsed": false
   },
   "outputs": [],
   "source": [
    "dist_metrics = {0: [0.1, 0.3, 0.6, 0], 1: [0.5, 0.1, 0.4, 0], 2: [0.25, 0.25, 0.25, 0.25]}\n",
    "fit_group = {0:[1, 2, 4, 5], 1:[3, 6, 7], 2:[8, 9]}\n",
    "fit_pvals = {0:[0.2, 0.12, 0.04, 0.21], 1: [0.31, 0.22, 0.17], 2: [0.02, 0.05]}\n",
    "buffer_group = []\n",
    "\n",
    "threshold = 0.5\n",
    "c = 0.1"
   ]
  },
  {
   "cell_type": "code",
   "execution_count": 67,
   "metadata": {
    "collapsed": false
   },
   "outputs": [],
   "source": [
    "# step 01: learn distance metrics\n",
    "for g, uids in fit_group.iteritems():\n",
    "    # function learn\n",
    "    dist = [np.random.uniform(0, 1, 1)[0] for i in range(4)]\n",
    "    dist_metrics[g] = dist"
   ]
  },
  {
   "cell_type": "code",
   "execution_count": 68,
   "metadata": {
    "collapsed": false
   },
   "outputs": [
    {
     "name": "stdout",
     "output_type": "stream",
     "text": [
      "{0: [0.93596752732278632, 0.10311273389637154, 0.56386858370559689, 0.95663479742752588], 1: [0.52452622228086032, 0.50008497334901947, 0.046793742669821614, 0.86838962872884162], 2: [0.0088345419278500481, 0.49000743099569832, 0.16116505005735782, 0.71265691206479131]}\n",
      "{0: [1, 2, 4, 5], 1: [3, 6, 7], 2: [8, 9]}\n",
      "{0: [0.2, 0.12, 0.04, 0.21], 1: [0.31, 0.22, 0.17], 2: [0.02, 0.05]}\n",
      "{0: [1, 4, 2], 1: [7, 3, 6], 2: [8]}\n",
      "[]\n"
     ]
    }
   ],
   "source": [
    "print dist_metrics\n",
    "print fit_group\n",
    "print fit_pvals\n",
    "print unfit_group\n",
    "print buffer_group"
   ]
  },
  {
   "cell_type": "code",
   "execution_count": 69,
   "metadata": {
    "collapsed": false
   },
   "outputs": [],
   "source": [
    "# step 02: update the member composite with updated group distance metrics\n",
    "# threshold is needed to be defined\n",
    "for g, uids in fit_group.iteritems():\n",
    "    target_dist = dist_metrics[g]\n",
    "    for uid in uids:\n",
    "        # calcualte the ks-pvalue with update distance metrics\n",
    "        # target_dist\n",
    "        pval = np.random.uniform(0, 1, 1)[0]\n",
    "        if pval >= threshold:\n",
    "            # remove the user and its information \n",
    "            # from relevant container\n",
    "            idx = [i for i, u in enumerate(fit_group[g]) if u == uid][0]\n",
    "            fit_group[g].pop(idx)\n",
    "            fit_pvals[g].pop(idx)\n",
    "            # add the user to the unfit_group\n",
    "            if g in unfit_group:\n",
    "                unfit_group[g].append(uid)\n",
    "            else:\n",
    "                unfit_group[g] = [uid]"
   ]
  },
  {
   "cell_type": "code",
   "execution_count": 70,
   "metadata": {
    "collapsed": false
   },
   "outputs": [
    {
     "name": "stdout",
     "output_type": "stream",
     "text": [
      "{0: [0.93596752732278632, 0.10311273389637154, 0.56386858370559689, 0.95663479742752588], 1: [0.52452622228086032, 0.50008497334901947, 0.046793742669821614, 0.86838962872884162], 2: [0.0088345419278500481, 0.49000743099569832, 0.16116505005735782, 0.71265691206479131]}\n",
      "{0: [2, 4], 1: [3, 7], 2: [8, 9]}\n",
      "{0: [0.12, 0.04], 1: [0.31, 0.17], 2: [0.02, 0.05]}\n",
      "{0: [1, 4, 2, 1, 5], 1: [7, 3, 6, 6], 2: [8]}\n",
      "[]\n"
     ]
    }
   ],
   "source": [
    "#unfit_group[g]\n",
    "print dist_metrics\n",
    "print fit_group\n",
    "print fit_pvals\n",
    "print unfit_group\n",
    "print buffer_group"
   ]
  },
  {
   "cell_type": "code",
   "execution_count": 80,
   "metadata": {
    "collapsed": false
   },
   "outputs": [],
   "source": [
    "# step 03: test members in unfit_group to see\n",
    "# if it has a good fit with other distmetrics\n",
    "unfit_group_copy = unfit_group.copy()\n",
    "\n",
    "for g, uids in unfit_group_copy.iteritems():\n",
    "    for uid in uids:\n",
    "        \n",
    "        new_group, new_pval = find_fit_group(uid, dist_metrics, threshold, g)\n",
    "        \n",
    "        if np.isnan(new_pval):\n",
    "            buffer_group.append(uid)\n",
    "        else:\n",
    "            unfit_group.remove(uid)\n",
    "            if new_group in fit_group:\n",
    "                fit_group[new_group].append(uid)\n",
    "                fit_pvals[new_group].append(new_pval)\n",
    "            else:\n",
    "                fit_group[new_group] = [uid]\n",
    "                fit_pvals[new_group] = [new_pval]\n",
    "                \n",
    "if len(buffer_group) > 0:\n",
    "    for uid in buffer_group:\n",
    "        \n",
    "        new_group, new_pval = find_fit_group(uid, dist_metrics, threshold)\n",
    "        \n",
    "        if np.isnan(new_pval):\n",
    "            buffer_group.append(uid)\n",
    "        else:\n",
    "            if g in fit_group:\n",
    "                fit_group[g].append(uid)\n",
    "            else:\n",
    "                fit_group[g] = [uid]"
   ]
  },
  {
   "cell_type": "code",
   "execution_count": 81,
   "metadata": {
    "collapsed": false
   },
   "outputs": [
    {
     "name": "stdout",
     "output_type": "stream",
     "text": [
      "{0: [0.93596752732278632, 0.10311273389637154, 0.56386858370559689, 0.95663479742752588], 1: [0.52452622228086032, 0.50008497334901947, 0.046793742669821614, 0.86838962872884162], 2: [0.0088345419278500481, 0.49000743099569832, 0.16116505005735782, 0.71265691206479131]}\n",
      "{0: [2, 4, 1, 4, 1, 2, 1, 5, 1, 4, 1, 5], 1: [3, 7, 7, 3, 6, 3, 6, 6, 7, 3, 6, 6], 2: [8, 9, 8, 8, 2, 1, 5, 6, 4, 7, 8, 2, 1, 5, 6, 4, 7, 2]}\n",
      "{0: [0.12, 0.04], 1: [0.31, 0.17], 2: [0.02, 0.05]}\n",
      "{0: [1, 4, 2, 1, 5], 1: [7, 3, 6, 6], 2: [8]}\n",
      "[2, 1, 5, 6, 4, 7, 2]\n"
     ]
    }
   ],
   "source": [
    "print dist_metrics\n",
    "print fit_group\n",
    "print fit_pvals\n",
    "print unfit_group\n",
    "print buffer_group"
   ]
  },
  {
   "cell_type": "code",
   "execution_count": 73,
   "metadata": {
    "collapsed": true
   },
   "outputs": [],
   "source": [
    "# step 04: calculate current fscore\n",
    "fs = get_fit_score(fit_pvals, buffer_group, c)"
   ]
  },
  {
   "cell_type": "code",
   "execution_count": 74,
   "metadata": {
    "collapsed": false
   },
   "outputs": [
    {
     "name": "stdout",
     "output_type": "stream",
     "text": [
      "0.755\n"
     ]
    }
   ],
   "source": [
    "print fs"
   ]
  },
  {
   "cell_type": "code",
   "execution_count": null,
   "metadata": {
    "collapsed": true
   },
   "outputs": [],
   "source": []
  }
 ],
 "metadata": {
  "kernelspec": {
   "display_name": "Python 2",
   "language": "python",
   "name": "python2"
  },
  "language_info": {
   "codemirror_mode": {
    "name": "ipython",
    "version": 2
   },
   "file_extension": ".py",
   "mimetype": "text/x-python",
   "name": "python",
   "nbconvert_exporter": "python",
   "pygments_lexer": "ipython2",
   "version": "2.7.9"
  }
 },
 "nbformat": 4,
 "nbformat_minor": 0
}
