{
 "cells": [
  {
   "cell_type": "markdown",
   "metadata": {},
   "source": [
    "#### Facebook Data Directory\n",
    "    * nodeId.edges : The edges in the ego network for the node 'nodeId'. Edges are undirected for facebook, and directed (a follows b) for twitter and gplus. The 'ego' node does not appear, but it is assumed that they follow every node id that appears in this file.\n",
    "\n",
    "    * nodeId.circles : The set of circles for the ego node. Each line contains one circle, consisting of a series of node ids. The first entry in each line is the name of the circle.\n",
    "\n",
    "    * nodeId.feat : The features for each of the nodes that appears in the edge file.\n",
    "\n",
    "    * nodeId.egofeat : The features for the ego user.\n",
    "\n",
    "    * nodeId.featnames : The names of each of the feature dimensions. Features are '1' if the user has this property in their profile, and '0' otherwise. This file has been anonymized for facebook users, since the names of the features would reveal private data."
   ]
  },
  {
   "cell_type": "code",
   "execution_count": 1,
   "metadata": {
    "collapsed": false
   },
   "outputs": [
    {
     "data": {
      "text/plain": [
       "'%.4f'"
      ]
     },
     "execution_count": 1,
     "metadata": {},
     "output_type": "execute_result"
    }
   ],
   "source": [
    "import os\n",
    "import sys\n",
    "import glob\n",
    "import matplotlib.pyplot as plt\n",
    "\n",
    "%matplotlib inline\n",
    "%precision 4"
   ]
  },
  {
   "cell_type": "code",
   "execution_count": 15,
   "metadata": {
    "collapsed": false
   },
   "outputs": [],
   "source": [
    "from os import path\n",
    "data_dir = path.join(os.getcwd(), \"data\")\n",
    "file_names = glob.glob(path.join(data_dir, \"facebook\", \"*\"))"
   ]
  },
  {
   "cell_type": "code",
   "execution_count": 55,
   "metadata": {
    "collapsed": false
   },
   "outputs": [
    {
     "data": {
      "text/plain": [
       "['edges', 'featnames', 'circles', 'egofeat', 'feat']"
      ]
     },
     "execution_count": 55,
     "metadata": {},
     "output_type": "execute_result"
    }
   ],
   "source": [
    "file_tags = set([file_name.split(\".\")[1] for file_name in file_names])\n",
    "file_tags = list(file_tags)\n",
    "file_tags"
   ]
  },
  {
   "cell_type": "markdown",
   "metadata": {},
   "source": [
    "\"circles\": describe formations of circle in terms of memeber (denoted by id)\n",
    "\"egofeat\": a single vector of 224 binary indicators (what does the indicator stand for ?) \n",
    "\"edges\": user_id pairs\n",
    "\"feat\": user_id, feature vector of 224 binary indicators\n",
    "\"featnames\": 224 lines, each line is strucuted like, cetegory, feature, value (e.g. work;start_date;anonymized feature 204)"
   ]
  },
  {
   "cell_type": "code",
   "execution_count": 57,
   "metadata": {
    "collapsed": false
   },
   "outputs": [
    {
     "name": "stdout",
     "output_type": "stream",
     "text": [
      "Total of groups: 10\n"
     ]
    },
    {
     "data": {
      "text/plain": [
       "['348', '0', '698', '686', '3980', '1684', '414', '107', '3437', '1912']"
      ]
     },
     "execution_count": 57,
     "metadata": {},
     "output_type": "execute_result"
    }
   ],
   "source": [
    "file_groups = set([file_name.split(\"\\\\\")[-1].split(\".\")[0] for file_name in file_names]) \n",
    "print(\"Total of groups: {}\".format(len(file_groups)))\n",
    "file_groups = list(file_groups)\n",
    "file_groups"
   ]
  },
  {
   "cell_type": "markdown",
   "metadata": {},
   "source": [
    "#### data unstandin:\n",
    "* Do all featnames include a same set of features ?"
   ]
  },
  {
   "cell_type": "code",
   "execution_count": 51,
   "metadata": {
    "collapsed": false
   },
   "outputs": [
    {
     "data": {
      "text/plain": [
       "['348.featnames',\n",
       " '0.featnames',\n",
       " '698.featnames',\n",
       " '686.featnames',\n",
       " '3980.featnames',\n",
       " '1684.featnames',\n",
       " '414.featnames',\n",
       " '107.featnames',\n",
       " '3437.featnames',\n",
       " '1912.featnames']"
      ]
     },
     "execution_count": 51,
     "metadata": {},
     "output_type": "execute_result"
    }
   ],
   "source": [
    "featnames_files = [f+\".featnames\" for f in file_groups]\n",
    "featnames_files"
   ]
  },
  {
   "cell_type": "code",
   "execution_count": 121,
   "metadata": {
    "collapsed": false
   },
   "outputs": [],
   "source": [
    "def feat_extractor(line, group_id):\n",
    "    items = line.replace(\"anonymized feature\", \"\").split(\" \")\n",
    "    position = int(items[0])\n",
    "    feature = items[1][:-1].replace(\";\", \"_\")\n",
    "    value = int(items[2]) \n",
    "    return {\"group\":int(group_id), \"position\":int(position), \\\n",
    "            \"feature\":feature, \"value\":int(value)}"
   ]
  },
  {
   "cell_type": "code",
   "execution_count": 122,
   "metadata": {
    "collapsed": false
   },
   "outputs": [
    {
     "name": "stdout",
     "output_type": "stream",
     "text": [
      "0 th loop (ID: 348)\n",
      "1 th loop (ID: 0)\n",
      "2 th loop (ID: 698)\n",
      "3 th loop (ID: 686)\n",
      "4 th loop (ID: 3980)\n",
      "5 th loop (ID: 1684)\n",
      "6 th loop (ID: 414)\n",
      "7 th loop (ID: 107)\n",
      "8 th loop (ID: 3437)\n",
      "9 th loop (ID: 1912)\n"
     ]
    }
   ],
   "source": [
    "# create data.frame to keep mappig of (circile_id, index, binary vectors) \n",
    "# to feature and values\n",
    "rows = []\n",
    "\n",
    "for i, file_group in enumerate(file_groups):\n",
    "    print(\"{} th loop (ID: {})\".format(i, file_group))\n",
    "    file_name = path.join(data_dir, \"facebook\", file_group + \".featnames\") \n",
    "    with open(file_name, mode='r', encoding='utf-8') as fs:\n",
    "        for line in fs.readlines():\n",
    "            rows.append(feat_extractor(line, group_id=file_group))"
   ]
  },
  {
   "cell_type": "code",
   "execution_count": 123,
   "metadata": {
    "collapsed": false
   },
   "outputs": [],
   "source": [
    "import pandas as pd\n",
    "import numpy as np\n",
    "feat_dict = pd.DataFrame(rows)\n",
    "feat_dict.ix[np.random.choice(range(feat_dict.shape[0]), 10), :]\n",
    "feat_dict.to_csv(path.join(data_dir, \"processed\", \"feature_dict.csv\"), \n",
    "                 header=True, index=False, sep=\",\", encoding=\"utf-8\")"
   ]
  },
  {
   "cell_type": "code",
   "execution_count": 206,
   "metadata": {
    "collapsed": false
   },
   "outputs": [
    {
     "data": {
      "text/html": [
       "<div>\n",
       "<table border=\"1\" class=\"dataframe\">\n",
       "  <thead>\n",
       "    <tr style=\"text-align: right;\">\n",
       "      <th></th>\n",
       "      <th>feature</th>\n",
       "      <th>group</th>\n",
       "      <th>position</th>\n",
       "      <th>value</th>\n",
       "    </tr>\n",
       "  </thead>\n",
       "  <tbody>\n",
       "    <tr>\n",
       "      <th>161</th>\n",
       "      <td>birthday</td>\n",
       "      <td>0</td>\n",
       "      <td>0</td>\n",
       "      <td>0</td>\n",
       "    </tr>\n",
       "    <tr>\n",
       "      <th>162</th>\n",
       "      <td>birthday</td>\n",
       "      <td>0</td>\n",
       "      <td>1</td>\n",
       "      <td>1</td>\n",
       "    </tr>\n",
       "    <tr>\n",
       "      <th>163</th>\n",
       "      <td>birthday</td>\n",
       "      <td>0</td>\n",
       "      <td>2</td>\n",
       "      <td>2</td>\n",
       "    </tr>\n",
       "    <tr>\n",
       "      <th>164</th>\n",
       "      <td>birthday</td>\n",
       "      <td>0</td>\n",
       "      <td>3</td>\n",
       "      <td>3</td>\n",
       "    </tr>\n",
       "    <tr>\n",
       "      <th>165</th>\n",
       "      <td>birthday</td>\n",
       "      <td>0</td>\n",
       "      <td>4</td>\n",
       "      <td>4</td>\n",
       "    </tr>\n",
       "  </tbody>\n",
       "</table>\n",
       "</div>"
      ],
      "text/plain": [
       "      feature  group  position  value\n",
       "161  birthday      0         0      0\n",
       "162  birthday      0         1      1\n",
       "163  birthday      0         2      2\n",
       "164  birthday      0         3      3\n",
       "165  birthday      0         4      4"
      ]
     },
     "execution_count": 206,
     "metadata": {},
     "output_type": "execute_result"
    }
   ],
   "source": [
    "circle_feat_dict = feat_dict.ix[feat_dict[\"group\"]==0, :]\n",
    "circle_feat_dict.head(5)"
   ]
  },
  {
   "cell_type": "code",
   "execution_count": 129,
   "metadata": {
    "collapsed": false
   },
   "outputs": [
    {
     "data": {
      "text/plain": [
       "array(['birthday', 'education_concentration_id', 'education_degree_id',\n",
       "       'education_school_id', 'education_type', 'education_with_id',\n",
       "       'education_year_id', 'first_name', 'gender', 'hometown_id',\n",
       "       'languages_id', 'last_name', 'locale', 'location_id',\n",
       "       'work_employer_id', 'work_end_date', 'work_location_id',\n",
       "       'work_position_id', 'work_start_date', 'education_classes_id',\n",
       "       'work_with_id', 'name', 'political', 'religion', 'middle_name',\n",
       "       'work_from_id', 'work_projects_id'], dtype=object)"
      ]
     },
     "execution_count": 129,
     "metadata": {},
     "output_type": "execute_result"
    }
   ],
   "source": [
    "feat_dict[\"feature\"].unique()"
   ]
  },
  {
   "cell_type": "code",
   "execution_count": 265,
   "metadata": {
    "collapsed": false
   },
   "outputs": [],
   "source": [
    "def profile_extracttor(line, circle_id, feat_dict):\n",
    "    \"\"\"Convert text line (from .feat data) to dictionary\"\"\"\n",
    "    if isinstance(circle_id, str):\n",
    "        circle_id = int(circle_id)\n",
    "    items = line.split(\" \")\n",
    "    user_idx, feature = items[0], list(map(int, items[1:]))\n",
    "    nonzero_feat_idx = [i for i, val in enumerate(feature) if val == 1]\n",
    "    feat_dict = feat_dict.ix[feat_dict[\"group\"]==circle_id,\\\n",
    "                             [\"feature\", \"position\", \"value\"]]\n",
    "    feat_profile =  {row[0]: row[1] \\\n",
    "           for i, row in feat_dict.iterrows() \\\n",
    "           if row[1] in nonzero_feat_idx}\n",
    "    user_id = \"-\".join((str(circle_id), str(user_idx)))\n",
    "    return {\"user_id\": user_id, \"num_filled_feature\": len(feat_profile), \"profile\":feat_profile}"
   ]
  },
  {
   "cell_type": "code",
   "execution_count": 266,
   "metadata": {
    "collapsed": false
   },
   "outputs": [
    {
     "name": "stdout",
     "output_type": "stream",
     "text": [
      "0 th loop (ID: 348)\n",
      "1 th loop (ID: 0)\n",
      "2 th loop (ID: 698)\n",
      "3 th loop (ID: 686)\n",
      "4 th loop (ID: 3980)\n",
      "5 th loop (ID: 1684)\n",
      "6 th loop (ID: 414)\n",
      "7 th loop (ID: 107)\n",
      "8 th loop (ID: 3437)\n",
      "9 th loop (ID: 1912)\n"
     ]
    }
   ],
   "source": [
    "user_profiles = []\n",
    "\n",
    "for i, file_group in enumerate(file_groups):\n",
    "    print(\"{} th loop (circle ID: {})\".format(i, file_group))\n",
    "    file_name = path.join(data_dir, \"facebook\", file_group + \".feat\") \n",
    "    with open(file_name, mode='r', encoding='utf-8') as fs:\n",
    "        for line in fs.readlines():\n",
    "            res = profile_extracttor(line, file_group, feat_dict)\n",
    "            user_profiles.append(res)"
   ]
  },
  {
   "cell_type": "code",
   "execution_count": 267,
   "metadata": {
    "collapsed": true
   },
   "outputs": [],
   "source": [
    "user_profiles = sorted(user_profiles, key=lambda x: int(x[\"user_id\"].split(\"-\")[0]))"
   ]
  },
  {
   "cell_type": "code",
   "execution_count": 268,
   "metadata": {
    "collapsed": false
   },
   "outputs": [],
   "source": [
    "import json\n",
    "with open(path.join(data_dir, \"processed\", \"all_user_profile.json\"), mode=\"w\", encoding=\"utf-8\") as f:\n",
    "    json.dump(user_profiles, f, indent=2)"
   ]
  },
  {
   "cell_type": "code",
   "execution_count": 260,
   "metadata": {
    "collapsed": false
   },
   "outputs": [],
   "source": [
    "sorted_user_profiles = sorted(user_profiles, key=lambda x: int(x[\"user_id\"].split(\"-\")[0]))"
   ]
  },
  {
   "cell_type": "code",
   "execution_count": 269,
   "metadata": {
    "collapsed": true
   },
   "outputs": [],
   "source": [
    "text = \"\"\"236 186\n",
    "122 285\n",
    "24 346\n",
    "271 304\n",
    "176 9\n",
    "130 329\n",
    "204 213\n",
    "252 332\n",
    "\"\"\"\n",
    "\n",
    "import io\n",
    "\n",
    "fs = io.StringIO(text)"
   ]
  },
  {
   "cell_type": "code",
   "execution_count": 272,
   "metadata": {
    "collapsed": false
   },
   "outputs": [],
   "source": [
    "items = fs.readline().rstrip().split(\" \")"
   ]
  },
  {
   "cell_type": "code",
   "execution_count": 276,
   "metadata": {
    "collapsed": false
   },
   "outputs": [
    {
     "data": {
      "text/plain": [
       "['24', '346']"
      ]
     },
     "execution_count": 276,
     "metadata": {},
     "output_type": "execute_result"
    }
   ],
   "source": [
    "items"
   ]
  },
  {
   "cell_type": "code",
   "execution_count": 274,
   "metadata": {
    "collapsed": false
   },
   "outputs": [],
   "source": [
    "circle_id = str(0)\n",
    "edges = \" \".join(['-'.join((circle_id, user_idx)) for user_idx in items])"
   ]
  },
  {
   "cell_type": "code",
   "execution_count": 275,
   "metadata": {
    "collapsed": false
   },
   "outputs": [
    {
     "data": {
      "text/plain": [
       "'0-24 0-346'"
      ]
     },
     "execution_count": 275,
     "metadata": {},
     "output_type": "execute_result"
    }
   ],
   "source": [
    "edges "
   ]
  },
  {
   "cell_type": "code",
   "execution_count": 295,
   "metadata": {
    "collapsed": false
   },
   "outputs": [
    {
     "name": "stdout",
     "output_type": "stream",
     "text": [
      "0 th loop (circle ID: 348)\n",
      "1 th loop (circle ID: 0)\n",
      "2 th loop (circle ID: 698)\n",
      "3 th loop (circle ID: 686)\n",
      "4 th loop (circle ID: 3980)\n",
      "5 th loop (circle ID: 1684)\n",
      "6 th loop (circle ID: 414)\n",
      "7 th loop (circle ID: 107)\n",
      "8 th loop (circle ID: 3437)\n",
      "9 th loop (circle ID: 1912)\n"
     ]
    }
   ],
   "source": [
    "### processing the edge data\n",
    "### by creating user_id (\"circle_id-user_idx\")\n",
    "edges = []\n",
    "\n",
    "for i, file_group in enumerate(file_groups):\n",
    "    print(\"{} th loop (circle ID: {})\".format(i, file_group))\n",
    "    file_name = path.join(data_dir, \"facebook\", file_group + \".edges\") \n",
    "    with open(file_name, mode='r', encoding='utf-8') as fs:\n",
    "        for line in fs.readlines():\n",
    "            items = line.rstrip().split(\" \")\n",
    "            edge = ['-'.join((file_group, user_idx)) for user_idx in items]\n",
    "            #edge_str = \" \".join(edge)\n",
    "            edges.append(edge)"
   ]
  },
  {
   "cell_type": "code",
   "execution_count": 299,
   "metadata": {
    "collapsed": false
   },
   "outputs": [],
   "source": [
    "edges = sorted(edges, key=lambda x: int(x[0].split(\"-\")[0]))"
   ]
  },
  {
   "cell_type": "code",
   "execution_count": 302,
   "metadata": {
    "collapsed": false
   },
   "outputs": [],
   "source": [
    "with open(path.join(data_dir, \"processed\", \"edges.csv\"), mode=\"w\", encoding=\"utf-8\") as f:\n",
    "     for edge in edges:\n",
    "            line = \",\".join(edge) + \"\\n\"\n",
    "            f.writelines(line)"
   ]
  },
  {
   "cell_type": "code",
   "execution_count": 303,
   "metadata": {
    "collapsed": false
   },
   "outputs": [
    {
     "data": {
      "text/html": [
       "<div>\n",
       "<table border=\"1\" class=\"dataframe\">\n",
       "  <thead>\n",
       "    <tr style=\"text-align: right;\">\n",
       "      <th></th>\n",
       "      <th>feature</th>\n",
       "      <th>group</th>\n",
       "      <th>position</th>\n",
       "      <th>value</th>\n",
       "    </tr>\n",
       "  </thead>\n",
       "  <tbody>\n",
       "    <tr>\n",
       "      <th>0</th>\n",
       "      <td>birthday</td>\n",
       "      <td>348</td>\n",
       "      <td>0</td>\n",
       "      <td>206</td>\n",
       "    </tr>\n",
       "    <tr>\n",
       "      <th>1</th>\n",
       "      <td>birthday</td>\n",
       "      <td>348</td>\n",
       "      <td>1</td>\n",
       "      <td>207</td>\n",
       "    </tr>\n",
       "    <tr>\n",
       "      <th>2</th>\n",
       "      <td>birthday</td>\n",
       "      <td>348</td>\n",
       "      <td>2</td>\n",
       "      <td>208</td>\n",
       "    </tr>\n",
       "    <tr>\n",
       "      <th>3</th>\n",
       "      <td>birthday</td>\n",
       "      <td>348</td>\n",
       "      <td>3</td>\n",
       "      <td>0</td>\n",
       "    </tr>\n",
       "    <tr>\n",
       "      <th>4</th>\n",
       "      <td>birthday</td>\n",
       "      <td>348</td>\n",
       "      <td>4</td>\n",
       "      <td>1</td>\n",
       "    </tr>\n",
       "  </tbody>\n",
       "</table>\n",
       "</div>"
      ],
      "text/plain": [
       "    feature  group  position  value\n",
       "0  birthday    348         0    206\n",
       "1  birthday    348         1    207\n",
       "2  birthday    348         2    208\n",
       "3  birthday    348         3      0\n",
       "4  birthday    348         4      1"
      ]
     },
     "execution_count": 303,
     "metadata": {},
     "output_type": "execute_result"
    }
   ],
   "source": [
    "feat_dict.head(5)"
   ]
  },
  {
   "cell_type": "code",
   "execution_count": 316,
   "metadata": {
    "collapsed": true
   },
   "outputs": [],
   "source": [
    "## convert profile json to vector \n",
    "with open(path.join(data_dir, \"processed\", \"all_user_profile.json\"), mode=\"r\", encoding=\"utf-8\") as f:\n",
    "    user_profiles = json.load(f)"
   ]
  },
  {
   "cell_type": "code",
   "execution_count": 319,
   "metadata": {
    "collapsed": false
   },
   "outputs": [
    {
     "data": {
      "text/plain": [
       "{'gender': 77, 'locale': 127}"
      ]
     },
     "execution_count": 319,
     "metadata": {},
     "output_type": "execute_result"
    }
   ],
   "source": [
    "user_profiles[0][\"profile\"]"
   ]
  },
  {
   "cell_type": "code",
   "execution_count": 329,
   "metadata": {
    "collapsed": false
   },
   "outputs": [
    {
     "name": "stdout",
     "output_type": "stream",
     "text": [
      "{'education_year_id': None, 'last_name': None, 'education_type': None, 'name': None, 'education_with_id': None, 'education_concentration_id': None, 'education_classes_id': None, 'work_end_date': None, 'work_position_id': None, 'user_id': '0-1', 'work_employer_id': None, 'work_start_date': None, 'num_filled_feature': 2, 'work_projects_id': None, 'education_degree_id': None, 'locale': 127, 'political': None, 'gender': 77, 'religion': None, 'work_from_id': None, 'languages_id': None, 'first_name': None, 'birthday': None, 'location_id': None, 'work_with_id': None, 'education_school_id': None, 'middle_name': None, 'work_location_id': None, 'hometown_id': None}\n"
     ]
    }
   ],
   "source": [
    "all_feats = list(feat_dict.feature.unique())\n",
    "full_profile = {feat:None for feat in all_feats}\n",
    "\n",
    "user_profile = user_profiles[0]\n",
    "profile_dict = user_profile[\"profile\"]\n",
    "for key, val in profile_dict.items():\n",
    "    full_profile[key] = val\n",
    "full_profile[\"user_id\"] = user_profile[\"user_id\"]\n",
    "full_profile[\"num_filled_feature\"] = user_profile[\"num_filled_feature\"]\n",
    "print(full_profile)"
   ]
  },
  {
   "cell_type": "code",
   "execution_count": 330,
   "metadata": {
    "collapsed": false
   },
   "outputs": [],
   "source": [
    "def map_dict(user_profile_dict, feature_list):\n",
    "    \"\"\"Create profile dictionary by including all features\"\"\"\n",
    "    full_profile = {feat:None for feat in all_feats}\n",
    "\n",
    "    for key, val in user_profile_dict[\"profile\"].items():\n",
    "        full_profile[key] = val\n",
    "    full_profile[\"user_id\"] = user_profile_dict[\"user_id\"]\n",
    "    full_profile[\"num_filled_feature\"] = user_profile_dict[\"num_filled_feature\"]\n",
    "    return full_profile"
   ]
  },
  {
   "cell_type": "code",
   "execution_count": 332,
   "metadata": {
    "collapsed": false
   },
   "outputs": [],
   "source": [
    "users = []\n",
    "feature_list = list(feat_dict[\"feature\"].unique())\n",
    "\n",
    "with open(path.join(data_dir, \"processed\", \"all_user_profile.json\"), mode=\"r\", encoding=\"utf-8\") as f:\n",
    "    user_profiles = json.load(f)\n",
    "\n",
    "for user_dict in user_profiles:\n",
    "    user = map_dict(user_dict, feature_list=feature_list)\n",
    "    users.append(user)"
   ]
  },
  {
   "cell_type": "code",
   "execution_count": 334,
   "metadata": {
    "collapsed": false
   },
   "outputs": [],
   "source": [
    "user_df = pd.DataFrame(users)"
   ]
  },
  {
   "cell_type": "code",
   "execution_count": 335,
   "metadata": {
    "collapsed": false
   },
   "outputs": [
    {
     "data": {
      "text/html": [
       "<div>\n",
       "<table border=\"1\" class=\"dataframe\">\n",
       "  <thead>\n",
       "    <tr style=\"text-align: right;\">\n",
       "      <th></th>\n",
       "      <th>birthday</th>\n",
       "      <th>education_classes_id</th>\n",
       "      <th>education_concentration_id</th>\n",
       "      <th>education_degree_id</th>\n",
       "      <th>education_school_id</th>\n",
       "      <th>education_type</th>\n",
       "      <th>education_with_id</th>\n",
       "      <th>education_year_id</th>\n",
       "      <th>first_name</th>\n",
       "      <th>gender</th>\n",
       "      <th>...</th>\n",
       "      <th>religion</th>\n",
       "      <th>user_id</th>\n",
       "      <th>work_employer_id</th>\n",
       "      <th>work_end_date</th>\n",
       "      <th>work_from_id</th>\n",
       "      <th>work_location_id</th>\n",
       "      <th>work_position_id</th>\n",
       "      <th>work_projects_id</th>\n",
       "      <th>work_start_date</th>\n",
       "      <th>work_with_id</th>\n",
       "    </tr>\n",
       "  </thead>\n",
       "  <tbody>\n",
       "    <tr>\n",
       "      <th>0</th>\n",
       "      <td>NaN</td>\n",
       "      <td>NaN</td>\n",
       "      <td>NaN</td>\n",
       "      <td>NaN</td>\n",
       "      <td>NaN</td>\n",
       "      <td>NaN</td>\n",
       "      <td>NaN</td>\n",
       "      <td>NaN</td>\n",
       "      <td>NaN</td>\n",
       "      <td>77</td>\n",
       "      <td>...</td>\n",
       "      <td>NaN</td>\n",
       "      <td>0-1</td>\n",
       "      <td>NaN</td>\n",
       "      <td>NaN</td>\n",
       "      <td>NaN</td>\n",
       "      <td>NaN</td>\n",
       "      <td>NaN</td>\n",
       "      <td>NaN</td>\n",
       "      <td>NaN</td>\n",
       "      <td>NaN</td>\n",
       "    </tr>\n",
       "    <tr>\n",
       "      <th>1</th>\n",
       "      <td>NaN</td>\n",
       "      <td>NaN</td>\n",
       "      <td>NaN</td>\n",
       "      <td>NaN</td>\n",
       "      <td>35</td>\n",
       "      <td>55</td>\n",
       "      <td>NaN</td>\n",
       "      <td>57</td>\n",
       "      <td>NaN</td>\n",
       "      <td>78</td>\n",
       "      <td>...</td>\n",
       "      <td>NaN</td>\n",
       "      <td>0-2</td>\n",
       "      <td>NaN</td>\n",
       "      <td>NaN</td>\n",
       "      <td>NaN</td>\n",
       "      <td>NaN</td>\n",
       "      <td>NaN</td>\n",
       "      <td>NaN</td>\n",
       "      <td>NaN</td>\n",
       "      <td>NaN</td>\n",
       "    </tr>\n",
       "    <tr>\n",
       "      <th>2</th>\n",
       "      <td>7</td>\n",
       "      <td>NaN</td>\n",
       "      <td>14</td>\n",
       "      <td>NaN</td>\n",
       "      <td>50</td>\n",
       "      <td>55</td>\n",
       "      <td>NaN</td>\n",
       "      <td>65</td>\n",
       "      <td>NaN</td>\n",
       "      <td>78</td>\n",
       "      <td>...</td>\n",
       "      <td>NaN</td>\n",
       "      <td>0-3</td>\n",
       "      <td>NaN</td>\n",
       "      <td>173</td>\n",
       "      <td>NaN</td>\n",
       "      <td>185</td>\n",
       "      <td>NaN</td>\n",
       "      <td>NaN</td>\n",
       "      <td>217</td>\n",
       "      <td>NaN</td>\n",
       "    </tr>\n",
       "    <tr>\n",
       "      <th>3</th>\n",
       "      <td>NaN</td>\n",
       "      <td>NaN</td>\n",
       "      <td>NaN</td>\n",
       "      <td>NaN</td>\n",
       "      <td>50</td>\n",
       "      <td>55</td>\n",
       "      <td>56</td>\n",
       "      <td>NaN</td>\n",
       "      <td>NaN</td>\n",
       "      <td>78</td>\n",
       "      <td>...</td>\n",
       "      <td>NaN</td>\n",
       "      <td>0-4</td>\n",
       "      <td>NaN</td>\n",
       "      <td>NaN</td>\n",
       "      <td>NaN</td>\n",
       "      <td>NaN</td>\n",
       "      <td>NaN</td>\n",
       "      <td>NaN</td>\n",
       "      <td>NaN</td>\n",
       "      <td>NaN</td>\n",
       "    </tr>\n",
       "    <tr>\n",
       "      <th>4</th>\n",
       "      <td>NaN</td>\n",
       "      <td>NaN</td>\n",
       "      <td>NaN</td>\n",
       "      <td>NaN</td>\n",
       "      <td>50</td>\n",
       "      <td>54</td>\n",
       "      <td>NaN</td>\n",
       "      <td>65</td>\n",
       "      <td>NaN</td>\n",
       "      <td>78</td>\n",
       "      <td>...</td>\n",
       "      <td>NaN</td>\n",
       "      <td>0-5</td>\n",
       "      <td>NaN</td>\n",
       "      <td>NaN</td>\n",
       "      <td>NaN</td>\n",
       "      <td>NaN</td>\n",
       "      <td>NaN</td>\n",
       "      <td>NaN</td>\n",
       "      <td>NaN</td>\n",
       "      <td>NaN</td>\n",
       "    </tr>\n",
       "  </tbody>\n",
       "</table>\n",
       "<p>5 rows × 29 columns</p>\n",
       "</div>"
      ],
      "text/plain": [
       "   birthday  education_classes_id  education_concentration_id  \\\n",
       "0       NaN                   NaN                         NaN   \n",
       "1       NaN                   NaN                         NaN   \n",
       "2         7                   NaN                          14   \n",
       "3       NaN                   NaN                         NaN   \n",
       "4       NaN                   NaN                         NaN   \n",
       "\n",
       "   education_degree_id  education_school_id  education_type  \\\n",
       "0                  NaN                  NaN             NaN   \n",
       "1                  NaN                   35              55   \n",
       "2                  NaN                   50              55   \n",
       "3                  NaN                   50              55   \n",
       "4                  NaN                   50              54   \n",
       "\n",
       "   education_with_id  education_year_id  first_name  gender      ...       \\\n",
       "0                NaN                NaN         NaN      77      ...        \n",
       "1                NaN                 57         NaN      78      ...        \n",
       "2                NaN                 65         NaN      78      ...        \n",
       "3                 56                NaN         NaN      78      ...        \n",
       "4                NaN                 65         NaN      78      ...        \n",
       "\n",
       "   religion  user_id  work_employer_id  work_end_date  work_from_id  \\\n",
       "0       NaN      0-1               NaN            NaN           NaN   \n",
       "1       NaN      0-2               NaN            NaN           NaN   \n",
       "2       NaN      0-3               NaN            173           NaN   \n",
       "3       NaN      0-4               NaN            NaN           NaN   \n",
       "4       NaN      0-5               NaN            NaN           NaN   \n",
       "\n",
       "   work_location_id  work_position_id  work_projects_id  work_start_date  \\\n",
       "0               NaN               NaN               NaN              NaN   \n",
       "1               NaN               NaN               NaN              NaN   \n",
       "2               185               NaN               NaN              217   \n",
       "3               NaN               NaN               NaN              NaN   \n",
       "4               NaN               NaN               NaN              NaN   \n",
       "\n",
       "   work_with_id  \n",
       "0           NaN  \n",
       "1           NaN  \n",
       "2           NaN  \n",
       "3           NaN  \n",
       "4           NaN  \n",
       "\n",
       "[5 rows x 29 columns]"
      ]
     },
     "execution_count": 335,
     "metadata": {},
     "output_type": "execute_result"
    }
   ],
   "source": [
    "user_df.head(5)"
   ]
  },
  {
   "cell_type": "code",
   "execution_count": 336,
   "metadata": {
    "collapsed": false
   },
   "outputs": [
    {
     "data": {
      "text/plain": [
       "Index(['birthday', 'education_classes_id', 'education_concentration_id',\n",
       "       'education_degree_id', 'education_school_id', 'education_type',\n",
       "       'education_with_id', 'education_year_id', 'first_name', 'gender',\n",
       "       'hometown_id', 'languages_id', 'last_name', 'locale', 'location_id',\n",
       "       'middle_name', 'name', 'num_filled_feature', 'political', 'religion',\n",
       "       'user_id', 'work_employer_id', 'work_end_date', 'work_from_id',\n",
       "       'work_location_id', 'work_position_id', 'work_projects_id',\n",
       "       'work_start_date', 'work_with_id'],\n",
       "      dtype='object')"
      ]
     },
     "execution_count": 336,
     "metadata": {},
     "output_type": "execute_result"
    }
   ],
   "source": [
    "user_df.columns"
   ]
  },
  {
   "cell_type": "code",
   "execution_count": 340,
   "metadata": {
    "collapsed": true
   },
   "outputs": [],
   "source": [
    "ordered_feats = [\"user_id\", \"num_filled_feature\"] + [f for f in user_df.columns if f not in [\"user_id\", \"num_filled_feature\"]]"
   ]
  },
  {
   "cell_type": "code",
   "execution_count": 341,
   "metadata": {
    "collapsed": false
   },
   "outputs": [],
   "source": [
    "user_df = user_df[ordered_feats]"
   ]
  },
  {
   "cell_type": "code",
   "execution_count": 343,
   "metadata": {
    "collapsed": false
   },
   "outputs": [],
   "source": [
    "user_df.to_csv(path.join(data_dir, \"processed\", \"user_profile.csv\"), header=True, index=False, sep=',')"
   ]
  },
  {
   "cell_type": "code",
   "execution_count": 346,
   "metadata": {
    "collapsed": false
   },
   "outputs": [
    {
     "data": {
      "text/plain": [
       "<matplotlib.axes._subplots.AxesSubplot at 0xf25eda0>"
      ]
     },
     "execution_count": 346,
     "metadata": {},
     "output_type": "execute_result"
    },
    {
     "data": {
      "image/png": "[encoded data removed]",
      "text/plain": [
       "<matplotlib.figure.Figure at 0xf240f28>"
      ]
     },
     "metadata": {},
     "output_type": "display_data"
    }
   ],
   "source": [
    "user_df.num_filled_feature.hist(bins=20)"
   ]
  },
  {
   "cell_type": "code",
   "execution_count": null,
   "metadata": {
    "collapsed": true
   },
   "outputs": [],
   "source": []
  }
 ],
 "metadata": {
  "kernelspec": {
   "display_name": "Python 3",
   "language": "python",
   "name": "python3"
  },
  "language_info": {
   "codemirror_mode": {
    "name": "ipython",
    "version": 3
   },
   "file_extension": ".py",
   "mimetype": "text/x-python",
   "name": "python",
   "nbconvert_exporter": "python",
   "pygments_lexer": "ipython3",
   "version": "3.5.0"
  }
 },
 "nbformat": 4,
 "nbformat_minor": 0
}
